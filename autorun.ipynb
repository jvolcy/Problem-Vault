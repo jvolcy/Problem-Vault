{
 "cells": [
  {
   "cell_type": "code",
   "execution_count": 5,
   "metadata": {},
   "outputs": [
    {
     "data": {
      "text/html": [
       "\n",
       "        <iframe\n",
       "            width=\"100%\"\n",
       "            height=\"600\"\n",
       "            src=\"https://drive.google.com/open?id=1OP8AMmlpSOMyaE0e9F4bVVfbCwZ1Km83ct9Ap-V2tz4\"\n",
       "            frameborder=\"0\"\n",
       "            allowfullscreen\n",
       "        ></iframe>\n",
       "        "
      ],
      "text/plain": [
       "<IPython.lib.display.IFrame at 0x10b2d9128>"
      ]
     },
     "execution_count": 5,
     "metadata": {},
     "output_type": "execute_result"
    }
   ],
   "source": [
    "from IPython.display import IFrame\n",
    "IFrame(src='https://drive.google.com/open?id=1OP8AMmlpSOMyaE0e9F4bVVfbCwZ1Km83ct9Ap-V2tz4', width='100%', height='600')"
   ]
  },
  {
   "cell_type": "code",
   "execution_count": 1,
   "metadata": {},
   "outputs": [
    {
     "data": {
      "text/html": [
       "\n",
       "        <iframe\n",
       "            width=\"100%\"\n",
       "            height=\"600\"\n",
       "            src=\"https://docs.google.com/document/d/e/2PACX-1vSbp1RoSMKDk3w1s1btT3SkyRug_VNysbAsDcggVs-Adc_9sD2e1tyHGgka-6olNLCflgxZZQbfgScZ/pub?embedded=true\"\n",
       "            frameborder=\"0\"\n",
       "            allowfullscreen\n",
       "        ></iframe>\n",
       "        "
      ],
      "text/plain": [
       "<IPython.lib.display.IFrame at 0x1031b0cc0>"
      ]
     },
     "execution_count": 1,
     "metadata": {},
     "output_type": "execute_result"
    }
   ],
   "source": [
    "from IPython.display import IFrame\n",
    "IFrame(src='https://docs.google.com/document/d/e/2PACX-1vSbp1RoSMKDk3w1s1btT3SkyRug_VNysbAsDcggVs-Adc_9sD2e1tyHGgka-6olNLCflgxZZQbfgScZ/pub?embedded=true', width='100%', height='600')"
   ]
  },
  {
   "cell_type": "markdown",
   "metadata": {
    "jupyter": {
     "source_hidden": true
    }
   },
   "source": [
    "<iframe src=\"https://docs.google.com/document/d/e/2PACX-1vSbp1RoSMKDk3w1s1btT3SkyRug_VNysbAsDcggVs-Adc_9sD2e1tyHGgka-6olNLCflgxZZQbfgScZ/pub?embedded=true\"></iframe>"
   ]
  },
  {
   "cell_type": "code",
   "execution_count": 7,
   "metadata": {},
   "outputs": [
    {
     "data": {
      "text/html": [
       "<iframe src=\"https://drive.google.com/open?id=1OP8AMmlpSOMyaE0e9F4bVVfbCwZ1Km83ct9Ap-V2tz4/pub?embedded=true\" width=\"100%\" height=\"600\"></iframe>\n"
      ],
      "text/plain": [
       "<IPython.core.display.HTML object>"
      ]
     },
     "metadata": {},
     "output_type": "display_data"
    }
   ],
   "source": [
    "%%html\n",
    "<iframe src=\"https://drive.google.com/open?id=1OP8AMmlpSOMyaE0e9F4bVVfbCwZ1Km83ct9Ap-V2tz4/pub?embedded=true\" width=\"100%\" height=\"600\"></iframe>"
   ]
  },
  {
   "cell_type": "code",
   "execution_count": 10,
   "metadata": {
    "jupyter": {
     "source_hidden": true
    }
   },
   "outputs": [
    {
     "data": {
      "text/html": [
       "<iframe src=\"https://docs.google.com/document/d/e/2PACX-1vSPbPqusxh82hUpd80tlFDVV9KnkvjVcGtbor4i4ecYJyF3WoQHSJmaB2Lgkmgeusxxs9v0tYVH2O8b/pub?embedded=true\" width=\"100%\" height=\"600\"></iframe>\n"
      ],
      "text/plain": [
       "<IPython.core.display.HTML object>"
      ]
     },
     "metadata": {},
     "output_type": "display_data"
    }
   ],
   "source": [
    "%%html\n",
    "<iframe src=\"https://docs.google.com/document/d/e/2PACX-1vSPbPqusxh82hUpd80tlFDVV9KnkvjVcGtbor4i4ecYJyF3WoQHSJmaB2Lgkmgeusxxs9v0tYVH2O8b/pub?embedded=true\" width=\"100%\" height=\"600\"></iframe>"
   ]
  },
  {
   "cell_type": "code",
   "execution_count": null,
   "metadata": {},
   "outputs": [],
   "source": []
  }
 ],
 "metadata": {
  "kernelspec": {
   "display_name": "Python 3",
   "language": "python",
   "name": "python3"
  },
  "language_info": {
   "codemirror_mode": {
    "name": "ipython",
    "version": 3
   },
   "file_extension": ".py",
   "mimetype": "text/x-python",
   "name": "python",
   "nbconvert_exporter": "python",
   "pygments_lexer": "ipython3",
   "version": "3.6.8"
  }
 },
 "nbformat": 4,
 "nbformat_minor": 4
}
