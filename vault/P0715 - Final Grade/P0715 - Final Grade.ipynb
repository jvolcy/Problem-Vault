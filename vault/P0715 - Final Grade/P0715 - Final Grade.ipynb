
{
 "cells": [
  {
   "cell_type": "markdown",
   "metadata": {
    "deletable": false,
    "editable": false,
    "spelmanCs": {
     "problemDesc": "Final Grade",
     "problemId": "P0715",
     "type": "problemStatement",
     "data": ""
    }
   },
   "source": [
    "<html>",
"<head><meta content=\"text/html; charset=utf-8\" http-equiv=\"content-type\"/></head>",
"<body bgcolor=\"#ffffff\" style=\"background-color:#fff; max-width:468pt; padding:54pt 72pt 54pt 72pt; \">",
"<p align=\"left\" style='color:#000; font-family:\"Cambria\"; font-size:12pt; margin:0; line-height:1; padding-bottom:0; padding-top:0; text-align:right; '><span style=\"overflow:hidden; display:inline; margin:0.00px 0.00px; border:0.00px solid #000000; width:243.33px; \"><img align=\"right\" alt=\"CS Logo\" src=\"../images/cs_logo.png\" style=\"width:243.33px; margin:10px; \"/><br/><br/></span></p>",
"<p align=\"left\" style='color:#000; font-family:\"Cambria\"; font-size:16pt; margin:0; line-height:1; padding-bottom:0; padding-top:0; text-align:left; page-break-after:avoid; font-weight:700; '><span>P0715</span><span style='color:#000; font-family:\"Cambria\"; font-size:16pt; font-weight:700; font-style:normal; text-decoration:none; vertical-align:baseline; ' valign=\"baseline\">&nbsp;- Final Grade</span></p>",
"<p align=\"left\" style='color:#000; font-family:\"Cambria\"; font-size:12pt; margin:0; line-height:1; padding-bottom:0; padding-top:0; text-align:left; '><span style='color:#000; font-family:\"Cambria\"; font-size:9pt; font-style:normal; font-weight:700; text-decoration:none; vertical-align:baseline; ' valign=\"baseline\">JVolcy</span></p>",
"<br/>",
"<br/>",
"<br/>",
"<p align=\"left\" style='color:#000; font-family:\"Cambria\"; font-size:12pt; margin:0; line-height:1; padding-bottom:0; padding-top:0; text-align:left; '><span style='color:#000; font-size:12pt; font-style:normal; text-decoration:none; vertical-align:baseline; font-family:\"Cambria\"; font-weight:400; ' valign=\"baseline\">A certain CS course stratified letter grades according to the following table:</span></p>",
"<br/>",
"<br/>",
"<a id=\"t.e81d505b7e3b9113cfdc5a705591d9399a0718c7\"></a><a id=\"t.0\"></a><table style=\"border-collapse:collapse; border-spacing:0; margin-left:62.7pt; margin-right:auto; \"><tbody>",
"<tr height=\"0\" style=\"height:0; \">",
"<td bgcolor=\"#dbeef3\" colspan=\"1\" rowspan=\"1\" style=\"padding:0 5.8pt 0 5.8pt; vertical-align:top; width:72.9pt; background-color:#dbeef3; border-color:#000; border-width:1pt; border-style:solid; \" valign=\"top\" width=\"72.9pt\"><p align=\"center\" style='color:#000; font-family:\"Cambria\"; font-size:12pt; margin:0; line-height:1; padding-bottom:0; padding-top:0; text-align:center; '><span style='color:#000; font-family:\"Calibri\"; font-size:12pt; font-style:normal; font-weight:400; text-decoration:none; vertical-align:baseline; ' valign=\"baseline\">Numeric </span></p></td>",
"<td bgcolor=\"#dbeef3\" colspan=\"1\" rowspan=\"1\" style=\"padding:0 5.8pt 0 5.8pt; vertical-align:top; width:58.5pt; background-color:#dbeef3; border-color:#000; border-width:1pt; border-style:solid; \" valign=\"top\" width=\"58.5pt\"><p align=\"center\" style='color:#000; font-family:\"Cambria\"; font-size:12pt; margin:0; line-height:1; padding-bottom:0; padding-top:0; text-align:center; '><span style='color:#000; font-family:\"Calibri\"; font-size:12pt; font-style:normal; font-weight:400; text-decoration:none; vertical-align:baseline; ' valign=\"baseline\">Letter </span></p></td>",
"<td colspan=\"1\" rowspan=\"6\" style=\"padding:0 5.8pt 0 5.8pt; border-bottom-width:0; border-left-width:1pt; border-right-width:1pt; border-top-width:0; vertical-align:top; width:11.8pt; border-color:#000; border-style:solid; \" valign=\"top\" width=\"11.8pt\"><br/></td>",
"<td bgcolor=\"#dbeef3\" colspan=\"1\" rowspan=\"1\" style=\"padding:0 5.8pt 0 5.8pt; vertical-align:top; width:58.5pt; background-color:#dbeef3; border-color:#000; border-width:1pt; border-style:solid; \" valign=\"top\" width=\"58.5pt\"><p align=\"center\" style='color:#000; font-family:\"Cambria\"; font-size:12pt; margin:0; line-height:1; padding-bottom:0; padding-top:0; text-align:center; '><span style='color:#000; font-family:\"Calibri\"; font-size:12pt; font-style:normal; font-weight:400; text-decoration:none; vertical-align:baseline; ' valign=\"baseline\">Numeric </span></p></td>",
"<td bgcolor=\"#dbeef3\" colspan=\"1\" rowspan=\"1\" style=\"padding:0 5.8pt 0 5.8pt; vertical-align:top; width:58.5pt; background-color:#dbeef3; border-color:#000; border-width:1pt; border-style:solid; \" valign=\"top\" width=\"58.5pt\"><p align=\"center\" style='color:#000; font-family:\"Cambria\"; font-size:12pt; margin:0; line-height:1; padding-bottom:0; padding-top:0; text-align:center; '><span style='color:#000; font-family:\"Calibri\"; font-size:12pt; font-style:normal; font-weight:400; text-decoration:none; vertical-align:baseline; ' valign=\"baseline\">Letter </span></p></td>",
"</tr>",
"<tr height=\"0\" style=\"height:0; \">",
"<td colspan=\"1\" rowspan=\"1\" style=\"padding:0 5.8pt 0 5.8pt; vertical-align:top; width:72.9pt; border-color:#000; border-width:1pt; border-style:solid; \" valign=\"top\" width=\"72.9pt\"><p align=\"center\" style='color:#000; font-family:\"Cambria\"; font-size:12pt; margin:0; line-height:1; padding-bottom:0; padding-top:0; text-align:center; '><span style='font-family:\"Calibri\"; font-weight:400; '>9</span><span style='font-family:\"Calibri\"; font-weight:400; '>3</span><span style='color:#000; font-family:\"Calibri\"; font-size:12pt; font-style:normal; font-weight:400; text-decoration:none; vertical-align:baseline; ' valign=\"baseline\">&nbsp;- 100 </span></p></td>",
"<td colspan=\"1\" rowspan=\"1\" style=\"padding:0 5.8pt 0 5.8pt; vertical-align:top; width:58.5pt; border-color:#000; border-width:1pt; border-style:solid; \" valign=\"top\" width=\"58.5pt\"><p align=\"center\" style='color:#000; font-family:\"Cambria\"; font-size:12pt; margin:0; line-height:1; padding-bottom:0; padding-top:0; text-align:center; '><span style='color:#000; font-family:\"Calibri\"; font-size:12pt; font-style:normal; font-weight:400; text-decoration:none; vertical-align:baseline; ' valign=\"baseline\">A </span></p></td>",
"<td colspan=\"1\" rowspan=\"1\" style=\"padding:0 5.8pt 0 5.8pt; vertical-align:top; width:58.5pt; border-color:#000; border-width:1pt; border-style:solid; \" valign=\"top\" width=\"58.5pt\"><p align=\"center\" style='color:#000; font-family:\"Cambria\"; font-size:12pt; margin:0; line-height:1; padding-bottom:0; padding-top:0; text-align:center; '><span style='font-family:\"Calibri\"; font-weight:400; '>7</span><span style='font-family:\"Calibri\"; font-weight:400; '>7</span><span style='color:#000; font-family:\"Calibri\"; font-size:12pt; font-style:normal; font-weight:400; text-decoration:none; vertical-align:baseline; ' valign=\"baseline\">&nbsp;- 79 </span></p></td>",
"<td colspan=\"1\" rowspan=\"1\" style=\"padding:0 5.8pt 0 5.8pt; vertical-align:top; width:58.5pt; border-color:#000; border-width:1pt; border-style:solid; \" valign=\"top\" width=\"58.5pt\"><p align=\"center\" style='color:#000; font-family:\"Cambria\"; font-size:12pt; margin:0; line-height:1; padding-bottom:0; padding-top:0; text-align:center; '><span style='color:#000; font-family:\"Calibri\"; font-size:12pt; font-style:normal; font-weight:400; text-decoration:none; vertical-align:baseline; ' valign=\"baseline\">C+ </span></p></td>",
"</tr>",
"<tr height=\"0\" style=\"height:0; \">",
"<td colspan=\"1\" rowspan=\"1\" style=\"padding:0 5.8pt 0 5.8pt; vertical-align:top; width:72.9pt; border-color:#000; border-width:1pt; border-style:solid; \" valign=\"top\" width=\"72.9pt\"><p align=\"center\" style='color:#000; font-family:\"Cambria\"; font-size:12pt; margin:0; line-height:1; padding-bottom:0; padding-top:0; text-align:center; '><span style='color:#000; font-family:\"Calibri\"; font-size:12pt; font-style:normal; font-weight:400; text-decoration:none; vertical-align:baseline; ' valign=\"baseline\">90 – 92 </span></p></td>",
"<td colspan=\"1\" rowspan=\"1\" style=\"padding:0 5.8pt 0 5.8pt; vertical-align:top; width:58.5pt; border-color:#000; border-width:1pt; border-style:solid; \" valign=\"top\" width=\"58.5pt\"><p align=\"center\" style='color:#000; font-family:\"Cambria\"; font-size:12pt; margin:0; line-height:1; padding-bottom:0; padding-top:0; text-align:center; '><span style='color:#000; font-family:\"Calibri\"; font-size:12pt; font-style:normal; font-weight:400; text-decoration:none; vertical-align:baseline; ' valign=\"baseline\">A- </span></p></td>",
"<td colspan=\"1\" rowspan=\"1\" style=\"padding:0 5.8pt 0 5.8pt; vertical-align:top; width:58.5pt; border-color:#000; border-width:1pt; border-style:solid; \" valign=\"top\" width=\"58.5pt\"><p align=\"center\" style='color:#000; font-family:\"Cambria\"; font-size:12pt; margin:0; line-height:1; padding-bottom:0; padding-top:0; text-align:center; '><span style='color:#000; font-family:\"Calibri\"; font-size:12pt; font-style:normal; font-weight:400; text-decoration:none; vertical-align:baseline; ' valign=\"baseline\">70 - 76 </span></p></td>",
"<td colspan=\"1\" rowspan=\"1\" style=\"padding:0 5.8pt 0 5.8pt; vertical-align:top; width:58.5pt; border-color:#000; border-width:1pt; border-style:solid; \" valign=\"top\" width=\"58.5pt\"><p align=\"center\" style='color:#000; font-family:\"Cambria\"; font-size:12pt; margin:0; line-height:1; padding-bottom:0; padding-top:0; text-align:center; '><span style='color:#000; font-family:\"Calibri\"; font-size:12pt; font-style:normal; font-weight:400; text-decoration:none; vertical-align:baseline; ' valign=\"baseline\">C </span></p></td>",
"</tr>",
"<tr height=\"0\" style=\"height:0; \">",
"<td colspan=\"1\" rowspan=\"1\" style=\"padding:0 5.8pt 0 5.8pt; vertical-align:top; width:72.9pt; border-color:#000; border-width:1pt; border-style:solid; \" valign=\"top\" width=\"72.9pt\"><p align=\"center\" style='color:#000; font-family:\"Cambria\"; font-size:12pt; margin:0; line-height:1; padding-bottom:0; padding-top:0; text-align:center; '><span style='font-family:\"Calibri\"; font-weight:400; '>87 - 89 </span></p></td>",
"<td colspan=\"1\" rowspan=\"1\" style=\"padding:0 5.8pt 0 5.8pt; vertical-align:top; width:58.5pt; border-color:#000; border-width:1pt; border-style:solid; \" valign=\"top\" width=\"58.5pt\"><p align=\"center\" style='color:#000; font-family:\"Cambria\"; font-size:12pt; margin:0; line-height:1; padding-bottom:0; padding-top:0; text-align:center; '><span style='font-family:\"Calibri\"; font-weight:400; '>B+ </span></p></td>",
"<td colspan=\"1\" rowspan=\"1\" style=\"padding:0 5.8pt 0 5.8pt; vertical-align:top; width:58.5pt; border-color:#000; border-width:1pt; border-style:solid; \" valign=\"top\" width=\"58.5pt\"><p align=\"center\" style='color:#000; font-family:\"Cambria\"; font-size:12pt; margin:0; line-height:1; padding-bottom:0; padding-top:0; text-align:center; '><span style='font-family:\"Calibri\"; font-weight:400; '>60 - 69 </span></p></td>",
"<td colspan=\"1\" rowspan=\"1\" style=\"padding:0 5.8pt 0 5.8pt; vertical-align:top; width:58.5pt; border-color:#000; border-width:1pt; border-style:solid; \" valign=\"top\" width=\"58.5pt\"><p align=\"center\" style='color:#000; font-family:\"Cambria\"; font-size:12pt; margin:0; line-height:1; padding-bottom:0; padding-top:0; text-align:center; '><span style='font-family:\"Calibri\"; font-weight:400; '>D </span></p></td>",
"</tr>",
"<tr height=\"0\" style=\"height:0; \">",
"<td colspan=\"1\" rowspan=\"1\" style=\"padding:0 5.8pt 0 5.8pt; vertical-align:top; width:72.9pt; border-color:#000; border-width:1pt; border-style:solid; \" valign=\"top\" width=\"72.9pt\"><p align=\"center\" style='color:#000; font-family:\"Cambria\"; font-size:12pt; margin:0; line-height:1; padding-bottom:0; padding-top:0; text-align:center; '><span style='color:#000; font-family:\"Calibri\"; font-size:12pt; font-style:normal; font-weight:400; text-decoration:none; vertical-align:baseline; ' valign=\"baseline\">83 - 86 </span></p></td>",
"<td colspan=\"1\" rowspan=\"1\" style=\"padding:0 5.8pt 0 5.8pt; vertical-align:top; width:58.5pt; border-color:#000; border-width:1pt; border-style:solid; \" valign=\"top\" width=\"58.5pt\"><p align=\"center\" style='color:#000; font-family:\"Cambria\"; font-size:12pt; margin:0; line-height:1; padding-bottom:0; padding-top:0; text-align:center; '><span style='color:#000; font-family:\"Calibri\"; font-size:12pt; font-style:normal; font-weight:400; text-decoration:none; vertical-align:baseline; ' valign=\"baseline\">B </span></p></td>",
"<td colspan=\"1\" rowspan=\"1\" style=\"padding:0 5.8pt 0 5.8pt; vertical-align:top; width:58.5pt; border-color:#000; border-width:1pt; border-style:solid; \" valign=\"top\" width=\"58.5pt\"><p align=\"center\" style='color:#000; font-family:\"Cambria\"; font-size:12pt; margin:0; line-height:1; padding-bottom:0; padding-top:0; text-align:center; '><span style='color:#000; font-family:\"Calibri\"; font-size:12pt; font-style:normal; font-weight:400; text-decoration:none; vertical-align:baseline; ' valign=\"baseline\">&lt; 60 </span></p></td>",
"<td colspan=\"1\" rowspan=\"1\" style=\"padding:0 5.8pt 0 5.8pt; vertical-align:top; width:58.5pt; border-color:#000; border-width:1pt; border-style:solid; \" valign=\"top\" width=\"58.5pt\"><p align=\"center\" style='color:#000; font-family:\"Cambria\"; font-size:12pt; margin:0; line-height:1; padding-bottom:0; padding-top:0; text-align:center; '><span style='color:#000; font-family:\"Calibri\"; font-size:12pt; font-style:normal; font-weight:400; text-decoration:none; vertical-align:baseline; ' valign=\"baseline\">F </span></p></td>",
"</tr>",
"<tr height=\"0\" style=\"height:0; \">",
"<td colspan=\"1\" rowspan=\"1\" style=\"padding:0 5.8pt 0 5.8pt; vertical-align:top; width:72.9pt; border-color:#000; border-width:1pt; border-style:solid; \" valign=\"top\" width=\"72.9pt\"><p align=\"center\" style='color:#000; font-family:\"Cambria\"; font-size:12pt; margin:0; line-height:1; padding-bottom:0; padding-top:0; text-align:center; '><span style='color:#000; font-family:\"Calibri\"; font-size:12pt; font-style:normal; font-weight:400; text-decoration:none; vertical-align:baseline; ' valign=\"baseline\">80 – 82 </span></p></td>",
"<td colspan=\"1\" rowspan=\"1\" style=\"padding:0 5.8pt 0 5.8pt; vertical-align:top; width:58.5pt; border-color:#000; border-width:1pt; border-style:solid; \" valign=\"top\" width=\"58.5pt\"><p align=\"center\" style='color:#000; font-family:\"Cambria\"; font-size:12pt; margin:0; line-height:1; padding-bottom:0; padding-top:0; text-align:center; '><span style='color:#000; font-family:\"Calibri\"; font-size:12pt; font-style:normal; font-weight:400; text-decoration:none; vertical-align:baseline; ' valign=\"baseline\">B- </span></p></td>",
"<td colspan=\"1\" rowspan=\"1\" style=\"padding:0 5.8pt 0 5.8pt; vertical-align:top; width:58.5pt; border-color:#000; border-width:1pt; border-style:solid; \" valign=\"top\" width=\"58.5pt\"><br/></td>",
"<td colspan=\"1\" rowspan=\"1\" style=\"padding:0 5.8pt 0 5.8pt; vertical-align:top; width:58.5pt; border-color:#000; border-width:1pt; border-style:solid; \" valign=\"top\" width=\"58.5pt\"><br/></td>",
"</tr>",
"</tbody></table>",
"<br/>",
"<br/>",
"<p align=\"left\" style='color:#000; font-family:\"Cambria\"; font-size:12pt; margin:0; line-height:1; padding-bottom:0; padding-top:0; text-align:left; '><span>The final exam for this course counts for 20% of the course grade. &nbsp;Students entering the final exam know their numeric grades and wish to know how the final will affect their course grade. &nbsp;Write a program to help them determine what their course letter grade will be if they score 100, 75 and 40 on the final. &nbsp;If we designate the student’s grade going into the final as </span><span style='font-family:\"Courier New\"; font-weight:400; '>preFinalGrade</span><span>, then the formula for calculating the numeric course grade, </span><span style='font-family:\"Courier New\"; font-weight:400; '>courseGrade</span><span>, based on the final exam grade, </span><span style='font-family:\"Courier New\"; font-weight:400; '>finalExamGrade</span><span style='color:#000; font-size:12pt; font-style:normal; text-decoration:none; vertical-align:baseline; font-family:\"Cambria\"; font-weight:400; ' valign=\"baseline\">, is</span></p>",
"<br/>",
"<p align=\"left\" style='color:#000; font-family:\"Cambria\"; font-size:12pt; margin:0; line-height:1; padding-bottom:0; padding-top:0; text-align:left; '><span style='color:#000; font-size:12pt; font-style:normal; text-decoration:none; vertical-align:baseline; font-family:\"Courier New\"; font-weight:400; ' valign=\"baseline\">courseGrade = 0.8*preFinalGrade + 0.2*finalExamGrade</span></p>",
"<br/>",
"<p align=\"left\" style='color:#000; font-family:\"Cambria\"; font-size:12pt; margin:0; line-height:1; padding-bottom:0; padding-top:0; text-align:left; '><span style='color:#000; font-size:12pt; font-style:normal; text-decoration:none; vertical-align:baseline; font-family:\"Cambria\"; font-weight:400; ' valign=\"baseline\">Here is an example session of how the program should work:</span></p>",
"<br/>",
"<br/>",
"<p align=\"left\" style='color:#000; font-family:\"Cambria\"; font-size:12pt; margin:0; line-height:1; padding-bottom:0; padding-top:0; text-align:left; '><span style='font-family:\"Courier New\"; font-weight:400; '>What is your current grade (0-100)? : &nbsp;</span><span style='color:#000; font-size:12pt; font-style:normal; text-decoration:none; vertical-align:baseline; font-family:\"Courier New\"; font-weight:700; ' valign=\"baseline\">88</span></p>",
"<p align=\"left\" style='color:#000; font-family:\"Cambria\"; font-size:12pt; margin:0; line-height:1; padding-bottom:0; padding-top:0; text-align:left; '><span style='color:#000; font-size:12pt; font-style:normal; text-decoration:none; vertical-align:baseline; font-family:\"Courier New\"; font-weight:400; ' valign=\"baseline\">If you score 100 on the final, your course grade will be: A-</span></p>",
"<p align=\"left\" style='color:#000; font-family:\"Cambria\"; font-size:12pt; margin:0; line-height:1; padding-bottom:0; padding-top:0; text-align:left; '><span style='color:#000; font-size:12pt; font-style:normal; text-decoration:none; vertical-align:baseline; font-family:\"Courier New\"; font-weight:400; ' valign=\"baseline\">If you score 75 on the final, your course grade will be: B</span></p>",
"<p align=\"left\" style='color:#000; font-family:\"Cambria\"; font-size:12pt; margin:0; line-height:1; padding-bottom:0; padding-top:0; text-align:left; '><span style='color:#000; font-size:12pt; font-style:normal; text-decoration:none; vertical-align:baseline; font-family:\"Courier New\"; font-weight:400; ' valign=\"baseline\">If you score 40 on the final, your course grade will be: C+</span></p>",
"<br/>",
"<br/>",
"<p align=\"left\" style='color:#000; font-family:\"Cambria\"; font-size:12pt; margin:0; line-height:1; padding-bottom:0; padding-top:0; text-align:left; '><span>You should create a function that calculates </span><span style='font-family:\"Courier New\"; font-weight:400; '>courseGrade</span><span>&nbsp;given </span><span style='font-family:\"Courier New\"; font-weight:400; '>preFinalGrade</span><span>&nbsp;and </span><span style='font-family:\"Courier New\"; font-weight:400; '>finalExamGrade</span><span style='color:#000; font-size:12pt; font-style:normal; text-decoration:none; vertical-align:baseline; font-family:\"Cambria\"; font-weight:400; ' valign=\"baseline\">. &nbsp;You should also create a function that calculates the letter grade given a numeric grade.</span></p>",
"<br/>",
"<div>",
"<br/>",
"<p align=\"left\" style='color:#000; font-family:\"Cambria\"; font-size:12pt; margin:0; line-height:1; margin-right:18pt; padding-bottom:36pt; padding-top:0; text-align:left; '><span style='color:#999; font-size:10pt; font-family:\"Cambria\"; font-weight:400; '>Spelman College </span><span style=\"color:#999; font-size:10pt; \">&nbsp; </span><span style='font-style:normal; text-decoration:none; vertical-align:baseline; color:#999; font-size:10pt; font-family:\"Cambria\"; font-weight:400; ' valign=\"baseline\">– &nbsp; Computer and Information Sciences</span></p>",
"</div>",
"</body>",
"</html>",
"",
""
   ]
  },
  {
   "cell_type": "code",
   "execution_count": null,
   "metadata": {
    "deletable": false,
    "editable": true,
    "spelmanCs": {
     "type": "studentSolution"
    }
   },
   "outputs": [],
   "source": [
    "# Add your code here"
   ]
  }
 ],
 "metadata": {
  "kernelspec": {
   "display_name": "Python 3",
   "language": "python",
   "name": "python3"
  },
  "language_info": {
   "codemirror_mode": {
    "name": "ipython",
    "version": 3
   },
   "file_extension": ".py",
   "mimetype": "text/x-python",
   "name": "python",
   "nbconvert_exporter": "python",
   "pygments_lexer": "ipython3",
   "version": "3.6.2"
  },
   "spelmanCs": {
    "version": "1"
   }
 },
 "nbformat": 4,
 "nbformat_minor": 4
}
