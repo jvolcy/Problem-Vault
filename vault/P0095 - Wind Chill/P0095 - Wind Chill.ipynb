
{
 "cells": [
  {
   "cell_type": "markdown",
   "metadata": {
    "deletable": false,
    "editable": false,
    "spelmanCs": {
     "problemDesc": "Wind Chill",
     "problemId": "P0095",
     "type": "problemStatement",
     "data": ""
    }
   },
   "source": [
    "<html>",
"<head><meta content=\"text/html; charset=utf-8\" http-equiv=\"content-type\"/></head>",
"<body bgcolor=\"#ffffff\" style=\"background-color:#fff; max-width:468pt; padding:54pt 72pt 54pt 72pt; \">",
"<p align=\"left\" style='color:#000; font-family:\"Cambria\"; font-size:12pt; margin:0; line-height:1; padding-bottom:0; padding-top:0; text-align:right; '><span style=\"overflow:hidden; display:inline; margin:0.00px 0.00px; border:0.00px solid #000000; width:243.33px; \"><img align=\"right\" alt=\"CS Logo (no bg).png\" src=\"../images/cs_logo.png\" style=\"width:243.33px; margin:10px; \"/><br/><br/></span></p>",
"<p align=\"left\" style='color:#000; font-family:\"Cambria\"; font-size:16pt; margin:0; line-height:1; padding-bottom:0; padding-top:0; page-break-after:avoid; text-align:left; font-weight:700; '><span>P0095</span><span>&nbsp;- Wind Chill</span></p>",
"<p align=\"left\" style='color:#000; font-family:\"Cambria\"; font-size:12pt; margin:0; line-height:1; padding-bottom:0; padding-top:0; text-align:left; '><span style='color:#000; font-family:\"Cambria\"; font-size:9pt; font-style:normal; font-weight:700; text-decoration:none; vertical-align:baseline; ' valign=\"baseline\">JVolcy</span></p>",
"<br/>",
"<br/>",
"<br/>",
"<p align=\"left\" style='color:#000; font-family:\"Cambria\"; font-size:12pt; margin:0; line-height:1.15; padding-bottom:0; padding-top:0; text-align:left; '><span>The wind chill refers to the effective temperature of the winter cold on the skin. &nbsp;It is calculated from the air temperature, </span><span style=\"font-style:italic; \">AT</span><span>, in degrees F, &nbsp;and the wind speed, </span><span style=\"font-style:italic; \">WS</span><span style='color:#000; font-family:\"Cambria\"; font-size:12pt; font-style:normal; font-weight:400; text-decoration:none; vertical-align:baseline; ' valign=\"baseline\">, in mph using the equation</span></p>",
"<p align=\"left\" style='color:#000; font-family:\"Cambria\"; font-size:12pt; margin:0; line-height:1.15; padding-bottom:0; padding-top:0; text-align:left; '><span style='color:#000; font-family:\"Cambria\"; font-size:12pt; font-style:normal; font-weight:400; text-decoration:none; vertical-align:baseline; ' valign=\"baseline\">&nbsp;&nbsp;&nbsp;&nbsp;&nbsp;&nbsp;&nbsp;&nbsp;</span></p>",
"<p align=\"left\" style='color:#000; font-family:\"Cambria\"; font-size:12pt; margin:0; line-height:1.15; padding-bottom:0; padding-top:0; text-align:left; '><img src=\"images/image1.png\"/></p>",
"<br/>",
"<br/>",
"<p align=\"left\" style='color:#000; font-family:\"Cambria\"; font-size:12pt; margin:0; line-height:1.15; padding-bottom:0; padding-top:0; text-align:left; '><span>This equation is valid only for </span><span style=\"font-style:italic; \">AT</span><span style='color:#000; font-family:\"Cambria\"; font-size:12pt; font-style:normal; font-weight:400; text-decoration:none; vertical-align:baseline; ' valign=\"baseline\">&nbsp;&lt; 40 F or below.</span></p>",
"<br/>",
"<p align=\"left\" style='color:#000; font-family:\"Cambria\"; font-size:12pt; margin:0; line-height:1.15; padding-bottom:0; padding-top:0; text-align:left; '><span>The wind chill is used to estimate when winter weather is dangerous to the homeless. &nbsp;A local homeless shelter looking to estimate the housing needs for the upcoming year has access to the local whether data from the previous year. &nbsp;Given the list of dates representing the previous year, </span><span style=\"font-style:italic; \">date</span><span style=\"font-style:italic; vertical-align:sub; \" valign=\"sub\">1</span><span style=\"font-style:italic; \">, date</span><span style=\"font-style:italic; vertical-align:sub; \" valign=\"sub\">2</span><span style=\"font-style:italic; \">, ... date</span><span style=\"font-style:italic; vertical-align:sub; \" valign=\"sub\">365</span><span>, a corresponding list of daily air temperatures, </span><span style=\"font-style:italic; \">AT</span><span style=\"font-style:italic; vertical-align:sub; \" valign=\"sub\">1</span><span style=\"font-style:italic; \">, &nbsp;AT</span><span style=\"font-style:italic; vertical-align:sub; \" valign=\"sub\">2</span><span style=\"font-style:italic; \">,...AT</span><span style=\"font-style:italic; vertical-align:sub; \" valign=\"sub\">365</span><span>, and a corresponding list of daily wind speeds, </span><span style=\"font-style:italic; \">WS</span><span style=\"font-style:italic; vertical-align:sub; \" valign=\"sub\">1</span><span style=\"font-style:italic; \">, WS</span><span style=\"font-style:italic; vertical-align:sub; \" valign=\"sub\">2</span><span style=\"font-style:italic; \">, ...WS</span><span style=\"font-style:italic; vertical-align:sub; \" valign=\"sub\">365</span><span style='color:#000; font-family:\"Cambria\"; font-size:12pt; font-style:normal; font-weight:400; text-decoration:none; vertical-align:baseline; ' valign=\"baseline\">, write an algorithm that counts the number of days where the wind chill was 32 or below. &nbsp;Keep in mind that that the wind chill equation is valid only for air temperatures of 40 and below.</span></p>",
"<br/>",
"<p align=\"left\" style='color:#000; font-family:\"Cambria\"; font-size:12pt; margin:0; line-height:1.15; padding-bottom:0; padding-top:0; text-align:center; '><span style=\"overflow:hidden; display:inline-block; margin:0.00px 0.00px; border:0.00px solid #000000; width:620.00px; height:210.00px; \"><img align=\"right\" alt=\"\" src=\"images/image2.png\" style=\"width:610.00px; height:200.00px; margin:10px; \"/></span></p>",
"<br/>",
"<br/>",
"<br/>",
"<div>",
"<br/>",
"<p align=\"left\" style='color:#000; font-family:\"Cambria\"; font-size:12pt; margin:0; line-height:1; margin-right:18pt; padding-bottom:36pt; padding-top:0; text-align:left; '><span style='color:#999; font-family:\"Cambria\"; font-size:10pt; font-weight:400; '>Spelman College </span><span style=\"color:#999; font-size:10pt; \">&nbsp; </span><span style='color:#999; font-family:\"Cambria\"; font-size:10pt; font-style:normal; font-weight:400; text-decoration:none; vertical-align:baseline; ' valign=\"baseline\">– &nbsp; Computer and Information Sciences</span></p>",
"</div>",
"</body>",
"</html>",
"",
""
   ]
  },
  {
   "cell_type": "code",
   "execution_count": null,
   "metadata": {
    "deletable": false,
    "editable": true,
    "spelmanCs": {
     "type": "studentSolution"
    }
   },
   "outputs": [],
   "source": [
    "# Add your code here"
   ]
  }
 ],
 "metadata": {
  "kernelspec": {
   "display_name": "Python 3",
   "language": "python",
   "name": "python3"
  },
  "language_info": {
   "codemirror_mode": {
    "name": "ipython",
    "version": 3
   },
   "file_extension": ".py",
   "mimetype": "text/x-python",
   "name": "python",
   "nbconvert_exporter": "python",
   "pygments_lexer": "ipython3",
   "version": "3.6.2"
  },
   "spelmanCs": {
    "version": "1"
   }
 },
 "nbformat": 4,
 "nbformat_minor": 4
}
