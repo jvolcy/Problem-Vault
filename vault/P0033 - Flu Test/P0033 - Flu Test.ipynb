
{
 "cells": [
  {
   "cell_type": "markdown",
   "metadata": {
    "deletable": false,
    "editable": false,
    "spelmanCs": {
     "problemDesc": "Flu Test",
     "problemId": "P0033",
     "type": "problemStatement",
     "data": ""
    }
   },
   "source": [
    "<html>",
"<head><meta content=\"text/html; charset=utf-8\" http-equiv=\"content-type\"/></head>",
"<body bgcolor=\"#ffffff\" style=\"background-color:#fff; max-width:468pt; padding:54pt 72pt 54pt 72pt; \">",
"<p align=\"left\" style='color:#000; font-family:\"Cambria\"; font-size:12pt; margin:0; line-height:1; padding-bottom:0; padding-top:0; text-align:right; '><span style=\"overflow:hidden; display:inline; margin:0.00px 0.00px; border:0.00px solid #000000; width:243.33px; \"><img align=\"right\" alt=\"CS Logo\" src=\"../../images/cs_logo.png\" style=\"width:243.33px; margin:10px; \"/><br/><br/></span></p>",
"<p align=\"left\" style='color:#000; font-family:\"Cambria\"; font-size:16pt; margin:0; line-height:1; padding-bottom:0; padding-top:0; text-align:left; page-break-after:avoid; font-weight:700; '><span>P0033</span><span style='color:#000; font-family:\"Cambria\"; font-size:16pt; font-style:normal; font-weight:700; text-decoration:none; vertical-align:baseline; ' valign=\"baseline\">&nbsp;- Flu Test</span></p>",
"<p align=\"left\" style='color:#000; font-family:\"Cambria\"; font-size:12pt; margin:0; line-height:1; padding-bottom:0; padding-top:0; text-align:left; '><span style='color:#000; font-family:\"Cambria\"; font-size:9pt; font-style:normal; font-weight:700; text-decoration:none; vertical-align:baseline; ' valign=\"baseline\">JVolcy</span></p>",
"<br/>",
"<br/>",
"<br/>",
"<p align=\"left\" style='color:#000; font-family:\"Cambria\"; font-size:12pt; margin:0; line-height:1; padding-bottom:0; padding-top:0; text-align:left; '><span>Here are the procedures for diagnosing the flu:<br/>First, a standard flu test is administered. &nbsp;If the test is positive, the patient has the flu and antiviral treatment should begin immediately. &nbsp;If the test is negative, but the patient’s symptoms appeared more than 4 days before the test was conducted, the test is inconclusive and a more sophisticated test is needed. &nbsp;Otherwise, the patient does not have the flu.<br/></span></p>",
"<p align=\"left\" style='color:#000; font-family:\"Cambria\"; font-size:12pt; margin:0; line-height:1; padding-bottom:0; padding-top:0; text-align:left; '><span>Consider the algorithm below. &nbsp;Does the algorithm correctly capture the procedures described above? &nbsp;Consider the cases where a patient a) has </span><span>the</span><span style='color:#000; font-family:\"Cambria\"; font-size:12pt; font-style:normal; font-weight:400; text-decoration:none; vertical-align:baseline; ' valign=\"baseline\">&nbsp;flu (positive test), b) does not have the flu but has flu-like symptoms that appeared 48 hours ago and c) does not have the flu but has flu-like symptoms that appeared a week ago. &nbsp;In each case, what do the procedures above recommend? &nbsp;What does the algorithm below recommend?</span></p>",
"<br/>",
"<br/>",
"<a id=\"t.c01cd9a12b2563f0da349920a2259870ed8881ec\"></a><a id=\"t.0\"></a><table style=\"border-collapse:collapse; border-spacing:0; margin-right:auto; \"><tbody><tr height=\"0\" style=\"height:0; \"><td bgcolor=\"#fce5cd\" colspan=\"1\" rowspan=\"1\" style=\"padding:5pt 5pt 5pt 5pt; background-color:#fce5cd; vertical-align:top; width:467.2pt; border-color:#000; border-width:1pt; border-style:solid; \" valign=\"top\" width=\"467.2pt\">",
"<p align=\"left\" style='color:#000; font-family:\"Cambria\"; font-size:12pt; margin:0; line-height:1.15; padding-bottom:0; padding-top:0; text-align:left; '><span style='color:#000; font-family:\"Arial\"; font-size:12pt; font-style:normal; font-weight:700; text-decoration:none; vertical-align:baseline; ' valign=\"baseline\">Flu Test Algorithm</span></p>",
"<br/>",
"<ol start=\"1\" style=\"margin:0; padding:0; list-style-type:none; counter-reset:lst-ctn-kix_ki0rv5bdengr-0 0; \">",
"<li align=\"left\" style='{color:#000; font-family:\"Cambria\"; font-size:12pt; line-height:1.15; margin-left:36pt; padding-bottom:0; padding-left:0; padding-top:0; text-align:left; counter-increment:lst-ctn-kix_ki0rv5bdengr-0} :before{content:\"\" counter(lst-ctn-kix_ki0rv5bdengr-0, decimal) \". \"}; '><span style='color:#000; font-family:\"Arial\"; font-size:12pt; font-style:normal; font-weight:400; text-decoration:none; vertical-align:baseline; ' valign=\"baseline\">Administer a standard flu test</span></li>",
"<li align=\"left\" style='{color:#000; font-family:\"Cambria\"; font-size:12pt; line-height:1.15; margin-left:36pt; padding-bottom:0; padding-left:0; padding-top:0; text-align:left; counter-increment:lst-ctn-kix_ki0rv5bdengr-0} :before{content:\"\" counter(lst-ctn-kix_ki0rv5bdengr-0, decimal) \". \"}; '><span style='color:#000; font-family:\"Arial\"; font-size:12pt; font-style:normal; font-weight:400; text-decoration:none; vertical-align:baseline; ' valign=\"baseline\">if the flu test is positive</span></li>",
"</ol>",
"<ol start=\"1\" style=\"margin:0; padding:0; list-style-type:none; counter-reset:lst-ctn-kix_ki0rv5bdengr-1 0; \">",
"<li align=\"left\" style='{color:#000; font-family:\"Cambria\"; font-size:12pt; line-height:1.15; margin-left:72pt; padding-bottom:0; padding-left:0; padding-top:0; text-align:left; counter-increment:lst-ctn-kix_ki0rv5bdengr-1} :before{content:\"\" counter(lst-ctn-kix_ki0rv5bdengr-0, decimal) \".\" counter(lst-ctn-kix_ki0rv5bdengr-1, decimal) \". \"}; '><span style='color:#000; font-family:\"Arial\"; font-size:12pt; font-style:normal; font-weight:400; text-decoration:none; vertical-align:baseline; ' valign=\"baseline\">begin antiviral treatment</span></li>",
"<li align=\"left\" style='{color:#000; font-family:\"Cambria\"; font-size:12pt; line-height:1.15; margin-left:72pt; padding-bottom:0; padding-left:0; padding-top:0; text-align:left; counter-increment:lst-ctn-kix_ki0rv5bdengr-1} :before{content:\"\" counter(lst-ctn-kix_ki0rv5bdengr-0, decimal) \".\" counter(lst-ctn-kix_ki0rv5bdengr-1, decimal) \". \"}; '><span style='color:#000; font-family:\"Arial\"; font-size:12pt; font-style:normal; font-weight:400; text-decoration:none; vertical-align:baseline; ' valign=\"baseline\">stop</span></li>",
"</ol>",
"<ol start=\"3\" style=\"margin:0; padding:0; list-style-type:none; \"><li align=\"left\" style='{color:#000; font-family:\"Cambria\"; font-size:12pt; line-height:1.15; margin-left:36pt; padding-bottom:0; padding-left:0; padding-top:0; text-align:left; counter-increment:lst-ctn-kix_ki0rv5bdengr-0} :before{content:\"\" counter(lst-ctn-kix_ki0rv5bdengr-0, decimal) \". \"}; '><span style='color:#000; font-family:\"Arial\"; font-size:12pt; font-style:normal; font-weight:400; text-decoration:none; vertical-align:baseline; ' valign=\"baseline\">if the patient’s symptoms appeared more than 4 days ago</span></li></ol>",
"<ol start=\"1\" style=\"margin:0; padding:0; list-style-type:none; counter-reset:lst-ctn-kix_ki0rv5bdengr-1 0; \">",
"<li align=\"left\" style='{color:#000; font-family:\"Cambria\"; font-size:12pt; line-height:1.15; margin-left:72pt; padding-bottom:0; padding-left:0; padding-top:0; text-align:left; counter-increment:lst-ctn-kix_ki0rv5bdengr-1} :before{content:\"\" counter(lst-ctn-kix_ki0rv5bdengr-0, decimal) \".\" counter(lst-ctn-kix_ki0rv5bdengr-1, decimal) \". \"}; '><span style='color:#000; font-family:\"Arial\"; font-size:12pt; font-style:normal; font-weight:400; text-decoration:none; vertical-align:baseline; ' valign=\"baseline\">the test is inconclusive</span></li>",
"<li align=\"left\" style='{color:#000; font-family:\"Cambria\"; font-size:12pt; line-height:1.15; margin-left:72pt; padding-bottom:0; padding-left:0; padding-top:0; text-align:left; counter-increment:lst-ctn-kix_ki0rv5bdengr-1} :before{content:\"\" counter(lst-ctn-kix_ki0rv5bdengr-0, decimal) \".\" counter(lst-ctn-kix_ki0rv5bdengr-1, decimal) \". \"}; '><span style='color:#000; font-family:\"Arial\"; font-size:12pt; font-style:normal; font-weight:400; text-decoration:none; vertical-align:baseline; ' valign=\"baseline\">send the patient out for a more sophisticated flu test</span></li>",
"<li align=\"left\" style='{color:#000; font-family:\"Cambria\"; font-size:12pt; line-height:1.15; margin-left:72pt; padding-bottom:0; padding-left:0; padding-top:0; text-align:left; counter-increment:lst-ctn-kix_ki0rv5bdengr-1} :before{content:\"\" counter(lst-ctn-kix_ki0rv5bdengr-0, decimal) \".\" counter(lst-ctn-kix_ki0rv5bdengr-1, decimal) \". \"}; '><span style='color:#000; font-family:\"Arial\"; font-size:12pt; font-style:normal; font-weight:400; text-decoration:none; vertical-align:baseline; ' valign=\"baseline\">stop</span></li>",
"</ol>",
"<ol start=\"4\" style=\"margin:0; padding:0; list-style-type:none; \">",
"<li align=\"left\" style='{color:#000; font-family:\"Cambria\"; font-size:12pt; line-height:1.15; margin-left:36pt; padding-bottom:0; padding-left:0; padding-top:0; text-align:left; counter-increment:lst-ctn-kix_ki0rv5bdengr-0} :before{content:\"\" counter(lst-ctn-kix_ki0rv5bdengr-0, decimal) \". \"}; '><span style='color:#000; font-family:\"Arial\"; font-size:12pt; font-style:normal; font-weight:400; text-decoration:none; vertical-align:baseline; ' valign=\"baseline\">The patient does not have the flu</span></li>",
"<li align=\"left\" style='{color:#000; font-family:\"Cambria\"; font-size:12pt; line-height:1.15; margin-left:36pt; padding-bottom:0; padding-left:0; padding-top:0; text-align:left; counter-increment:lst-ctn-kix_ki0rv5bdengr-0} :before{content:\"\" counter(lst-ctn-kix_ki0rv5bdengr-0, decimal) \". \"}; '><span style='color:#000; font-family:\"Arial\"; font-size:12pt; font-style:normal; font-weight:400; text-decoration:none; vertical-align:baseline; ' valign=\"baseline\">stop</span></li>",
"</ol>",
"<br/>",
"</td></tr></tbody></table>",
"<br/>",
"<br/>",
"<div>",
"<br/>",
"<p align=\"left\" style='color:#000; font-family:\"Cambria\"; font-size:12pt; margin:0; line-height:1; margin-right:18pt; padding-bottom:36pt; padding-top:0; text-align:left; '><span style='font-family:\"Cambria\"; font-weight:400; color:#999; font-size:10pt; '>Spelman College </span><span style=\"color:#999; font-size:10pt; \">&nbsp; </span><span style='color:#999; font-family:\"Cambria\"; font-size:10pt; font-style:normal; font-weight:400; text-decoration:none; vertical-align:baseline; ' valign=\"baseline\">– &nbsp; Computer and Information Sciences</span></p>",
"</div>",
"</body>",
"</html>",
"",
""
   ]
  },
  {
   "cell_type": "code",
   "execution_count": null,
   "metadata": {
    "deletable": false,
    "editable": true,
    "spelmanCs": {
     "type": "studentSolution"
    }
   },
   "outputs": [],
   "source": [
    "# Add your code here"
   ]
  }
 ],
 "metadata": {
  "kernelspec": {
   "display_name": "Python 3",
   "language": "python",
   "name": "python3"
  },
  "language_info": {
   "codemirror_mode": {
    "name": "ipython",
    "version": 3
   },
   "file_extension": ".py",
   "mimetype": "text/x-python",
   "name": "python",
   "nbconvert_exporter": "python",
   "pygments_lexer": "ipython3",
   "version": "3.6.2"
  },
   "spelmanCs": {
    "version": "1"
   }
 },
 "nbformat": 4,
 "nbformat_minor": 4
}
