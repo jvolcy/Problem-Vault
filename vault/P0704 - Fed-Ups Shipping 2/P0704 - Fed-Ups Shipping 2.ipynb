
{
 "cells": [
  {
   "cell_type": "markdown",
   "metadata": {
    "deletable": false,
    "editable": false,
    "spelmanCs": {
     "problemDesc": "Fed-Ups Shipping 2",
     "problemId": "P0704",
     "type": "problemStatement",
     "data": ""
    }
   },
   "source": [
    "<html>",
"<head><meta content=\"text/html; charset=utf-8\" http-equiv=\"content-type\"/></head>",
"<body bgcolor=\"#ffffff\" style=\"background-color:#fff; max-width:468pt; padding:54pt 72pt 54pt 72pt; \">",
"<p align=\"left\" style='color:#000; font-family:\"Cambria\"; font-size:12pt; margin:0; line-height:1; padding-bottom:0; padding-top:0; text-align:right; '><span style=\"overflow:hidden; display:inline; margin:0.00px 0.00px; border:0.00px solid #000000; width:243.33px; \"><img align=\"right\" alt=\"CS Logo\" src=\"../images/cs_logo.png\" style=\"width:243.33px; margin:10px; \"/><br/><br/></span></p>",
"<p align=\"left\" style='color:#000; font-family:\"Cambria\"; font-size:12pt; margin:0; line-height:1; padding-bottom:0; padding-top:0; text-align:left; '><span style=\"font-size:16pt; font-weight:700; \">P0704</span></p>",
"<p align=\"left\" style='color:#000; font-family:\"Cambria\"; font-size:12pt; margin:0; line-height:1; padding-bottom:0; padding-top:0; text-align:left; '><span style='color:#000; font-family:\"Cambria\"; font-style:normal; text-decoration:none; vertical-align:baseline; font-size:16pt; font-weight:700; ' valign=\"baseline\">Fed-Ups Shipping 2</span></p>",
"<p align=\"left\" style='color:#000; font-family:\"Cambria\"; font-size:12pt; margin:0; line-height:1; padding-bottom:0; padding-top:0; text-align:left; '><span style='color:#000; font-family:\"Cambria\"; font-size:10pt; font-style:normal; text-decoration:none; vertical-align:baseline; font-weight:700; ' valign=\"baseline\">JVolcy</span></p>",
"<br/>",
"<br/>",
"<p align=\"left\" style='color:#000; font-family:\"Cambria\"; font-size:12pt; margin:0; line-height:1; padding-bottom:0; padding-top:0; text-align:left; '><span style=\"font-weight:700; \">1 Fed-Ups revisited</span></p>",
"<p align=\"left\" style='color:#000; font-family:\"Cambria\"; font-size:12pt; margin:0; line-height:1; padding-bottom:0; padding-top:0; text-align:left; '><span style='color:#000; font-family:\"Cambria\"; font-size:12pt; font-style:normal; font-weight:400; text-decoration:none; vertical-align:baseline; ' valign=\"baseline\">Recall the following problem:</span></p>",
"<br/>",
"<p align=\"left\" style='color:#000; font-family:\"Cambria\"; font-size:12pt; margin:0; line-height:1; padding-bottom:0; padding-top:0; text-align:left; '><span style='color:#000; font-family:\"Cambria\"; font-size:12pt; font-style:normal; font-weight:400; text-decoration:none; vertical-align:baseline; ' valign=\"baseline\">The Fed-Ups Shipping company charges its customers based on either weight or volume of the package being shipped. &nbsp;At the counter, a friendly Fed-Ups agent measures the weight, length, width and height of your package then calculates shipping costs based on weight and volume and charges you the greater amount. &nbsp;Here are the tables the agent uses:</span></p>",
"<br/>",
"<br/>",
"<a id=\"t.5c6531dace40edd3130bf56cb8c8e142a38097a3\"></a><a id=\"t.0\"></a><table style=\"border-collapse:collapse; border-spacing:0; margin-right:auto; \"><tbody>",
"<tr height=\"22pt\" style=\"height:22pt; \">",
"<td bgcolor=\"#cfe2f3\" colspan=\"2\" rowspan=\"1\" style=\"padding:5pt 5pt 5pt 5pt; background-color:#cfe2f3; vertical-align:top; width:188.2pt; border-color:#000; border-width:1pt; border-style:solid; \" valign=\"top\" width=\"188.2pt\"><p align=\"center\" style='color:#000; font-family:\"Cambria\"; font-size:12pt; margin:0; line-height:1; padding-bottom:0; padding-top:0; text-align:center; '><span style='color:#000; font-family:\"Calibri\"; font-size:12pt; font-style:normal; text-decoration:none; vertical-align:baseline; font-weight:700; ' valign=\"baseline\">Shipping costs based on volume</span></p></td>",
"<td colspan=\"1\" rowspan=\"1\" style=\"padding:5pt 5pt 5pt 5pt; border-bottom-color:#fff; border-left-color:#000; border-right-color:#000; border-top-color:#fff; vertical-align:top; width:28.5pt; border-width:1pt; border-style:solid; \" valign=\"top\" width=\"28.5pt\"><br/></td>",
"<td bgcolor=\"#cfe2f3\" colspan=\"2\" rowspan=\"1\" style=\"padding:5pt 5pt 5pt 5pt; vertical-align:top; width:187.5pt; background-color:#cfe2f3; border-color:#000; border-width:1pt; border-style:solid; \" valign=\"top\" width=\"187.5pt\"><p align=\"center\" style='color:#000; font-family:\"Cambria\"; font-size:12pt; margin:0; line-height:1; padding-bottom:0; padding-top:0; text-align:center; '><span style='color:#000; font-family:\"Calibri\"; font-size:12pt; font-style:normal; text-decoration:none; vertical-align:baseline; font-weight:700; ' valign=\"baseline\">Shipping costs based on weight</span></p></td>",
"</tr>",
"<tr height=\"0\" style=\"height:0; \">",
"<td bgcolor=\"#fce5cd\" colspan=\"1\" rowspan=\"1\" style=\"padding:5pt 5pt 5pt 5pt; vertical-align:top; width:99.8pt; background-color:#fce5cd; border-color:#000; border-width:1pt; border-style:solid; \" valign=\"top\" width=\"99.8pt\"><p align=\"center\" style='color:#000; font-family:\"Cambria\"; font-size:12pt; margin:0; line-height:1; padding-bottom:0; padding-top:0; text-align:center; '><span style='color:#000; font-family:\"Calibri\"; font-size:12pt; font-style:normal; text-decoration:none; vertical-align:baseline; font-weight:700; ' valign=\"baseline\">Volume</span></p></td>",
"<td bgcolor=\"#fce5cd\" colspan=\"1\" rowspan=\"1\" style=\"padding:5pt 5pt 5pt 5pt; vertical-align:top; width:88.5pt; background-color:#fce5cd; border-color:#000; border-width:1pt; border-style:solid; \" valign=\"top\" width=\"88.5pt\"><p align=\"center\" style='color:#000; font-family:\"Cambria\"; font-size:12pt; margin:0; line-height:1; padding-bottom:0; padding-top:0; text-align:center; '><span style='font-family:\"Calibri\"; font-weight:700; '>Cost/in</span><span style='color:#000; font-size:12pt; font-style:normal; text-decoration:none; vertical-align:super; font-family:\"Calibri\"; font-weight:700; ' valign=\"super\">3</span></p></td>",
"<td colspan=\"1\" rowspan=\"1\" style=\"padding:5pt 5pt 5pt 5pt; border-bottom-color:#fff; border-left-color:#000; border-right-color:#000; border-top-color:#fff; vertical-align:top; width:28.5pt; border-width:1pt; border-style:solid; \" valign=\"top\" width=\"28.5pt\"><br/></td>",
"<td bgcolor=\"#fce5cd\" colspan=\"1\" rowspan=\"1\" style=\"padding:5pt 5pt 5pt 5pt; background-color:#fce5cd; vertical-align:top; width:96.8pt; border-color:#000; border-width:1pt; border-style:solid; \" valign=\"top\" width=\"96.8pt\"><p align=\"center\" style='color:#000; font-family:\"Cambria\"; font-size:12pt; margin:0; line-height:1; padding-bottom:0; padding-top:0; text-align:center; '><span style='color:#000; font-family:\"Calibri\"; font-size:12pt; font-style:normal; text-decoration:none; vertical-align:baseline; font-weight:700; ' valign=\"baseline\">Weight</span></p></td>",
"<td bgcolor=\"#fce5cd\" colspan=\"1\" rowspan=\"1\" style=\"padding:5pt 5pt 5pt 5pt; vertical-align:top; width:90.8pt; background-color:#fce5cd; border-color:#000; border-width:1pt; border-style:solid; \" valign=\"top\" width=\"90.8pt\"><p align=\"center\" style='color:#000; font-family:\"Cambria\"; font-size:12pt; margin:0; line-height:1; padding-bottom:0; padding-top:0; text-align:center; '><span style='color:#000; font-family:\"Calibri\"; font-size:12pt; font-style:normal; text-decoration:none; vertical-align:baseline; font-weight:700; ' valign=\"baseline\">Cost/lb</span></p></td>",
"</tr>",
"<tr height=\"0\" style=\"height:0; \">",
"<td colspan=\"1\" rowspan=\"1\" style=\"padding:5pt 5pt 5pt 5pt; vertical-align:top; width:99.8pt; border-color:#000; border-width:1pt; border-style:solid; \" valign=\"top\" width=\"99.8pt\"><p align=\"center\" style='color:#000; font-family:\"Cambria\"; font-size:12pt; margin:0; line-height:1; padding-bottom:0; padding-top:0; text-align:center; '><span style='font-family:\"Calibri\"; font-weight:400; '>&lt; 2000 in</span><span style='color:#000; font-size:12pt; font-style:normal; text-decoration:none; vertical-align:super; font-family:\"Calibri\"; font-weight:400; ' valign=\"super\">3</span></p></td>",
"<td colspan=\"1\" rowspan=\"1\" style=\"padding:5pt 5pt 5pt 5pt; vertical-align:top; width:88.5pt; border-color:#000; border-width:1pt; border-style:solid; \" valign=\"top\" width=\"88.5pt\"><p align=\"center\" style='color:#000; font-family:\"Cambria\"; font-size:12pt; margin:0; line-height:1; padding-bottom:0; padding-top:0; text-align:center; '><span style='font-family:\"Calibri\"; font-weight:400; '>$0.003/in</span><span style='color:#000; font-size:12pt; font-style:normal; text-decoration:none; vertical-align:super; font-family:\"Calibri\"; font-weight:400; ' valign=\"super\">3</span></p></td>",
"<td colspan=\"1\" rowspan=\"1\" style=\"padding:5pt 5pt 5pt 5pt; border-bottom-color:#fff; border-left-color:#000; border-right-color:#000; border-top-color:#fff; vertical-align:top; width:28.5pt; border-width:1pt; border-style:solid; \" valign=\"top\" width=\"28.5pt\"><br/></td>",
"<td colspan=\"1\" rowspan=\"1\" style=\"padding:5pt 5pt 5pt 5pt; vertical-align:top; width:96.8pt; border-color:#000; border-width:1pt; border-style:solid; \" valign=\"top\" width=\"96.8pt\"><p align=\"center\" style='color:#000; font-family:\"Cambria\"; font-size:12pt; margin:0; line-height:1; padding-bottom:0; padding-top:0; text-align:center; '><span style='color:#000; font-family:\"Calibri\"; font-size:12pt; font-style:normal; text-decoration:none; vertical-align:baseline; font-weight:400; ' valign=\"baseline\">&lt; 5 lb</span></p></td>",
"<td colspan=\"1\" rowspan=\"1\" style=\"padding:5pt 5pt 5pt 5pt; vertical-align:top; width:90.8pt; border-color:#000; border-width:1pt; border-style:solid; \" valign=\"top\" width=\"90.8pt\"><p align=\"center\" style='color:#000; font-family:\"Cambria\"; font-size:12pt; margin:0; line-height:1; padding-bottom:0; padding-top:0; text-align:center; '><span style='color:#000; font-family:\"Calibri\"; font-size:12pt; font-style:normal; text-decoration:none; vertical-align:baseline; font-weight:400; ' valign=\"baseline\">$3/lb</span></p></td>",
"</tr>",
"<tr height=\"0\" style=\"height:0; \">",
"<td colspan=\"1\" rowspan=\"1\" style=\"padding:5pt 5pt 5pt 5pt; vertical-align:top; width:99.8pt; border-color:#000; border-width:1pt; border-style:solid; \" valign=\"top\" width=\"99.8pt\"><p align=\"center\" style='color:#000; font-family:\"Cambria\"; font-size:12pt; margin:0; line-height:1; padding-bottom:0; padding-top:0; text-align:center; '><span style='font-family:\"Calibri\"; font-weight:400; '>2000 - 6000 in</span><span style='color:#000; font-size:12pt; font-style:normal; text-decoration:none; vertical-align:super; font-family:\"Calibri\"; font-weight:400; ' valign=\"super\">3</span></p></td>",
"<td colspan=\"1\" rowspan=\"1\" style=\"padding:5pt 5pt 5pt 5pt; vertical-align:top; width:88.5pt; border-color:#000; border-width:1pt; border-style:solid; \" valign=\"top\" width=\"88.5pt\"><p align=\"center\" style='color:#000; font-family:\"Cambria\"; font-size:12pt; margin:0; line-height:1; padding-bottom:0; padding-top:0; text-align:center; '><span style='font-family:\"Calibri\"; font-weight:400; '>$0.004/in</span><span style='color:#000; font-size:12pt; font-style:normal; text-decoration:none; vertical-align:super; font-family:\"Calibri\"; font-weight:400; ' valign=\"super\">3</span></p></td>",
"<td colspan=\"1\" rowspan=\"1\" style=\"padding:5pt 5pt 5pt 5pt; border-bottom-color:#fff; border-left-color:#000; border-right-color:#000; border-top-color:#fff; vertical-align:top; width:28.5pt; border-width:1pt; border-style:solid; \" valign=\"top\" width=\"28.5pt\"><br/></td>",
"<td colspan=\"1\" rowspan=\"1\" style=\"padding:5pt 5pt 5pt 5pt; vertical-align:top; width:96.8pt; border-color:#000; border-width:1pt; border-style:solid; \" valign=\"top\" width=\"96.8pt\"><p align=\"center\" style='color:#000; font-family:\"Cambria\"; font-size:12pt; margin:0; line-height:1; padding-bottom:0; padding-top:0; text-align:center; '><span style='color:#000; font-family:\"Calibri\"; font-size:12pt; font-style:normal; text-decoration:none; vertical-align:baseline; font-weight:400; ' valign=\"baseline\">5 - 10 lb</span></p></td>",
"<td colspan=\"1\" rowspan=\"1\" style=\"padding:5pt 5pt 5pt 5pt; vertical-align:top; width:90.8pt; border-color:#000; border-width:1pt; border-style:solid; \" valign=\"top\" width=\"90.8pt\"><p align=\"center\" style='color:#000; font-family:\"Cambria\"; font-size:12pt; margin:0; line-height:1; padding-bottom:0; padding-top:0; text-align:center; '><span style='color:#000; font-family:\"Calibri\"; font-size:12pt; font-style:normal; text-decoration:none; vertical-align:baseline; font-weight:400; ' valign=\"baseline\">$4/lb</span></p></td>",
"</tr>",
"<tr height=\"0\" style=\"height:0; \">",
"<td colspan=\"1\" rowspan=\"1\" style=\"padding:5pt 5pt 5pt 5pt; vertical-align:top; width:99.8pt; border-color:#000; border-width:1pt; border-style:solid; \" valign=\"top\" width=\"99.8pt\"><p align=\"center\" style='color:#000; font-family:\"Cambria\"; font-size:12pt; margin:0; line-height:1; padding-bottom:0; padding-top:0; text-align:center; '><span style='font-family:\"Calibri\"; font-weight:400; '>&gt; 6000 in</span><span style='color:#000; font-size:12pt; font-style:normal; text-decoration:none; vertical-align:super; font-family:\"Calibri\"; font-weight:400; ' valign=\"super\">3</span></p></td>",
"<td colspan=\"1\" rowspan=\"1\" style=\"padding:5pt 5pt 5pt 5pt; vertical-align:top; width:88.5pt; border-color:#000; border-width:1pt; border-style:solid; \" valign=\"top\" width=\"88.5pt\"><p align=\"center\" style='color:#000; font-family:\"Cambria\"; font-size:12pt; margin:0; line-height:1; padding-bottom:0; padding-top:0; text-align:center; '><span style='font-family:\"Calibri\"; font-weight:400; '>$0.008/in</span><span style='color:#000; font-size:12pt; font-style:normal; text-decoration:none; vertical-align:super; font-family:\"Calibri\"; font-weight:400; ' valign=\"super\">3</span></p></td>",
"<td colspan=\"1\" rowspan=\"1\" style=\"padding:5pt 5pt 5pt 5pt; border-bottom-color:#fff; border-left-color:#000; border-right-color:#000; border-top-color:#fff; vertical-align:top; width:28.5pt; border-width:1pt; border-style:solid; \" valign=\"top\" width=\"28.5pt\"><br/></td>",
"<td colspan=\"1\" rowspan=\"1\" style=\"padding:5pt 5pt 5pt 5pt; vertical-align:top; width:96.8pt; border-color:#000; border-width:1pt; border-style:solid; \" valign=\"top\" width=\"96.8pt\"><p align=\"center\" style='color:#000; font-family:\"Cambria\"; font-size:12pt; margin:0; line-height:1; padding-bottom:0; padding-top:0; text-align:center; '><span style='color:#000; font-family:\"Calibri\"; font-size:12pt; font-style:normal; text-decoration:none; vertical-align:baseline; font-weight:400; ' valign=\"baseline\">&gt; 10 lb</span></p></td>",
"<td colspan=\"1\" rowspan=\"1\" style=\"padding:5pt 5pt 5pt 5pt; vertical-align:top; width:90.8pt; border-color:#000; border-width:1pt; border-style:solid; \" valign=\"top\" width=\"90.8pt\"><p align=\"center\" style='color:#000; font-family:\"Cambria\"; font-size:12pt; margin:0; line-height:1; padding-bottom:0; padding-top:0; text-align:center; '><span style='color:#000; font-family:\"Calibri\"; font-size:12pt; font-style:normal; text-decoration:none; vertical-align:baseline; font-weight:400; ' valign=\"baseline\">$6/lb</span></p></td>",
"</tr>",
"</tbody></table>",
"<br/>",
"<br/>",
"<p align=\"left\" style='color:#000; font-family:\"Cambria\"; font-size:12pt; margin:0; line-height:1; padding-bottom:0; padding-top:0; text-align:left; '><span style='color:#000; font-family:\"Cambria\"; font-size:12pt; font-style:normal; font-weight:400; text-decoration:none; vertical-align:baseline; ' valign=\"baseline\">For this problem, you were asked to write an algorithm that prompts a user for weight, length, width and height of a package then prints out the cost of shipping. &nbsp; Assume the weight is in pounds. &nbsp;Length, width and height are in inches.</span></p>",
"<br/>",
"<br/>",
"<p align=\"left\" style='color:#000; font-family:\"Cambria\"; font-size:12pt; margin:0; line-height:1; padding-bottom:0; padding-top:0; text-align:left; '><span style=\"font-weight:700; \">2 Modularization of Fed-Ups program</span></p>",
"<p align=\"left\" style='color:#000; font-family:\"Cambria\"; font-size:12pt; margin:0; line-height:1; padding-bottom:0; padding-top:0; text-align:left; '><span style='color:#000; font-family:\"Cambria\"; font-size:12pt; font-style:normal; font-weight:400; text-decoration:none; vertical-align:baseline; ' valign=\"baseline\">We now want to write a program that compares the cost of shipping two different packages. &nbsp;Your program will prompt the user for the length, width, height and weight of packages A and B. &nbsp;It will then tell the user the cost difference between shipping the two packages.</span></p>",
"<br/>",
"<p align=\"left\" style='color:#000; font-family:\"Cambria\"; font-size:12pt; margin:0; line-height:1; padding-bottom:0; padding-top:0; text-align:left; '><span style='color:#000; font-family:\"Cambria\"; font-size:12pt; font-style:normal; font-weight:400; text-decoration:none; vertical-align:baseline; ' valign=\"baseline\">Here is an example of how it should work (user input shown in bold):</span></p>",
"<br/>",
"<p align=\"left\" style='color:#000; font-family:\"Cambria\"; font-size:12pt; margin:0; line-height:1; padding-bottom:0; padding-top:0; text-align:left; '><span style='color:#000; font-family:\"Courier New\"; font-size:12pt; font-style:normal; text-decoration:none; vertical-align:baseline; font-weight:400; ' valign=\"baseline\">Welcome to Fed-Ups shipping!</span></p>",
"<p align=\"left\" style='color:#000; font-family:\"Cambria\"; font-size:12pt; margin:0; line-height:1; padding-bottom:0; padding-top:0; text-align:left; '><span style='font-family:\"Courier New\"; font-weight:400; '>Please enter the weight of package A: </span><span style='color:#000; font-family:\"Courier New\"; font-size:12pt; font-style:normal; text-decoration:none; vertical-align:baseline; font-weight:700; ' valign=\"baseline\">3.0</span></p>",
"<p align=\"left\" style='color:#000; font-family:\"Cambria\"; font-size:12pt; margin:0; line-height:1; padding-bottom:0; padding-top:0; text-align:left; '><span style='font-family:\"Courier New\"; font-weight:400; '>Please enter the length of package A: </span><span style='color:#000; font-family:\"Courier New\"; font-size:12pt; font-style:normal; text-decoration:none; vertical-align:baseline; font-weight:700; ' valign=\"baseline\">14</span></p>",
"<p align=\"left\" style='color:#000; font-family:\"Cambria\"; font-size:12pt; margin:0; line-height:1; padding-bottom:0; padding-top:0; text-align:left; '><span style='font-family:\"Courier New\"; font-weight:400; '>Please enter the width of package A: </span><span style='color:#000; font-family:\"Courier New\"; font-size:12pt; font-style:normal; text-decoration:none; vertical-align:baseline; font-weight:700; ' valign=\"baseline\">11</span></p>",
"<p align=\"left\" style='color:#000; font-family:\"Cambria\"; font-size:12pt; margin:0; line-height:1; padding-bottom:0; padding-top:0; text-align:left; '><span style='font-family:\"Courier New\"; font-weight:400; '>Please enter the height of package A: </span><span style='color:#000; font-family:\"Courier New\"; font-size:12pt; font-style:normal; text-decoration:none; vertical-align:baseline; font-weight:700; ' valign=\"baseline\">9</span></p>",
"<p align=\"left\" style='color:#000; font-family:\"Cambria\"; font-size:12pt; margin:0; line-height:1; padding-bottom:0; padding-top:0; text-align:left; '><span style='font-family:\"Courier New\"; font-weight:400; '>Please enter the weight of package B: </span><span style='color:#000; font-family:\"Courier New\"; font-size:12pt; font-style:normal; text-decoration:none; vertical-align:baseline; font-weight:700; ' valign=\"baseline\">1.5</span></p>",
"<p align=\"left\" style='color:#000; font-family:\"Cambria\"; font-size:12pt; margin:0; line-height:1; padding-bottom:0; padding-top:0; text-align:left; '><span style='font-family:\"Courier New\"; font-weight:400; '>Please enter the length of package B: </span><span style='color:#000; font-family:\"Courier New\"; font-size:12pt; font-style:normal; text-decoration:none; vertical-align:baseline; font-weight:700; ' valign=\"baseline\">16</span></p>",
"<p align=\"left\" style='color:#000; font-family:\"Cambria\"; font-size:12pt; margin:0; line-height:1; padding-bottom:0; padding-top:0; text-align:left; '><span style='font-family:\"Courier New\"; font-weight:400; '>Please enter the width of package B: </span><span style='color:#000; font-family:\"Courier New\"; font-size:12pt; font-style:normal; text-decoration:none; vertical-align:baseline; font-weight:700; ' valign=\"baseline\">10</span></p>",
"<p align=\"left\" style='color:#000; font-family:\"Cambria\"; font-size:12pt; margin:0; line-height:1; padding-bottom:0; padding-top:0; text-align:left; '><span style='font-family:\"Courier New\"; font-weight:400; '>Please enter the height of package B: </span><span style='color:#000; font-family:\"Courier New\"; font-size:12pt; font-style:normal; text-decoration:none; vertical-align:baseline; font-weight:700; ' valign=\"baseline\">12</span></p>",
"<br/>",
"<p align=\"left\" style='color:#000; font-family:\"Cambria\"; font-size:12pt; margin:0; line-height:1; padding-bottom:0; padding-top:0; text-align:left; '><span style='color:#000; font-family:\"Courier New\"; font-size:12pt; font-style:normal; text-decoration:none; vertical-align:baseline; font-weight:400; ' valign=\"baseline\">Shipping package A will cost you $3.24 cents more than shipping package B.</span></p>",
"<br/>",
"<br/>",
"<p align=\"left\" style='color:#000; font-family:\"Cambria\"; font-size:12pt; margin:0; line-height:1; padding-bottom:0; padding-top:0; text-align:left; '><span style='color:#000; font-family:\"Cambria\"; font-size:12pt; font-style:normal; font-weight:400; text-decoration:none; vertical-align:baseline; ' valign=\"baseline\">In the example above, it turns out that package A costs $9.00 to ship while package B costs $5.76. &nbsp;To avoid redundant code, make use of functions. </span></p>",
"<br/>",
"<p align=\"left\" style='color:#000; font-family:\"Cambria\"; font-size:12pt; margin:0; line-height:1; padding-bottom:0; padding-top:0; text-align:left; '><span style='color:#000; font-family:\"Cambria\"; font-size:12pt; font-style:normal; font-weight:400; text-decoration:none; vertical-align:baseline; ' valign=\"baseline\">An acceptable approach is to create a single function that accepts four arguments (weight, length, width and height), performs the calculations and returns a single value (the shipping cost). &nbsp;Your main() would call this function twice, once for package A and once for package B to get the cost of shipping both and ultimately printing the cost difference.</span></p>",
"<br/>",
"<p align=\"left\" style='color:#000; font-family:\"Cambria\"; font-size:12pt; margin:0; line-height:1; padding-bottom:0; padding-top:0; text-align:left; '><span style='color:#000; font-family:\"Cambria\"; font-size:12pt; font-style:normal; font-weight:400; text-decoration:none; vertical-align:baseline; ' valign=\"baseline\">A better approach is to further break down the function called by main() into two sub-functions that calculate shipping cost based on weight and volume respectively.</span></p>",
"<br/>",
"<br/>",
"<br/>",
"<br/>",
"<br/>",
"<br/>",
"<div>",
"<br/>",
"<p align=\"left\" style='color:#000; font-family:\"Cambria\"; font-size:12pt; margin:0; line-height:1; margin-right:18pt; padding-bottom:36pt; padding-top:0; text-align:left; '><span style='color:#999; font-family:\"Cambria\"; font-size:10pt; font-style:normal; text-decoration:none; vertical-align:baseline; font-weight:400; ' valign=\"baseline\">Spelman College – Computer and Information Sciences</span></p>",
"</div>",
"</body>",
"</html>",
"",
""
   ]
  },
  {
   "cell_type": "code",
   "execution_count": null,
   "metadata": {
    "deletable": false,
    "editable": true,
    "spelmanCs": {
     "type": "studentSolution"
    }
   },
   "outputs": [],
   "source": [
    "# Add your code here"
   ]
  }
 ],
 "metadata": {
  "kernelspec": {
   "display_name": "Python 3",
   "language": "python",
   "name": "python3"
  },
  "language_info": {
   "codemirror_mode": {
    "name": "ipython",
    "version": 3
   },
   "file_extension": ".py",
   "mimetype": "text/x-python",
   "name": "python",
   "nbconvert_exporter": "python",
   "pygments_lexer": "ipython3",
   "version": "3.6.2"
  },
   "spelmanCs": {
    "version": "1"
   }
 },
 "nbformat": 4,
 "nbformat_minor": 4
}
