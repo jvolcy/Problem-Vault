
{
 "cells": [
  {
   "cell_type": "markdown",
   "metadata": {
    "deletable": false,
    "editable": false,
    "spelmanCs": {
     "problemDesc": "File Compare",
     "problemId": "P1406",
     "type": "problemStatement",
     "data": ""
    }
   },
   "source": [
    "<html>",
"<head><meta content=\"text/html; charset=utf-8\" http-equiv=\"content-type\"/></head>",
"<body bgcolor=\"#ffffff\" style=\"background-color:#fff; max-width:468pt; padding:54pt 72pt 54pt 72pt; \">",
"<p align=\"left\" style='color:#000; font-family:\"Cambria\"; font-size:12pt; margin:0; line-height:1; padding-bottom:0; padding-top:0; text-align:right; '><span style=\"overflow:hidden; display:inline; margin:0.00px 0.00px; border:0.00px solid #000000; width:243.33px; \"><img align=\"right\" alt=\"CS Logo\" src=\"../images/cs_logo.png\" style=\"width:243.33px; margin:10px; \"/><br/><br/></span></p>",
"<p align=\"left\" style='color:#000; font-family:\"Cambria\"; font-size:16pt; margin:0; line-height:1; padding-bottom:0; padding-top:0; text-align:left; page-break-after:avoid; font-weight:700; '><span>P1406</span></p>",
"<p align=\"left\" style='color:#000; font-family:\"Cambria\"; font-size:16pt; margin:0; line-height:1; padding-bottom:0; padding-top:0; text-align:left; page-break-after:avoid; font-weight:700; '><span style='color:#000; font-family:\"Cambria\"; font-size:16pt; font-style:normal; font-weight:700; text-decoration:none; vertical-align:baseline; ' valign=\"baseline\">File Compare</span></p>",
"<p align=\"left\" style='color:#000; font-family:\"Cambria\"; font-size:12pt; margin:0; line-height:1; padding-bottom:0; padding-top:0; text-align:left; '><span style='color:#000; font-family:\"Cambria\"; font-size:9pt; font-style:normal; font-weight:700; text-decoration:none; vertical-align:baseline; ' valign=\"baseline\">(Gaddis, Python, 3e)</span></p>",
"<br/>",
"<br/>",
"<br/>",
"<p align=\"left\" style='color:#000; font-family:\"Cambria\"; font-size:12pt; margin:0; line-height:1; padding-bottom:0; padding-top:0; text-align:left; '><span>Write a program that reads the contents of the two files </span><span style='-webkit-text-decoration-skip:none; color:#15c; font-family:\"Courier New\"; font-weight:400; text-decoration:underline; text-decoration-skip-ink:none; '><a href=\"https://www.google.com/url?q=https://drive.google.com/open?id%3D0B_r-sqlBQ5V3dG1wbnR6aXhNcW8&amp;sa=D&amp;ust=1577372471621000\" style=\"color:inherit; text-decoration:inherit; \">text1.txt</a></span><span>&nbsp;and </span><span style='-webkit-text-decoration-skip:none; color:#15c; font-family:\"Courier New\"; font-weight:400; text-decoration:underline; text-decoration-skip-ink:none; '><a href=\"https://www.google.com/url?q=https://drive.google.com/open?id%3D0B_r-sqlBQ5V3SG15NFJPUzVhbUU&amp;sa=D&amp;ust=1577372471621000\" style=\"color:inherit; text-decoration:inherit; \">text2.txt</a></span><span style='color:#000; font-family:\"Cambria\"; font-size:12pt; font-style:normal; font-weight:400; text-decoration:none; vertical-align:baseline; ' valign=\"baseline\">&nbsp;and compares them in the following ways:</span></p>",
"<ul style=\"margin:0; padding:0; list-style-type:none; \">",
"<li align=\"left\" style='{color:#000; font-family:\"Cambria\"; font-size:12pt; line-height:1; margin-left:36pt; padding-bottom:0; padding-left:0; padding-top:0; text-align:left; '><span style='color:#000; font-family:\"Cambria\"; font-size:12pt; font-style:normal; font-weight:400; text-decoration:none; vertical-align:baseline; ' valign=\"baseline\">It should display a list of all the unique words contained in the two files</span></li>",
"<li align=\"left\" style='{color:#000; font-family:\"Cambria\"; font-size:12pt; line-height:1; margin-left:36pt; padding-bottom:0; padding-left:0; padding-top:0; text-align:left; '><span style='color:#000; font-family:\"Cambria\"; font-size:12pt; font-style:normal; font-weight:400; text-decoration:none; vertical-align:baseline; ' valign=\"baseline\">It should display a list of words that appear in both files</span></li>",
"<li align=\"left\" style='{color:#000; font-family:\"Cambria\"; font-size:12pt; line-height:1; margin-left:36pt; padding-bottom:0; padding-left:0; padding-top:0; text-align:left; '><span style='color:#000; font-family:\"Cambria\"; font-size:12pt; font-style:normal; font-weight:400; text-decoration:none; vertical-align:baseline; ' valign=\"baseline\">It should display a list of words that appear in the first file but not the second</span></li>",
"<li align=\"left\" style='{color:#000; font-family:\"Cambria\"; font-size:12pt; line-height:1; margin-left:36pt; padding-bottom:0; padding-left:0; padding-top:0; text-align:left; '><span style='color:#000; font-family:\"Cambria\"; font-size:12pt; font-style:normal; font-weight:400; text-decoration:none; vertical-align:baseline; ' valign=\"baseline\">It should display a list of words that appear in the second file but not the first</span></li>",
"<li align=\"left\" style='{color:#000; font-family:\"Cambria\"; font-size:12pt; line-height:1; margin-left:36pt; padding-bottom:0; padding-left:0; padding-top:0; text-align:left; '><span style='color:#000; font-family:\"Cambria\"; font-size:12pt; font-style:normal; font-weight:400; text-decoration:none; vertical-align:baseline; ' valign=\"baseline\">It should display a list of words that appear in either the first or second file, but not in both</span></li>",
"</ul>",
"<br/>",
"<p align=\"left\" style='color:#000; font-family:\"Cambria\"; font-size:12pt; margin:0; line-height:1; padding-bottom:0; padding-top:0; text-align:left; '><span style='color:#000; font-family:\"Cambria\"; font-size:12pt; font-style:normal; font-weight:400; text-decoration:none; vertical-align:baseline; ' valign=\"baseline\">Note: &nbsp;you will need to clean up your text files by removing any punctuation before processing their contents. &nbsp;Assume that punctuation will be limited to one of the following characters:</span></p>",
"<p align=\"left\" style='color:#000; font-family:\"Cambria\"; font-size:12pt; margin:0; line-height:1; padding-bottom:0; padding-top:0; text-align:left; margin-left:144pt; text-indent:36pt; '><span style='color:#000; font-family:\"Courier New\"; font-size:12pt; font-style:normal; font-weight:400; text-decoration:none; vertical-align:baseline; ' valign=\"baseline\">.,'!?\"()-;:[]</span></p>",
"<p align=\"left\" style='color:#000; font-family:\"Cambria\"; font-size:12pt; margin:0; line-height:1; padding-bottom:0; padding-top:0; text-align:left; '><span style='color:#000; font-family:\"Cambria\"; font-size:12pt; font-style:normal; font-weight:400; text-decoration:none; vertical-align:baseline; ' valign=\"baseline\">Also, your code needs to be case insensitive.</span></p>",
"<br/>",
"<br/>",
"<h3 align=\"left\" style='color:#000; font-family:\"Cambria\"; font-size:14pt; font-weight:700; line-height:1; padding-bottom:4pt; padding-top:14pt; page-break-after:avoid; text-align:left; '><span style=\"overflow:hidden; display:inline-block; margin:0.00px 0.00px; border:0.00px solid #000000; width:225.19px; height:181.50px; \"><img align=\"right\" alt=\"free-vector-magnifying-glass-clip-art_105983_Magnifying_Glass_clip_art_hight.png\" src=\"images/image2.png\" style=\"width:215.19px; height:171.50px; margin:10px; \"/></span></h3>",
"<br/>",
"<br/>",
"<br/>",
"<br/>",
"<br/>",
"<div>",
"<br/>",
"<p align=\"left\" style='color:#000; font-family:\"Cambria\"; font-size:12pt; margin:0; line-height:1; margin-right:18pt; padding-bottom:36pt; padding-top:0; text-align:left; '><span style='color:#999; font-family:\"Cambria\"; font-size:10pt; font-weight:400; '>Spelman College </span><span style=\"color:#999; font-size:10pt; \">&nbsp; </span><span style='color:#999; font-family:\"Cambria\"; font-size:10pt; font-style:normal; font-weight:400; text-decoration:none; vertical-align:baseline; ' valign=\"baseline\">– &nbsp; Computer and Information Sciences</span></p>",
"</div>",
"</body>",
"</html>",
"",
""
   ]
  },
  {
   "cell_type": "code",
   "execution_count": null,
   "metadata": {
    "deletable": false,
    "editable": true,
    "spelmanCs": {
     "type": "studentSolution"
    }
   },
   "outputs": [],
   "source": [
    "# Add your code here"
   ]
  }
 ],
 "metadata": {
  "kernelspec": {
   "display_name": "Python 3",
   "language": "python",
   "name": "python3"
  },
  "language_info": {
   "codemirror_mode": {
    "name": "ipython",
    "version": 3
   },
   "file_extension": ".py",
   "mimetype": "text/x-python",
   "name": "python",
   "nbconvert_exporter": "python",
   "pygments_lexer": "ipython3",
   "version": "3.6.2"
  },
   "spelmanCs": {
    "version": "1"
   }
 },
 "nbformat": 4,
 "nbformat_minor": 4
}
