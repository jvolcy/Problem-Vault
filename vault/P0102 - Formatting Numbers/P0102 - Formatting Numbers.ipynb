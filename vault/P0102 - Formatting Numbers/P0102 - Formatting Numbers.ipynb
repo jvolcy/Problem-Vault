
{
 "cells": [
  {
   "cell_type": "markdown",
   "metadata": {
    "deletable": false,
    "editable": false,
    "spelmanCs": {
     "problemDesc": "Formatting Numbers",
     "problemId": "P0102",
     "type": "problemStatement",
     "data": ""
    }
   },
   "source": [
    "<html>",
"<head><meta content=\"text/html; charset=utf-8\" http-equiv=\"content-type\"/></head>",
"<body bgcolor=\"#ffffff\" style=\"background-color:#fff; max-width:432pt; padding:72pt 90pt 72pt 90pt; \">",
"<p align=\"left\" style='color:#000; font-family:\"Cambria\"; font-size:12pt; margin:0; line-height:1; padding-bottom:0; padding-top:0; text-align:right; '><span style=\"overflow:hidden; display:inline; margin:0.00px 0.00px; border:0.00px solid #000000; width:243.33px; \"><img align=\"right\" alt=\"CS Logo\" src=\"../../images/cs_logo.png\" style=\"width:243.33px; margin:10px; \"/><br/><br/></span></p>",
"<p align=\"left\" style='color:#000; font-family:\"Cambria\"; font-size:12pt; margin:0; line-height:1; padding-bottom:0; padding-top:0; text-align:left; '><span style='color:#000; font-family:\"Cambria\"; font-style:normal; font-weight:700; text-decoration:none; vertical-align:baseline; font-size:16pt; ' valign=\"baseline\">P0102</span></p>",
"<p align=\"left\" style='color:#000; font-family:\"Cambria\"; font-size:12pt; margin:0; line-height:1; padding-bottom:0; padding-top:0; text-align:left; '><span style='color:#000; font-family:\"Cambria\"; font-style:normal; font-weight:700; text-decoration:none; vertical-align:baseline; font-size:16pt; ' valign=\"baseline\">Formatting Numbers</span></p>",
"<br/>",
"<br/>",
"<br/>",
"<p align=\"left\" style='color:#000; font-family:\"Cambria\"; font-size:12pt; margin:0; line-height:1; padding-bottom:0; padding-top:0; text-align:left; '><span style='color:#000; font-family:\"Cambria\"; font-style:normal; font-weight:700; text-decoration:none; vertical-align:baseline; font-size:11pt; ' valign=\"baseline\">Part A</span></p>",
"<p align=\"left\" style='color:#000; font-family:\"Cambria\"; font-size:12pt; margin:0; line-height:1; padding-bottom:0; padding-top:0; text-align:left; '><span style=\"font-size:11pt; \">Write a program that prompts the user for two integers </span><span style=\"font-style:italic; font-size:11pt; \">a</span><span style=\"font-size:11pt; \">&nbsp;and </span><span style=\"font-style:italic; font-size:11pt; \">b</span><span style='color:#000; font-family:\"Cambria\"; font-size:11pt; font-style:normal; font-weight:400; text-decoration:none; vertical-align:baseline; ' valign=\"baseline\">. The program should then output the sum, difference product, quotient, exponentiation and modulus of these two numbers in a way illustrated by the following example:</span></p>",
"<br/>",
"<p align=\"left\" style='color:#000; font-family:\"Cambria\"; font-size:12pt; margin:0; line-height:1; padding-bottom:0; padding-top:0; text-align:left; '><span style='font-family:\"Courier New\"; font-weight:400; font-size:11pt; '>Enter the value of a: </span><span style='color:#000; font-family:\"Courier New\"; font-style:normal; font-weight:700; text-decoration:none; vertical-align:baseline; font-size:11pt; ' valign=\"baseline\">4</span></p>",
"<p align=\"left\" style='color:#000; font-family:\"Cambria\"; font-size:12pt; margin:0; line-height:1; padding-bottom:0; padding-top:0; text-align:left; '><span style='font-family:\"Courier New\"; font-weight:400; font-size:11pt; '>Enter the value of b: </span><span style='color:#000; font-family:\"Courier New\"; font-style:normal; font-weight:700; text-decoration:none; vertical-align:baseline; font-size:11pt; ' valign=\"baseline\">30</span></p>",
"<br/>",
"<p align=\"left\" style='color:#000; font-family:\"Cambria\"; font-size:12pt; margin:0; line-height:1; padding-bottom:0; padding-top:0; text-align:left; text-indent:36pt; '><span style='color:#000; font-family:\"Courier New\"; font-style:normal; font-weight:400; text-decoration:none; vertical-align:baseline; font-size:11pt; ' valign=\"baseline\">a + b = 34</span></p>",
"<p align=\"left\" style='color:#000; font-family:\"Cambria\"; font-size:12pt; margin:0; line-height:1; padding-bottom:0; padding-top:0; text-align:left; text-indent:36pt; '><span style='color:#000; font-family:\"Courier New\"; font-style:normal; font-weight:400; text-decoration:none; vertical-align:baseline; font-size:11pt; ' valign=\"baseline\">a - b = -26</span></p>",
"<p align=\"left\" style='color:#000; font-family:\"Cambria\"; font-size:12pt; margin:0; line-height:1; padding-bottom:0; padding-top:0; text-align:left; text-indent:36pt; '><span style='color:#000; font-family:\"Courier New\"; font-style:normal; font-weight:400; text-decoration:none; vertical-align:baseline; font-size:11pt; ' valign=\"baseline\">a * b = 120</span></p>",
"<p align=\"left\" style='color:#000; font-family:\"Cambria\"; font-size:12pt; margin:0; line-height:1; padding-bottom:0; padding-top:0; text-align:left; text-indent:36pt; '><span style='color:#000; font-family:\"Courier New\"; font-style:normal; font-weight:400; text-decoration:none; vertical-align:baseline; font-size:11pt; ' valign=\"baseline\">a / b = 0.1333333333</span></p>",
"<p align=\"left\" style='color:#000; font-family:\"Cambria\"; font-size:12pt; margin:0; line-height:1; padding-bottom:0; padding-top:0; text-align:left; text-indent:36pt; '><span style='color:#000; font-family:\"Courier New\"; font-style:normal; font-weight:400; text-decoration:none; vertical-align:baseline; font-size:11pt; ' valign=\"baseline\">a ** b = 1152921504606846976</span></p>",
"<p align=\"left\" style='color:#000; font-family:\"Cambria\"; font-size:12pt; margin:0; line-height:1; padding-bottom:0; padding-top:0; text-align:left; text-indent:36pt; '><span style='color:#000; font-family:\"Courier New\"; font-style:normal; font-weight:400; text-decoration:none; vertical-align:baseline; font-size:11pt; ' valign=\"baseline\">a % b = 4</span></p>",
"<br/>",
"<p align=\"left\" style='color:#000; font-family:\"Cambria\"; font-size:12pt; margin:0; line-height:1; padding-bottom:0; padding-top:0; text-align:left; '><span style=\"font-size:11pt; \">Experiment with different values of </span><span style=\"font-style:italic; font-size:11pt; \">a</span><span style=\"font-size:11pt; \">&nbsp;and </span><span style=\"font-style:italic; font-size:11pt; \">b</span><span style=\"font-size:11pt; \">&nbsp;until you are comfortable that the program works as you expect. &nbsp;Save this program as </span><span style='font-family:\"Courier New\"; font-weight:400; font-size:11pt; '>P0102a.py</span><span style='color:#000; font-family:\"Cambria\"; font-size:11pt; font-style:normal; font-weight:400; text-decoration:none; vertical-align:baseline; ' valign=\"baseline\">.</span></p>",
"<br/>",
"<p align=\"left\" style='color:#000; font-family:\"Cambria\"; font-size:12pt; margin:0; line-height:1; padding-bottom:0; padding-top:0; text-align:left; '><span style='color:#000; font-family:\"Cambria\"; font-style:normal; font-weight:700; text-decoration:none; vertical-align:baseline; font-size:11pt; ' valign=\"baseline\">Part B</span></p>",
"<p align=\"left\" style='color:#000; font-family:\"Cambria\"; font-size:12pt; margin:0; line-height:1; padding-bottom:0; padding-top:0; text-align:left; '><span style='color:#000; font-family:\"Cambria\"; font-size:11pt; font-style:normal; font-weight:400; text-decoration:none; vertical-align:baseline; ' valign=\"baseline\">From part A, notice that the numbers don’t align correctly. &nbsp;Also, let’s say we are only interested in 3 decimal places in the quotient. &nbsp;Use formatted strings with tab escape characters to modify the program in Part A so that the output looks like this:</span></p>",
"<br/>",
"<p align=\"left\" style='color:#000; font-family:\"Cambria\"; font-size:12pt; margin:0; line-height:1; padding-bottom:0; padding-top:0; text-align:left; '><span style='font-family:\"Courier New\"; font-weight:400; font-size:11pt; '>Enter the value of a: </span><span style='color:#000; font-family:\"Courier New\"; font-style:normal; font-weight:700; text-decoration:none; vertical-align:baseline; font-size:11pt; ' valign=\"baseline\">4</span></p>",
"<p align=\"left\" style='color:#000; font-family:\"Cambria\"; font-size:12pt; margin:0; line-height:1; padding-bottom:0; padding-top:0; text-align:left; '><span style='font-family:\"Courier New\"; font-weight:400; font-size:11pt; '>Enter the value of b: </span><span style='color:#000; font-family:\"Courier New\"; font-style:normal; font-weight:700; text-decoration:none; vertical-align:baseline; font-size:11pt; ' valign=\"baseline\">30</span></p>",
"<br/>",
"<p align=\"left\" style='color:#000; font-family:\"Cambria\"; font-size:12pt; margin:0; line-height:1; padding-bottom:0; padding-top:0; text-align:left; text-indent:36pt; '><span style='color:#000; font-family:\"Courier New\"; font-style:normal; font-weight:400; text-decoration:none; vertical-align:baseline; font-size:11pt; ' valign=\"baseline\">a + b &nbsp;&nbsp;&nbsp;&nbsp;&nbsp;&nbsp;&nbsp;&nbsp;= 34</span></p>",
"<p align=\"left\" style='color:#000; font-family:\"Cambria\"; font-size:12pt; margin:0; line-height:1; padding-bottom:0; padding-top:0; text-align:left; text-indent:36pt; '><span style='color:#000; font-family:\"Courier New\"; font-style:normal; font-weight:400; text-decoration:none; vertical-align:baseline; font-size:11pt; ' valign=\"baseline\">a - b &nbsp;&nbsp;&nbsp;&nbsp;&nbsp;&nbsp;&nbsp;&nbsp;= -26</span></p>",
"<p align=\"left\" style='color:#000; font-family:\"Cambria\"; font-size:12pt; margin:0; line-height:1; padding-bottom:0; padding-top:0; text-align:left; text-indent:36pt; '><span style='color:#000; font-family:\"Courier New\"; font-style:normal; font-weight:400; text-decoration:none; vertical-align:baseline; font-size:11pt; ' valign=\"baseline\">a * b &nbsp;&nbsp;&nbsp;&nbsp;&nbsp;&nbsp;&nbsp;&nbsp;= 120</span></p>",
"<p align=\"left\" style='color:#000; font-family:\"Cambria\"; font-size:12pt; margin:0; line-height:1; padding-bottom:0; padding-top:0; text-align:left; text-indent:36pt; '><span style='color:#000; font-family:\"Courier New\"; font-style:normal; font-weight:400; text-decoration:none; vertical-align:baseline; font-size:11pt; ' valign=\"baseline\">a / b &nbsp;&nbsp;&nbsp;&nbsp;&nbsp;&nbsp;&nbsp;&nbsp;= 0.133</span></p>",
"<p align=\"left\" style='color:#000; font-family:\"Cambria\"; font-size:12pt; margin:0; line-height:1; padding-bottom:0; padding-top:0; text-align:left; text-indent:36pt; '><span style='color:#000; font-family:\"Courier New\"; font-style:normal; font-weight:400; text-decoration:none; vertical-align:baseline; font-size:11pt; ' valign=\"baseline\">a ** b&nbsp;&nbsp;&nbsp;&nbsp;&nbsp;&nbsp;&nbsp;&nbsp;= 1152921504606846976</span></p>",
"<p align=\"left\" style='color:#000; font-family:\"Cambria\"; font-size:12pt; margin:0; line-height:1; padding-bottom:0; padding-top:0; text-align:left; text-indent:36pt; '><span style='color:#000; font-family:\"Courier New\"; font-style:normal; font-weight:400; text-decoration:none; vertical-align:baseline; font-size:11pt; ' valign=\"baseline\">a % b &nbsp;&nbsp;&nbsp;&nbsp;&nbsp;&nbsp;&nbsp;&nbsp;= 4</span></p>",
"<br/>",
"<br/>",
"<p align=\"left\" style='color:#000; font-family:\"Cambria\"; font-size:12pt; margin:0; line-height:1; padding-bottom:0; padding-top:0; text-align:left; '><span style=\"font-size:11pt; \">Name this program </span><span style='font-family:\"Courier New\"; font-weight:400; font-size:11pt; '>P0102b.py</span><span style='color:#000; font-family:\"Cambria\"; font-size:11pt; font-style:normal; font-weight:400; text-decoration:none; vertical-align:baseline; ' valign=\"baseline\">.</span></p>",
"<hr style=\"page-break-before:always; display:none; \"/>",
"<br/>",
"<br/>",
"<p align=\"left\" style='color:#000; font-family:\"Cambria\"; font-size:12pt; margin:0; line-height:1; padding-bottom:0; padding-top:0; text-align:left; '><span style='color:#000; font-family:\"Cambria\"; font-style:normal; font-weight:700; text-decoration:none; vertical-align:baseline; font-size:11pt; ' valign=\"baseline\">Part C</span></p>",
"<p align=\"left\" style='color:#000; font-family:\"Cambria\"; font-size:12pt; margin:0; line-height:1; padding-bottom:0; padding-top:0; text-align:left; '><span style='color:#000; font-family:\"Cambria\"; font-size:11pt; font-style:normal; font-weight:400; text-decoration:none; vertical-align:baseline; ' valign=\"baseline\">From part B, notice that the numbers are left aligned. &nbsp;We now wish to right align them. &nbsp;Use the field width property of the format specifiers of formatted strings to do this. &nbsp;Your output should look something like this:</span></p>",
"<br/>",
"<p align=\"left\" style='color:#000; font-family:\"Cambria\"; font-size:12pt; margin:0; line-height:1; padding-bottom:0; padding-top:0; text-align:left; '><span style='font-family:\"Courier New\"; font-weight:400; font-size:11pt; '>Enter the value of a: </span><span style='color:#000; font-family:\"Courier New\"; font-style:normal; font-weight:700; text-decoration:none; vertical-align:baseline; font-size:11pt; ' valign=\"baseline\">4</span></p>",
"<p align=\"left\" style='color:#000; font-family:\"Cambria\"; font-size:12pt; margin:0; line-height:1; padding-bottom:0; padding-top:0; text-align:left; '><span style='font-family:\"Courier New\"; font-weight:400; font-size:11pt; '>Enter the value of b: </span><span style='color:#000; font-family:\"Courier New\"; font-style:normal; font-weight:700; text-decoration:none; vertical-align:baseline; font-size:11pt; ' valign=\"baseline\">30</span></p>",
"<br/>",
"<p align=\"left\" style='color:#000; font-family:\"Cambria\"; font-size:12pt; margin:0; line-height:1; padding-bottom:0; padding-top:0; text-align:left; text-indent:36pt; '><span style='color:#000; font-family:\"Courier New\"; font-style:normal; font-weight:400; text-decoration:none; vertical-align:baseline; font-size:11pt; ' valign=\"baseline\">a + b &nbsp;&nbsp;&nbsp;&nbsp;&nbsp;&nbsp;&nbsp;&nbsp;= &nbsp; &nbsp; &nbsp; &nbsp; &nbsp; &nbsp; &nbsp; &nbsp; &nbsp; &nbsp;34</span></p>",
"<p align=\"left\" style='color:#000; font-family:\"Cambria\"; font-size:12pt; margin:0; line-height:1; padding-bottom:0; padding-top:0; text-align:left; text-indent:36pt; '><span style='color:#000; font-family:\"Courier New\"; font-style:normal; font-weight:400; text-decoration:none; vertical-align:baseline; font-size:11pt; ' valign=\"baseline\">a - b &nbsp;&nbsp;&nbsp;&nbsp;&nbsp;&nbsp;&nbsp;&nbsp;= &nbsp; &nbsp; &nbsp; &nbsp; &nbsp; &nbsp; &nbsp; &nbsp; &nbsp; -26</span></p>",
"<p align=\"left\" style='color:#000; font-family:\"Cambria\"; font-size:12pt; margin:0; line-height:1; padding-bottom:0; padding-top:0; text-align:left; text-indent:36pt; '><span style='color:#000; font-family:\"Courier New\"; font-style:normal; font-weight:400; text-decoration:none; vertical-align:baseline; font-size:11pt; ' valign=\"baseline\">a * b &nbsp;&nbsp;&nbsp;&nbsp;&nbsp;&nbsp;&nbsp;&nbsp;= &nbsp; &nbsp; &nbsp; &nbsp; &nbsp; &nbsp; &nbsp; &nbsp; &nbsp; 120</span></p>",
"<p align=\"left\" style='color:#000; font-family:\"Cambria\"; font-size:12pt; margin:0; line-height:1; padding-bottom:0; padding-top:0; text-align:left; text-indent:36pt; '><span style='color:#000; font-family:\"Courier New\"; font-style:normal; font-weight:400; text-decoration:none; vertical-align:baseline; font-size:11pt; ' valign=\"baseline\">a / b &nbsp;&nbsp;&nbsp;&nbsp;&nbsp;&nbsp;&nbsp;&nbsp;= &nbsp; &nbsp; &nbsp; &nbsp; &nbsp; &nbsp; &nbsp; &nbsp; 0.133</span></p>",
"<p align=\"left\" style='color:#000; font-family:\"Cambria\"; font-size:12pt; margin:0; line-height:1; padding-bottom:0; padding-top:0; text-align:left; text-indent:36pt; '><span style='color:#000; font-family:\"Courier New\"; font-style:normal; font-weight:400; text-decoration:none; vertical-align:baseline; font-size:11pt; ' valign=\"baseline\">a ** b&nbsp;&nbsp;&nbsp;&nbsp;&nbsp;&nbsp;&nbsp;&nbsp;= &nbsp; 1152921504606846976</span></p>",
"<p align=\"left\" style='color:#000; font-family:\"Cambria\"; font-size:12pt; margin:0; line-height:1; padding-bottom:0; padding-top:0; text-align:left; text-indent:36pt; '><span style='color:#000; font-family:\"Courier New\"; font-style:normal; font-weight:400; text-decoration:none; vertical-align:baseline; font-size:11pt; ' valign=\"baseline\">a % b &nbsp;&nbsp;&nbsp;&nbsp;&nbsp;&nbsp;&nbsp;&nbsp;= &nbsp; &nbsp; &nbsp; &nbsp; &nbsp; &nbsp; &nbsp; &nbsp; &nbsp; &nbsp; 4</span></p>",
"<br/>",
"<p align=\"left\" style='color:#000; font-family:\"Cambria\"; font-size:12pt; margin:0; line-height:1; padding-bottom:0; padding-top:0; text-align:left; '><span style=\"font-size:11pt; \">Experiment with different values of </span><span style=\"font-style:italic; font-size:11pt; \">a</span><span style=\"font-size:11pt; \">&nbsp;and </span><span style=\"font-style:italic; font-size:11pt; \">b</span><span style='color:#000; font-family:\"Cambria\"; font-size:11pt; font-style:normal; font-weight:400; text-decoration:none; vertical-align:baseline; ' valign=\"baseline\">. &nbsp;Does your code work for all values?</span></p>",
"<p align=\"left\" style='color:#000; font-family:\"Cambria\"; font-size:12pt; margin:0; line-height:1; padding-bottom:0; padding-top:0; text-align:left; '><span style=\"font-size:11pt; \">Name this program </span><span style='font-family:\"Courier New\"; font-weight:400; font-size:11pt; '>P0102c.py</span><span style='color:#000; font-family:\"Cambria\"; font-size:11pt; font-style:normal; font-weight:400; text-decoration:none; vertical-align:baseline; ' valign=\"baseline\">. &nbsp;Submit all three programs to Moodle individually or as a single zip file.</span></p>",
"<br/>",
"<br/>",
"<div>",
"<br/>",
"<p align=\"left\" style='color:#000; font-family:\"Cambria\"; font-size:12pt; margin:0; line-height:1; margin-right:18pt; padding-bottom:36pt; padding-top:0; text-align:left; '><span style='color:#000; font-family:\"Cambria\"; font-size:10pt; font-style:normal; font-weight:400; text-decoration:none; vertical-align:baseline; ' valign=\"baseline\">Spelman College – Computer and Information Sciences</span></p>",
"</div>",
"</body>",
"</html>",
"",
""
   ]
  },
  {
   "cell_type": "code",
   "execution_count": null,
   "metadata": {
    "deletable": false,
    "editable": true,
    "spelmanCs": {
     "type": "studentSolution"
    }
   },
   "outputs": [],
   "source": [
    "# Add your code here"
   ]
  }
 ],
 "metadata": {
  "kernelspec": {
   "display_name": "Python 3",
   "language": "python",
   "name": "python3"
  },
  "language_info": {
   "codemirror_mode": {
    "name": "ipython",
    "version": 3
   },
   "file_extension": ".py",
   "mimetype": "text/x-python",
   "name": "python",
   "nbconvert_exporter": "python",
   "pygments_lexer": "ipython3",
   "version": "3.6.2"
  },
   "spelmanCs": {
    "version": "1"
   }
 },
 "nbformat": 4,
 "nbformat_minor": 4
}
