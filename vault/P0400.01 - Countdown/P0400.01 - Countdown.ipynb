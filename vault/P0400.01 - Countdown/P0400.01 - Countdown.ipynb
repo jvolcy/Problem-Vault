{
 "cells": [
  {
   "cell_type": "markdown",
   "metadata": {
    "deletable": false,
    "editable": false,
    "spelmanCs": {
     "data": "",
     "problemDesc": "Countdown",
     "problemId": "P0400.01",
     "type": "problemStatement"
    }
   },
   "source": [
    "<img align=\"right\" alt=\"CS Logo\" src=\"../../images/cs_logo.png\" style=\"width:243.33px; margin:10px; \"/><p align=\"left\" style='color:#000; font-family:\"Cambria\"; font-size:16pt; margin:0; line-height:0.0; padding-bottom:0; padding-top:0; text-align:left; page-break-after:avoid; font-weight:700; '>P0400.01 - Countdown</p>\n",
    "\n",
    "_JVolcy_\n",
    "<br><br><br><br>\n",
    "\n",
    "\n",
    "Write a program that prompts the user for an integer *N*, then prints a countdown from *N* to 1.  The program should then print a 'Blast Off!' message.  Here is a sample session:\n",
    "\n",
    "\n",
    "\n",
    "<br>\n",
    "<table align='left', width=\"100%\">\n",
    "    <tr>\n",
    "        <td bgcolor=\"#E0EEFF\", style='color:#000; font-family:\"Courier\"; font-size:12pt;', align='left'>\n",
    "            Enter a value to begin the countdown:  <b>5</b><br>\n",
    "            5<br>\n",
    "            4<br>\n",
    "            3<br>\n",
    "            2<br>\n",
    "            1<br>\n",
    "            Blast Off!<br>\n",
    "        </td>\n",
    "    </tr>\n",
    "</table>\n",
    "\n",
    "<br><br><br><br>  \n",
    "\n",
    "\n",
    "<br><br><br><br><br><br>\n",
    "<span style=\"color:lightgray\">Spelman College  –  Computer and Information Sciences</span>\n"
   ]
  },
  {
   "cell_type": "code",
   "execution_count": 1,
   "metadata": {
    "deletable": false,
    "editable": true,
    "spelmanCs": {
     "type": "studentSolution"
    }
   },
   "outputs": [],
   "source": [
    "# Add your code here"
   ]
  }
 ],
 "metadata": {
  "kernelspec": {
   "display_name": "Python 3",
   "language": "python",
   "name": "python3"
  },
  "language_info": {
   "codemirror_mode": {
    "name": "ipython",
    "version": 3
   },
   "file_extension": ".py",
   "mimetype": "text/x-python",
   "name": "python",
   "nbconvert_exporter": "python",
   "pygments_lexer": "ipython3",
   "version": "3.6.8"
  },
  "spelmanCs": {
   "version": "1"
  },
  "widgets": {
   "application/vnd.jupyter.widget-state+json": {
    "state": {},
    "version_major": 2,
    "version_minor": 0
   }
  }
 },
 "nbformat": 4,
 "nbformat_minor": 4
}
