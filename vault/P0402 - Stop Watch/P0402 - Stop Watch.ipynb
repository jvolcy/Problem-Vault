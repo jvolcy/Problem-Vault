
{
 "cells": [
  {
   "cell_type": "markdown",
   "metadata": {
    "deletable": false,
    "editable": false,
    "spelmanCs": {
     "problemDesc": "Stop Watch",
     "problemId": "P0402",
     "type": "problemStatement",
     "data": ""
    }
   },
   "source": [
    "<html>",
"<head><meta content=\"text/html; charset=utf-8\" http-equiv=\"content-type\"/></head>",
"<body bgcolor=\"#ffffff\" style=\"background-color:#fff; max-width:432pt; padding:72pt 90pt 72pt 90pt; \">",
"<p align=\"left\" style='color:#000; font-family:\"Cambria\"; font-size:12pt; margin:0; line-height:1; padding-bottom:0; padding-top:0; text-align:right; '><span style=\"overflow:hidden; display:inline; margin:0.00px 0.00px; border:0.00px solid #000000; width:243.33px; \"><img align=\"right\" alt=\"CS Logo (no bg).png\" src=\"../images/cs_logo.png\" style=\"width:243.33px; margin:10px; \"/><br/><br/></span></p>",
"<br/>",
"<p align=\"left\" style='color:#000; font-family:\"Cambria\"; font-size:12pt; margin:0; line-height:1; padding-bottom:0; padding-top:0; text-align:left; '><span style=\"font-size:16pt; font-weight:700; \">P0402</span><span style='color:#000; font-family:\"Cambria\"; font-size:16pt; font-style:normal; font-weight:700; text-decoration:none; vertical-align:baseline; ' valign=\"baseline\">&nbsp;- Stop Watch</span></p>",
"<br/>",
"<p align=\"left\" style='color:#000; font-family:\"Cambria\"; font-size:12pt; margin:0; line-height:1; padding-bottom:0; padding-top:0; text-align:left; '><span style=\"font-size:11pt; \">Python offers many useful functions stored in function libraries that you can use in your program. &nbsp;So far, we’ve used the following functions: </span><span style='font-family:\"Calibri\"; font-weight:400; font-size:11pt; '>print(), format(), str(), int(), float() </span><span style=\"font-size:11pt; \">and a few others. &nbsp;These basic functions are “imported” for your automatically. &nbsp;Less used functions are stored in libraries that must be imported before they can be used. &nbsp;In this assignment, we use be using the </span><span style='font-family:\"Calibri\"; font-weight:400; font-size:11pt; '>sleep()</span><span style=\"font-size:11pt; \">&nbsp;function which must be imported from the </span><span style='font-family:\"Calibri\"; font-weight:400; font-size:11pt; '>time</span><span style=\"font-size:11pt; \">&nbsp;library. &nbsp;The </span><span style='font-family:\"Calibri\"; font-weight:400; font-size:11pt; '>sleep()</span><span style='color:#000; font-family:\"Cambria\"; font-style:normal; font-weight:400; text-decoration:none; vertical-align:baseline; font-size:11pt; ' valign=\"baseline\">&nbsp;function causes your program to pause for a specified number of seconds. &nbsp;Here is an example program:</span></p>",
"<br/>",
"<p align=\"left\" style='color:#000; font-family:\"Cambria\"; font-size:12pt; margin:0; line-height:1; padding-bottom:0; padding-top:0; text-align:left; '><span style='color:#f00; font-style:normal; text-decoration:none; vertical-align:baseline; font-family:\"Roboto Mono\"; font-weight:400; font-size:11pt; ' valign=\"baseline\"># J. Volcy</span></p>",
"<p align=\"left\" style='color:#000; font-family:\"Cambria\"; font-size:12pt; margin:0; line-height:1; padding-bottom:0; padding-top:0; text-align:left; '><span style='color:#f00; font-style:normal; text-decoration:none; vertical-align:baseline; font-family:\"Roboto Mono\"; font-weight:400; font-size:11pt; ' valign=\"baseline\"># program that demonstrates the import and use of the</span></p>",
"<p align=\"left\" style='color:#000; font-family:\"Cambria\"; font-size:12pt; margin:0; line-height:1; padding-bottom:0; padding-top:0; text-align:left; '><span style='color:#f00; font-style:normal; text-decoration:none; vertical-align:baseline; font-family:\"Roboto Mono\"; font-weight:400; font-size:11pt; ' valign=\"baseline\"># sleep() function</span></p>",
"<br/>",
"<p align=\"left\" style='color:#000; font-family:\"Cambria\"; font-size:12pt; margin:0; line-height:1; padding-bottom:0; padding-top:0; text-align:left; '><span style='color:#f00; font-style:normal; text-decoration:none; vertical-align:baseline; font-family:\"Roboto Mono\"; font-weight:400; font-size:11pt; ' valign=\"baseline\">#place all of your imports before your code</span></p>",
"<p align=\"left\" style='color:#000; font-family:\"Cambria\"; font-size:12pt; margin:0; line-height:1; padding-bottom:0; padding-top:0; text-align:left; '><span style='font-family:\"Roboto Mono\"; font-weight:400; font-size:11pt; color:#e69138; '>from</span><span style='font-family:\"Roboto Mono\"; font-weight:400; font-size:11pt; '>&nbsp;time </span><span style='font-family:\"Roboto Mono\"; font-weight:400; font-size:11pt; color:#e69138; '>import</span><span style='color:#000; font-family:\"Roboto Mono\"; font-size:11pt; font-style:normal; font-weight:400; text-decoration:none; vertical-align:baseline; ' valign=\"baseline\">&nbsp;sleep</span></p>",
"<br/>",
"<p align=\"left\" style='color:#000; font-family:\"Cambria\"; font-size:12pt; margin:0; line-height:1; padding-bottom:0; padding-top:0; text-align:left; '><span style='color:#f00; font-style:normal; text-decoration:none; vertical-align:baseline; font-family:\"Roboto Mono\"; font-weight:400; font-size:11pt; ' valign=\"baseline\">#count from 10 to 0</span></p>",
"<p align=\"left\" style='color:#000; font-family:\"Cambria\"; font-size:12pt; margin:0; line-height:1; padding-bottom:0; padding-top:0; text-align:left; '><span style='font-family:\"Roboto Mono\"; font-weight:400; font-size:11pt; color:#e69138; '>for</span><span style='font-family:\"Roboto Mono\"; font-weight:400; font-size:11pt; '>&nbsp;i </span><span style='font-family:\"Roboto Mono\"; font-weight:400; font-size:11pt; color:#e69138; '>in</span><span style='font-family:\"Roboto Mono\"; font-weight:400; font-size:11pt; '>&nbsp;</span><span style='font-family:\"Roboto Mono\"; font-weight:400; font-size:11pt; color:#a64d79; '>range</span><span style='color:#000; font-family:\"Roboto Mono\"; font-size:11pt; font-style:normal; font-weight:400; text-decoration:none; vertical-align:baseline; ' valign=\"baseline\">(10, -1, -1):</span></p>",
"<p align=\"left\" style='color:#000; font-family:\"Cambria\"; font-size:12pt; margin:0; line-height:1; padding-bottom:0; padding-top:0; text-align:left; '><span style='font-family:\"Roboto Mono\"; font-weight:400; font-size:11pt; '>&nbsp;&nbsp;&nbsp;&nbsp;&nbsp;&nbsp;&nbsp;&nbsp;</span><span style='font-family:\"Roboto Mono\"; font-weight:400; font-size:11pt; color:#a64d79; '>print</span><span style='color:#000; font-family:\"Roboto Mono\"; font-size:11pt; font-style:normal; font-weight:400; text-decoration:none; vertical-align:baseline; ' valign=\"baseline\">&nbsp;(i)</span></p>",
"<p align=\"left\" style='color:#000; font-family:\"Cambria\"; font-size:12pt; margin:0; line-height:1; padding-bottom:0; padding-top:0; text-align:left; '><span style='color:#000; font-family:\"Roboto Mono\"; font-size:11pt; font-style:normal; font-weight:400; text-decoration:none; vertical-align:baseline; ' valign=\"baseline\">&nbsp;&nbsp;&nbsp;&nbsp;&nbsp;&nbsp;&nbsp;&nbsp;sleep(1.0)</span></p>",
"<p align=\"left\" style='color:#000; font-family:\"Cambria\"; font-size:12pt; margin:0; line-height:1; padding-bottom:0; padding-top:0; text-align:left; '><span style='font-family:\"Roboto Mono\"; font-weight:400; font-size:11pt; color:#a64d79; '>print</span><span style='font-family:\"Roboto Mono\"; font-weight:400; font-size:11pt; '>&nbsp;(</span><span style='font-family:\"Roboto Mono\"; font-weight:400; font-size:11pt; color:#6aa84f; '>\"Blast off!\"</span><span style='color:#000; font-family:\"Roboto Mono\"; font-size:11pt; font-style:normal; font-weight:400; text-decoration:none; vertical-align:baseline; ' valign=\"baseline\">)</span></p>",
"<br/>",
"<p align=\"left\" style='color:#000; font-family:\"Cambria\"; font-size:12pt; margin:0; line-height:1; padding-bottom:0; padding-top:0; text-align:left; '><span style=\"font-size:11pt; \">The program counts down from 10 to 0 in 1 second intervals before printing “Blast Off” (You should test it for yourself by copying and pasting the code into a blank .py file). &nbsp;Now, use the </span><span style='font-family:\"Calibri\"; font-weight:400; font-size:11pt; '>sleep()</span><span style='color:#000; font-family:\"Cambria\"; font-style:normal; font-weight:400; text-decoration:none; vertical-align:baseline; font-size:11pt; ' valign=\"baseline\">&nbsp;function to simulate a running stopwatch that displays tenths of a second, seconds, minutes and hours in the following format:</span></p>",
"<p align=\"left\" style='color:#000; font-family:\"Cambria\"; font-size:12pt; margin:0; line-height:1; padding-bottom:0; padding-top:0; text-align:left; margin-left:144pt; text-indent:36pt; '><span style='color:#000; font-family:\"Cambria\"; font-style:normal; font-weight:400; text-decoration:none; vertical-align:baseline; font-size:14pt; ' valign=\"baseline\">hh:mm:ss.d</span></p>",
"<br/>",
"<p align=\"left\" style='color:#000; font-family:\"Cambria\"; font-size:12pt; margin:0; line-height:1; padding-bottom:0; padding-top:0; text-align:left; '><span style='color:#000; font-family:\"Cambria\"; font-style:normal; font-weight:400; text-decoration:none; vertical-align:baseline; font-size:11pt; ' valign=\"baseline\">Your program must be written as a series of nested loops (it should contain no “if” statements). &nbsp;The first thing your program should print is “00:00:00.0”. &nbsp;One tenth of a seconds later, it should print “00:00:00.1”, etc. &nbsp;The program should end when it reaches 23:59:59.9.</span></p>",
"<br/>",
"<p align=\"left\" style='color:#000; font-family:\"Cambria\"; font-size:12pt; margin:0; line-height:1; padding-bottom:0; padding-top:0; text-align:left; '><span style='color:#000; font-family:\"Cambria\"; font-style:normal; font-weight:400; text-decoration:none; vertical-align:baseline; font-size:11pt; ' valign=\"baseline\">Note that you will not be able to properly test &nbsp;your code in the IDLE interface because output to the IDLE console is much too slow (it will run, but it won’t keep good time). &nbsp;Instead, you will need to execute your program directly from a terminal:</span></p>",
"<ol start=\"1\" style=\"margin:0; padding:0; list-style-type:none; counter-reset:lst-ctn-kix_gzet7s2g99dx-0 0; \">",
"<li align=\"left\" style='{color:#000; font-family:\"Cambria\"; font-size:12pt; line-height:1; padding-bottom:0; padding-top:0; text-align:left; margin-left:36pt; padding-left:0; counter-increment:lst-ctn-kix_gzet7s2g99dx-0} :before{content:\"\" counter(lst-ctn-kix_gzet7s2g99dx-0, decimal) \") \"}; '><span style='color:#000; font-family:\"Cambria\"; font-style:normal; font-weight:400; text-decoration:none; vertical-align:baseline; font-size:11pt; ' valign=\"baseline\">open a terminal window</span></li>",
"<li align=\"left\" style='{color:#000; font-family:\"Cambria\"; font-size:12pt; line-height:1; padding-bottom:0; padding-top:0; text-align:left; margin-left:36pt; padding-left:0; counter-increment:lst-ctn-kix_gzet7s2g99dx-0} :before{content:\"\" counter(lst-ctn-kix_gzet7s2g99dx-0, decimal) \") \"}; '>",
"<span style='font-family:\"Calibri\"; font-weight:400; font-size:11pt; '>cd</span><span style='color:#000; font-family:\"Cambria\"; font-style:normal; font-weight:400; text-decoration:none; vertical-align:baseline; font-size:11pt; ' valign=\"baseline\">&nbsp;to the directory containing your Python script</span>",
"</li>",
"<li align=\"left\" style='{color:#000; font-family:\"Cambria\"; font-size:12pt; line-height:1; padding-bottom:0; padding-top:0; text-align:left; margin-left:36pt; padding-left:0; counter-increment:lst-ctn-kix_gzet7s2g99dx-0} :before{content:\"\" counter(lst-ctn-kix_gzet7s2g99dx-0, decimal) \") \"}; '>",
"<span style=\"font-size:11pt; \">assuming your script is named </span><span style=\"font-size:11pt; font-style:italic; \">P0402.py</span><span style=\"font-size:11pt; \">, you would execute the script with the command<br/>&nbsp;&nbsp;&nbsp;&nbsp;&nbsp;&nbsp;&nbsp;&nbsp;&nbsp;&nbsp;&nbsp;&nbsp;&nbsp;&nbsp;&nbsp;&nbsp;</span><span style='color:#000; font-family:\"Roboto Mono\"; font-size:11pt; font-style:normal; font-weight:400; text-decoration:none; vertical-align:baseline; ' valign=\"baseline\">python3 P0402.py</span>",
"</li>",
"</ol>",
"<br/>",
"<div>",
"<br/>",
"<p align=\"left\" style='color:#000; font-family:\"Cambria\"; font-size:12pt; margin:0; line-height:1; margin-right:18pt; padding-bottom:36pt; padding-top:0; text-align:left; '><span style='color:#999; font-family:\"Cambria\"; font-size:10pt; font-style:normal; font-weight:400; text-decoration:none; vertical-align:baseline; ' valign=\"baseline\">Spelman College – Computer and Information Sciences</span></p>",
"</div>",
"</body>",
"</html>",
"",
""
   ]
  },
  {
   "cell_type": "code",
   "execution_count": null,
   "metadata": {
    "deletable": false,
    "editable": true,
    "spelmanCs": {
     "type": "studentSolution"
    }
   },
   "outputs": [],
   "source": [
    "# Add your code here"
   ]
  }
 ],
 "metadata": {
  "kernelspec": {
   "display_name": "Python 3",
   "language": "python",
   "name": "python3"
  },
  "language_info": {
   "codemirror_mode": {
    "name": "ipython",
    "version": 3
   },
   "file_extension": ".py",
   "mimetype": "text/x-python",
   "name": "python",
   "nbconvert_exporter": "python",
   "pygments_lexer": "ipython3",
   "version": "3.6.2"
  },
   "spelmanCs": {
    "version": "1"
   }
 },
 "nbformat": 4,
 "nbformat_minor": 4
}
