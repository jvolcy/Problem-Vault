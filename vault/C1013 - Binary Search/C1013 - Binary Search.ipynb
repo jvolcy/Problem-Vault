
{
 "cells": [
  {
   "cell_type": "markdown",
   "metadata": {
    "deletable": false,
    "editable": false,
    "spelmanCs": {
     "problemDesc": "Binary Search",
     "problemId": "C1013",
     "type": "problemStatement",
     "data": ""
    }
   },
   "source": [
    "<html>",
"<head><meta content=\"text/html; charset=utf-8\" http-equiv=\"content-type\"/></head>",
"<body bgcolor=\"#ffffff\" style=\"background-color:#fff; max-width:468pt; padding:54pt 72pt 54pt 72pt; \">",
"<p align=\"left\" style='color:#000; font-family:\"Cambria\"; font-size:12pt; margin:0; line-height:1; padding-bottom:0; padding-top:0; text-align:right; '><span style=\"overflow:hidden; display:inline; margin:0.00px 0.00px; border:0.00px solid #000000; width:243.33px; \"><img align=\"right\" alt=\"CS Logo (no bg).png\" src=\"../images/cs_logo.png\" style=\"width:243.33px; margin:10px; \"/><br/><br/></span></p>",
"<p align=\"left\" style='color:#000; font-family:\"Cambria\"; font-size:16pt; margin:0; line-height:1; padding-bottom:0; padding-top:0; text-align:left; page-break-after:avoid; font-weight:700; '><span>C1013</span><span style='color:#000; font-family:\"Cambria\"; font-size:16pt; font-style:normal; font-weight:700; text-decoration:none; vertical-align:baseline; ' valign=\"baseline\">&nbsp;- Binary Search</span></p>",
"<p align=\"left\" style='color:#000; font-family:\"Cambria\"; font-size:12pt; margin:0; line-height:1; padding-bottom:0; padding-top:0; text-align:left; '><span style='color:#000; font-family:\"Cambria\"; font-size:9pt; font-style:normal; font-weight:700; text-decoration:none; vertical-align:baseline; ' valign=\"baseline\">(JVolcy)</span></p>",
"<br/>",
"<br/>",
"<br/>",
"<br/>",
"<p align=\"left\" style='color:#000; font-family:\"Cambria\"; font-size:12pt; margin:0; line-height:1; padding-bottom:0; padding-top:0; text-align:left; '><span style='color:#000; font-family:\"Courier New\"; font-size:12pt; font-style:normal; font-weight:400; text-decoration:none; vertical-align:baseline; ' valign=\"baseline\">const int SIZE = 200;</span></p>",
"<p align=\"left\" style='color:#000; font-family:\"Cambria\"; font-size:12pt; margin:0; line-height:1; padding-bottom:0; padding-top:0; text-align:left; '><span style='color:#000; font-family:\"Courier New\"; font-size:12pt; font-style:normal; font-weight:400; text-decoration:none; vertical-align:baseline; ' valign=\"baseline\">int sortedArray[SIZE] = { 2, 4, 18, 20, 23, 25, 25, 26, 43, 57, 58, 63, 68, 71, 72, 78, 92, 92, 94, 97, 107, 120, 124, 142, 148, 149, 166, 169, 172, 174, 188, 189, 190, 201, 209, 217, 221, 226, 229, 237, 243, 244, 248, 250, 253, 254, 259, 263, 264, 276, 299, 304, 307, 311, 311, 314, 315, 329, 333, 333, 349, 356, 359, 361, 362, 371, 374, 375, 378, 390, 399, 406, 418, 419, 420, 421, 426, 431, 438, 441, 448, 448, 449, 453, 456, 461, 463, 469, 476, 479, 494, 495, 497, 499, 504, 504, 504, 512, 513, 515, 517, 521, 522, 523, 523, 533, 536, 541, 544, 548, 548, 549, 557, 560, 562, 565, 567, 571, 581, 588, 597, 607, 612, 612, 613, 613, 616, 617, 618, 618, 629, 630, 632, 635, 641, 647, 648, 648, 661, 662, 666, 673, 675, 680, 687, 689, 699, 705, 715, 718, 731, 734, 734, 741, 742, 746, 748, 751, 752, 762, 771, 776, 778, 792, 798, 807, 810, 816, 824, 826, 832, 835, 842, 855, 858, 872, 880, 890, 903, 907, 909, 910, 912, 912, 914, 920, 923, 932, 937, 948, 959, 964, 976, 980, 981, 983, 984, 986, 989, 992};</span></p>",
"<br/>",
"<br/>",
"<p align=\"left\" style='color:#000; font-family:\"Cambria\"; font-size:12pt; margin:0; line-height:1; padding-bottom:0; padding-top:0; text-align:left; '><span>Given the sorted array of 200 integers shown above, write a program that prompts the user for an integer, N. &nbsp;The program should then perform a binary search on </span><span style='font-family:\"Courier New\"; font-weight:400; '>sortedArray[]</span><span style='color:#000; font-family:\"Cambria\"; font-size:12pt; font-style:normal; font-weight:400; text-decoration:none; vertical-align:baseline; ' valign=\"baseline\">&nbsp;for N. &nbsp; If N is found, the program should print the index of N as well as the number of iterations of the binary search taken to find it. &nbsp;If N is less than the smallest value in the array or greater than the largest value in the array, print an appropriate message. &nbsp;If N is within the range of values in the array, but not in the array, print the two indexes that bracket N as well as the number of binary search iterations it took to locate them. So, in the array above, if the user enters N=7, the program should output indexes 1 and 2 (values of 4 and 18) as the indexes of the elements that bracket N. &nbsp;It should also print out the number of iterations it took to find these indexes. The program should end when the user enters a negative value for N.</span></p>",
"<br/>",
"<div>",
"<br/>",
"<p align=\"left\" style='color:#000; font-family:\"Cambria\"; font-size:12pt; margin:0; line-height:1; margin-right:18pt; padding-bottom:36pt; padding-top:0; text-align:left; '><span style='color:#999; font-family:\"Cambria\"; font-size:10pt; font-weight:400; '>Spelman College </span><span style=\"color:#999; font-size:10pt; \">&nbsp; </span><span style='color:#999; font-family:\"Cambria\"; font-size:10pt; font-style:normal; font-weight:400; text-decoration:none; vertical-align:baseline; ' valign=\"baseline\">– &nbsp; Computer and Information Sciences</span></p>",
"</div>",
"</body>",
"</html>",
"",
""
   ]
  },
  {
   "cell_type": "code",
   "execution_count": null,
   "metadata": {
    "deletable": false,
    "editable": true,
    "spelmanCs": {
     "type": "studentSolution"
    }
   },
   "outputs": [],
   "source": [
    "# Add your code here"
   ]
  }
 ],
 "metadata": {
  "kernelspec": {
   "display_name": "Python 3",
   "language": "python",
   "name": "python3"
  },
  "language_info": {
   "codemirror_mode": {
    "name": "ipython",
    "version": 3
   },
   "file_extension": ".py",
   "mimetype": "text/x-python",
   "name": "python",
   "nbconvert_exporter": "python",
   "pygments_lexer": "ipython3",
   "version": "3.6.2"
  },
   "spelmanCs": {
    "version": "1"
   }
 },
 "nbformat": 4,
 "nbformat_minor": 4
}
