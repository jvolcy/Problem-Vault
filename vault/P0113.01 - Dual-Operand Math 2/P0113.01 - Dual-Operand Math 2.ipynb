
{
 "cells": [
  {
   "cell_type": "markdown",
   "metadata": {
    "deletable": false,
    "editable": false,
    "spelmanCs": {
     "problemDesc": "Dual-Operand Math 2",
     "problemId": "P0113.01",
     "type": "problemStatement",
     "data": ""
    }
   },
   "source": [
    "<html>",
"<head><meta content=\"text/html; charset=utf-8\" http-equiv=\"content-type\"/></head>",
"<body bgcolor=\"#ffffff\" style=\"background-color:#fff; max-width:468pt; padding:54pt 72pt 54pt 72pt; \">",
"<p align=\"left\" style='color:#000; font-family:\"Cambria\"; font-size:12pt; margin:0; line-height:1; padding-bottom:0; padding-top:0; text-align:right; '><span style=\"overflow:hidden; display:inline; margin:0.00px 0.00px; border:0.00px solid #000000; width:243.33px; \"><img align=\"right\" alt=\"CS Logo\" src=\"../images/cs_logo.png\" style=\"width:243.33px; margin:10px; \"/><br/><br/></span></p>",
"<p align=\"left\" style='color:#000; font-family:\"Cambria\"; font-size:16pt; margin:0; line-height:1; padding-bottom:0; padding-top:0; text-align:left; page-break-after:avoid; font-weight:700; '><span>P0113.01</span><span style='color:#000; font-family:\"Cambria\"; font-size:16pt; font-style:normal; font-weight:700; text-decoration:none; vertical-align:baseline; ' valign=\"baseline\">&nbsp;- Dual-Operand Math 2</span></p>",
"<p align=\"left\" style='color:#000; font-family:\"Cambria\"; font-size:12pt; margin:0; line-height:1; padding-bottom:0; padding-top:0; text-align:left; '><span style='color:#000; font-family:\"Cambria\"; font-size:9pt; font-style:normal; font-weight:700; text-decoration:none; vertical-align:baseline; ' valign=\"baseline\">(Horstmann, Python, 2e)</span></p>",
"<br/>",
"<br/>",
"<br/>",
"<br/>",
"<p align=\"left\" style='color:#000; font-family:\"Cambria\"; font-size:12pt; margin:0; line-height:1; padding-bottom:0; padding-top:0; text-align:left; '><span style='color:#000; font-family:\"Cambria\"; font-size:12pt; font-style:normal; font-weight:400; text-decoration:none; vertical-align:baseline; ' valign=\"baseline\">Write a program that prompts the user for two integers and then prints</span></p>",
"<br/>",
"<p align=\"left\" style='color:#000; font-family:\"Cambria\"; font-size:12pt; margin:0; line-height:1; margin-left:22.5pt; padding-bottom:0; padding-top:0; text-align:left; text-indent:-9pt; '><span style='color:#000; font-family:\"Cambria\"; font-size:12pt; font-style:normal; font-weight:400; text-decoration:none; vertical-align:baseline; ' valign=\"baseline\">• The sum</span></p>",
"<p align=\"left\" style='color:#000; font-family:\"Cambria\"; font-size:12pt; margin:0; line-height:1; margin-left:22.5pt; padding-bottom:0; padding-top:0; text-align:left; text-indent:-9pt; '><span style='color:#000; font-family:\"Cambria\"; font-size:12pt; font-style:normal; font-weight:400; text-decoration:none; vertical-align:baseline; ' valign=\"baseline\">• The difference</span></p>",
"<p align=\"left\" style='color:#000; font-family:\"Cambria\"; font-size:12pt; margin:0; line-height:1; margin-left:22.5pt; padding-bottom:0; padding-top:0; text-align:left; text-indent:-9pt; '><span style='color:#000; font-family:\"Cambria\"; font-size:12pt; font-style:normal; font-weight:400; text-decoration:none; vertical-align:baseline; ' valign=\"baseline\">• The product</span></p>",
"<p align=\"left\" style='color:#000; font-family:\"Cambria\"; font-size:12pt; margin:0; line-height:1; margin-left:22.5pt; padding-bottom:0; padding-top:0; text-align:left; text-indent:-9pt; '><span style='color:#000; font-family:\"Cambria\"; font-size:12pt; font-style:normal; font-weight:400; text-decoration:none; vertical-align:baseline; ' valign=\"baseline\">• The average</span></p>",
"<p align=\"left\" style='color:#000; font-family:\"Cambria\"; font-size:12pt; margin:0; line-height:1; margin-left:22.5pt; padding-bottom:0; padding-top:0; text-align:left; text-indent:-9pt; '><span style='color:#000; font-family:\"Cambria\"; font-size:12pt; font-style:normal; font-weight:400; text-decoration:none; vertical-align:baseline; ' valign=\"baseline\">• The distance (absolute value of the difference)</span></p>",
"<p align=\"left\" style='color:#000; font-family:\"Cambria\"; font-size:12pt; margin:0; line-height:1; margin-left:22.5pt; padding-bottom:0; padding-top:0; text-align:left; text-indent:-9pt; '><span style='color:#000; font-family:\"Cambria\"; font-size:12pt; font-style:normal; font-weight:400; text-decoration:none; vertical-align:baseline; ' valign=\"baseline\">• The maximum (the larger of the two)</span></p>",
"<p align=\"left\" style='color:#000; font-family:\"Cambria\"; font-size:12pt; margin:0; line-height:1; margin-left:22.5pt; padding-bottom:0; padding-top:0; text-align:left; text-indent:-9pt; '><span style='color:#000; font-family:\"Cambria\"; font-size:12pt; font-style:normal; font-weight:400; text-decoration:none; vertical-align:baseline; ' valign=\"baseline\">• The minimum (the smaller of the two)</span></p>",
"<br/>",
"<p align=\"left\" style='color:#000; font-family:\"Cambria\"; font-size:12pt; margin:0; line-height:1; padding-bottom:0; padding-top:0; text-align:left; '><span style=\"font-style:italic; \">Hint</span><span>: Python defines </span><span style='font-family:\"Droid Sans Mono\"; font-weight:400; '>max</span><span>&nbsp;and </span><span style='font-family:\"Droid Sans Mono\"; font-weight:400; '>min</span><span>&nbsp;functions that accept a sequence of values, each separated with a comma. &nbsp;So, &nbsp; </span><span style='font-family:\"Droid Sans Mono\"; font-weight:400; '>a = max (b , c)</span><span>&nbsp; &nbsp;sets </span><span style='font-family:\"Droid Sans Mono\"; font-weight:400; '>a</span><span>&nbsp;to the greater value of </span><span style='font-family:\"Droid Sans Mono\"; font-weight:400; '>b</span><span>&nbsp;and </span><span style='font-family:\"Droid Sans Mono\"; font-weight:400; '>c</span><span style='color:#000; font-family:\"Cambria\"; font-size:12pt; font-style:normal; font-weight:400; text-decoration:none; vertical-align:baseline; ' valign=\"baseline\">.</span></p>",
"<br/>",
"<div>",
"<br/>",
"<p align=\"left\" style='color:#000; font-family:\"Cambria\"; font-size:12pt; margin:0; line-height:1; margin-right:18pt; padding-bottom:36pt; padding-top:0; text-align:left; '><span style='color:#999; font-family:\"Cambria\"; font-size:10pt; font-weight:400; '>Spelman College </span><span style=\"color:#999; font-size:10pt; \">&nbsp; </span><span style='color:#999; font-family:\"Cambria\"; font-size:10pt; font-style:normal; font-weight:400; text-decoration:none; vertical-align:baseline; ' valign=\"baseline\">– &nbsp; Computer and Information Sciences</span></p>",
"</div>",
"</body>",
"</html>",
"",
""
   ]
  },
  {
   "cell_type": "code",
   "execution_count": null,
   "metadata": {
    "deletable": false,
    "editable": true,
    "spelmanCs": {
     "type": "studentSolution"
    }
   },
   "outputs": [],
   "source": [
    "# Add your code here"
   ]
  }
 ],
 "metadata": {
  "kernelspec": {
   "display_name": "Python 3",
   "language": "python",
   "name": "python3"
  },
  "language_info": {
   "codemirror_mode": {
    "name": "ipython",
    "version": 3
   },
   "file_extension": ".py",
   "mimetype": "text/x-python",
   "name": "python",
   "nbconvert_exporter": "python",
   "pygments_lexer": "ipython3",
   "version": "3.6.2"
  },
   "spelmanCs": {
    "version": "1"
   }
 },
 "nbformat": 4,
 "nbformat_minor": 4
}
