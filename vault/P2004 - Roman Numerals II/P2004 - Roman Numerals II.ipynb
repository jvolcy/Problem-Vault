
{
 "cells": [
  {
   "cell_type": "markdown",
   "metadata": {
    "deletable": false,
    "editable": false,
    "spelmanCs": {
     "problemDesc": "Roman Numerals II",
     "problemId": "P2004",
     "type": "problemStatement",
     "data": ""
    }
   },
   "source": [
    "<html>",
"<head><meta content=\"text/html; charset=utf-8\" http-equiv=\"content-type\"/></head>",
"<body bgcolor=\"#ffffff\" style=\"background-color:#fff; max-width:468pt; padding:54pt 72pt 54pt 72pt; \">",
"<p align=\"left\" style='color:#000; font-family:\"Cambria\"; font-size:12pt; margin:0; line-height:1; padding-bottom:0; padding-top:0; text-align:right; '><span style=\"overflow:hidden; display:inline; margin:0.00px 0.00px; border:0.00px solid #000000; width:243.33px; \"><img align=\"right\" alt=\"CS Logo (no bg).png\" src=\"../images/cs_logo.png\" style=\"width:243.33px; margin:10px; \"/><br/><br/></span></p>",
"<p align=\"left\" style='color:#000; font-family:\"Cambria\"; font-size:12pt; margin:0; line-height:1; padding-bottom:0; padding-top:0; text-align:left; '><span style=\"font-size:16pt; font-weight:700; \">P2004</span></p>",
"<p align=\"left\" style='color:#000; font-family:\"Cambria\"; font-size:12pt; margin:0; line-height:1; padding-bottom:0; padding-top:0; text-align:left; '><span style='color:#000; font-family:\"Cambria\"; font-size:16pt; font-style:normal; font-weight:700; text-decoration:none; vertical-align:baseline; ' valign=\"baseline\">Roman Numerals II</span></p>",
"<p align=\"left\" style='color:#000; font-family:\"Cambria\"; font-size:12pt; margin:0; line-height:1; padding-bottom:0; padding-top:0; text-align:left; '><span style='color:#000; font-size:10pt; font-style:normal; text-decoration:none; vertical-align:baseline; font-family:\"Cambria\"; font-weight:700; ' valign=\"baseline\">JVolcy</span></p>",
"<br/>",
"<br/>",
"<br/>",
"<p align=\"left\" style='color:#000; font-family:\"Cambria\"; font-size:12pt; margin:0; line-height:1; padding-bottom:0; padding-top:0; text-align:left; '><span>The file</span><span style='font-family:\"Courier New\"; font-weight:400; '>&nbsp;</span><span style='-webkit-text-decoration-skip:none; color:#15c; text-decoration:underline; text-decoration-skip-ink:none; font-family:\"Courier New\"; font-weight:400; '><a href=\"https://www.google.com/url?q=https://drive.google.com/open?id%3D0B_r-sqlBQ5V3Vk52cnI2X2xvS0k&amp;sa=D&amp;ust=1577372537033000\" style=\"color:inherit; text-decoration:inherit; \">roman.txt</a></span><span style='font-family:\"Courier New\"; font-weight:400; '>&nbsp;</span><span style='color:#000; font-family:\"Cambria\"; font-size:12pt; font-style:normal; font-weight:400; text-decoration:none; vertical-align:baseline; ' valign=\"baseline\">contains Roman numerals from 1 to 3999, one on each line. &nbsp;In other words, line 1 contains the Roman numeral equivalent of 1. &nbsp;Line 2 contains the Roman numeral equivalent of 2. &nbsp;Line 388 contains the Roman numeral equivalent of 388, etc.:</span></p>",
"<br/>",
"<p align=\"left\" style='color:#000; font-family:\"Cambria\"; font-size:12pt; margin:0; line-height:1; padding-bottom:0; padding-top:0; text-align:left; '><span>Contents of </span><span style='font-family:\"Courier New\"; font-weight:400; '>roman.txt</span><span style='color:#000; font-family:\"Cambria\"; font-size:12pt; font-style:normal; font-weight:400; text-decoration:none; vertical-align:baseline; ' valign=\"baseline\">&nbsp;: </span></p>",
"<br/>",
"<p align=\"left\" style='color:#000; font-family:\"Cambria\"; font-size:12pt; margin:0; line-height:1; padding-bottom:0; padding-top:0; text-align:left; '><span style='font-family:\"Courier New\"; font-weight:400; '>I&nbsp;&nbsp;&nbsp;&nbsp;&nbsp;&nbsp;&nbsp;&nbsp;&nbsp;&nbsp;&nbsp;&nbsp;&nbsp;&nbsp;&nbsp;&nbsp;&nbsp;&nbsp;&nbsp;&nbsp;&nbsp;&nbsp;&nbsp;&nbsp;&nbsp;&nbsp;&nbsp;&nbsp;&nbsp;&nbsp;&nbsp;&nbsp;</span><span style='color:#00f; font-family:\"Calibri\"; font-size:12pt; font-style:normal; font-weight:400; text-decoration:none; vertical-align:baseline; ' valign=\"baseline\">← line 1</span></p>",
"<p align=\"left\" style='color:#000; font-family:\"Cambria\"; font-size:12pt; margin:0; line-height:1; padding-bottom:0; padding-top:0; text-align:left; '><span style='color:#000; font-size:12pt; font-style:normal; text-decoration:none; vertical-align:baseline; font-family:\"Courier New\"; font-weight:400; ' valign=\"baseline\">II</span></p>",
"<p align=\"left\" style='color:#000; font-family:\"Cambria\"; font-size:12pt; margin:0; line-height:1; padding-bottom:0; padding-top:0; text-align:left; '><span style='color:#000; font-size:12pt; font-style:normal; text-decoration:none; vertical-align:baseline; font-family:\"Courier New\"; font-weight:400; ' valign=\"baseline\">III</span></p>",
"<p align=\"left\" style='color:#000; font-family:\"Cambria\"; font-size:12pt; margin:0; line-height:1; padding-bottom:0; padding-top:0; text-align:left; '><span style='color:#000; font-size:12pt; font-style:normal; text-decoration:none; vertical-align:baseline; font-family:\"Courier New\"; font-weight:400; ' valign=\"baseline\">IV</span></p>",
"<p align=\"left\" style='color:#000; font-family:\"Cambria\"; font-size:12pt; margin:0; line-height:1; padding-bottom:0; padding-top:0; text-align:left; '><span style='color:#000; font-size:12pt; font-style:normal; text-decoration:none; vertical-align:baseline; font-family:\"Courier New\"; font-weight:400; ' valign=\"baseline\">V</span></p>",
"<p align=\"left\" style='color:#000; font-family:\"Cambria\"; font-size:12pt; margin:0; line-height:1; padding-bottom:0; padding-top:0; text-align:left; '><span style='color:#000; font-size:12pt; font-style:normal; text-decoration:none; vertical-align:baseline; font-family:\"Courier New\"; font-weight:400; ' valign=\"baseline\">VI</span></p>",
"<p align=\"left\" style='color:#000; font-family:\"Cambria\"; font-size:12pt; margin:0; line-height:1; padding-bottom:0; padding-top:0; text-align:left; '><span style='color:#000; font-size:12pt; font-style:normal; text-decoration:none; vertical-align:baseline; font-family:\"Courier New\"; font-weight:400; ' valign=\"baseline\">VII</span></p>",
"<p align=\"left\" style='color:#000; font-family:\"Cambria\"; font-size:12pt; margin:0; line-height:1; padding-bottom:0; padding-top:0; text-align:left; '><span style='color:#000; font-size:12pt; font-style:normal; text-decoration:none; vertical-align:baseline; font-family:\"Courier New\"; font-weight:400; ' valign=\"baseline\">&nbsp;:</span></p>",
"<p align=\"left\" style='color:#000; font-family:\"Cambria\"; font-size:12pt; margin:0; line-height:1; padding-bottom:0; padding-top:0; text-align:left; '><span style='color:#000; font-size:12pt; font-style:normal; text-decoration:none; vertical-align:baseline; font-family:\"Courier New\"; font-weight:400; ' valign=\"baseline\">MMMCMXCVIII</span></p>",
"<p align=\"left\" style='color:#000; font-family:\"Cambria\"; font-size:12pt; margin:0; line-height:1; padding-bottom:0; padding-top:0; text-align:left; '><span style='font-family:\"Courier New\"; font-weight:400; '>MMMCMXCIX&nbsp;&nbsp;&nbsp;&nbsp;&nbsp;&nbsp;&nbsp;&nbsp;&nbsp;&nbsp;&nbsp;&nbsp;&nbsp;&nbsp;&nbsp;&nbsp;&nbsp;&nbsp;&nbsp;&nbsp;&nbsp;&nbsp;&nbsp;&nbsp;</span><span style='color:#00f; font-family:\"Calibri\"; font-size:12pt; font-style:normal; font-weight:400; text-decoration:none; vertical-align:baseline; ' valign=\"baseline\">← line 3999</span></p>",
"<br/>",
"<br/>",
"<p align=\"left\" style='color:#000; font-family:\"Cambria\"; font-size:12pt; margin:0; line-height:1; padding-bottom:0; padding-top:0; text-align:left; '><span style='color:#000; font-family:\"Cambria\"; font-size:12pt; font-style:normal; font-weight:400; text-decoration:none; vertical-align:baseline; ' valign=\"baseline\">Write a GUI program that allows a user to convert Arabic numbers to Roman numerals and vice versa. &nbsp;Your GUI should look something like this:</span></p>",
"<br/>",
"<p align=\"left\" style='color:#000; font-family:\"Cambria\"; font-size:12pt; margin:0; line-height:1; padding-bottom:0; padding-top:0; text-align:left; margin-left:72pt; text-indent:36pt; '><span style=\"overflow:hidden; display:inline; margin:0.00px 0.00px; border:0.00px solid #000000; width:304.00px; height:159.00px; \"><img align=\"right\" alt=\"Screen Shot 2017-04-02 at 7.36.42 PM.png\" src=\"images/image1.png\" style=\"width:294.00px; height:149.00px; margin:10px; \"/></span></p>",
"<br/>",
"<p align=\"left\" style='color:#000; font-family:\"Cambria\"; font-size:12pt; margin:0; line-height:1; padding-bottom:0; padding-top:0; text-align:left; '><span style='color:#000; font-family:\"Cambria\"; font-size:12pt; font-style:normal; font-weight:400; text-decoration:none; vertical-align:baseline; ' valign=\"baseline\">The user can enter a value in either the Arabic # or Roman # entry widgets. &nbsp;If the user enters a value for the Arabic #, she can use the A2R button to get the Roman equivalent which should appear in the Roman # entry window. &nbsp;If the user enters a value in the Roman # entry box, she can use the R2A button to computer the Arabic equivalent which should appear in the Arabic # entry window.</span></p>",
"<hr style=\"page-break-before:always; display:none; \"/>",
"<br/>",
"<br/>",
"<br/>",
"<p align=\"left\" style='color:#000; font-family:\"Cambria\"; font-size:12pt; margin:0; line-height:1; padding-bottom:0; padding-top:0; text-align:left; '><span>Use the contents of &nbsp;the </span><span style='font-family:\"Courier New\"; font-weight:400; '>roman.txt</span><span style='color:#000; font-family:\"Cambria\"; font-size:12pt; font-style:normal; font-weight:400; text-decoration:none; vertical-align:baseline; ' valign=\"baseline\">&nbsp;file to build a dictionary or list of roman numeral values for this purpose. &nbsp;You must do input validation to prevent the user from entering a value less than 1 or greater than 3999 in the Arabic # field.</span></p>",
"<br/>",
"<br/>",
"<br/>",
"<br/>",
"<br/>",
"<br/>",
"<br/>",
"<p align=\"left\" style='color:#000; font-family:\"Cambria\"; font-size:12pt; margin:0; line-height:1; padding-bottom:0; padding-top:0; text-align:left; '><span style=\"-webkit-text-decoration-skip:none; font-size:10pt; font-style:italic; text-decoration:underline; text-decoration-skip-ink:none; \">Tips</span><span style='color:#000; font-family:\"Cambria\"; font-size:10pt; font-style:italic; font-weight:400; text-decoration:none; vertical-align:baseline; ' valign=\"baseline\">: </span></p>",
"<ul style=\"margin:0; padding:0; list-style-type:none; \"><li align=\"left\" style='{color:#000; font-family:\"Cambria\"; font-size:12pt; line-height:1; padding-bottom:0; padding-top:0; text-align:left; margin-left:36pt; padding-left:0} :before{content:\"-  \"}; '><span style='color:#000; font-family:\"Cambria\"; font-size:10pt; font-style:italic; font-weight:400; text-decoration:none; vertical-align:baseline; ' valign=\"baseline\">You should create the roman numeral dictionary in your class’s __init__ function. &nbsp;If done correctly, this is the only time you should have to access the roman.txt file.</span></li></ul>",
"<ul style=\"margin:0; padding:0; list-style-type:none; \"><li align=\"left\" style='{color:#000; font-family:\"Cambria\"; font-size:12pt; line-height:1; padding-bottom:0; padding-top:0; text-align:left; margin-left:36pt; padding-left:0} :before{content:\"-  \"}; '><span style='color:#000; font-family:\"Cambria\"; font-size:10pt; font-style:italic; font-weight:400; text-decoration:none; vertical-align:baseline; ' valign=\"baseline\">You can improve the looks of your GUI by preventing the user from rescaling the main window of your program by using the window’s resizable() method in the following way:</span></li></ul>",
"<p align=\"left\" style='color:#000; font-family:\"Cambria\"; font-size:12pt; margin:0; line-height:1; padding-bottom:0; padding-top:0; text-align:left; '><span style='color:#000; font-family:\"Cambria\"; font-size:10pt; font-style:italic; font-weight:400; text-decoration:none; vertical-align:baseline; ' valign=\"baseline\">&nbsp; &nbsp; &nbsp; &nbsp;&nbsp;&nbsp;&nbsp;&nbsp;&nbsp;&nbsp;&nbsp;&nbsp;&nbsp;&nbsp;&nbsp;&nbsp;&nbsp;&nbsp;&nbsp;&nbsp; main_window = tkinter.Tk()</span></p>",
"<p align=\"left\" style='color:#000; font-family:\"Cambria\"; font-size:12pt; margin:0; line-height:1; padding-bottom:0; padding-top:0; text-align:left; '><span style='color:#000; font-family:\"Cambria\"; font-size:10pt; font-style:italic; font-weight:400; text-decoration:none; vertical-align:baseline; ' valign=\"baseline\">&nbsp; &nbsp; &nbsp; &nbsp; &nbsp;&nbsp;&nbsp;&nbsp;&nbsp;&nbsp;&nbsp;&nbsp;&nbsp;&nbsp;&nbsp;&nbsp;&nbsp;&nbsp;&nbsp;&nbsp;main_window.resizable(width=False, height=False)</span></p>",
"<br/>",
"<br/>",
"<p align=\"left\" style='color:#000; font-family:\"Cambria\"; font-size:12pt; margin:0; line-height:1; padding-bottom:0; padding-top:0; text-align:center; '><span style=\"overflow:hidden; display:inline-block; margin:0.00px 0.00px; border:0.00px solid #000000; width:670.57px; height:154.03px; \"><img align=\"right\" alt=\"\" src=\"images/image2.png\" style=\"width:660.57px; height:144.03px; margin:10px; \"/></span></p>",
"<div>",
"<br/>",
"<p align=\"left\" style='color:#000; font-family:\"Cambria\"; font-size:12pt; margin:0; line-height:1; margin-right:18pt; padding-bottom:36pt; padding-top:0; text-align:left; '><span style='color:#999; font-family:\"Cambria\"; font-size:10pt; font-style:normal; font-weight:400; text-decoration:none; vertical-align:baseline; ' valign=\"baseline\">JVolcy – Spelman College – Computer and Information Sciences</span></p>",
"</div>",
"</body>",
"</html>",
"",
""
   ]
  },
  {
   "cell_type": "code",
   "execution_count": null,
   "metadata": {
    "deletable": false,
    "editable": true,
    "spelmanCs": {
     "type": "studentSolution"
    }
   },
   "outputs": [],
   "source": [
    "# Add your code here"
   ]
  }
 ],
 "metadata": {
  "kernelspec": {
   "display_name": "Python 3",
   "language": "python",
   "name": "python3"
  },
  "language_info": {
   "codemirror_mode": {
    "name": "ipython",
    "version": 3
   },
   "file_extension": ".py",
   "mimetype": "text/x-python",
   "name": "python",
   "nbconvert_exporter": "python",
   "pygments_lexer": "ipython3",
   "version": "3.6.2"
  },
   "spelmanCs": {
    "version": "1"
   }
 },
 "nbformat": 4,
 "nbformat_minor": 4
}
