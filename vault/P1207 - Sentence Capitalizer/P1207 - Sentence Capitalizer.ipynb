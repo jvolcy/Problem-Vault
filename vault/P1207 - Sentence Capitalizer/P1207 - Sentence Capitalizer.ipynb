
{
 "cells": [
  {
   "cell_type": "markdown",
   "metadata": {
    "deletable": false,
    "editable": false,
    "spelmanCs": {
     "problemDesc": "Sentence Capitalizer",
     "problemId": "P1207",
     "type": "problemStatement",
     "data": ""
    }
   },
   "source": [
    "<html>",
"<head><meta content=\"text/html; charset=utf-8\" http-equiv=\"content-type\"/></head>",
"<body bgcolor=\"#ffffff\" style=\"background-color:#fff; max-width:468pt; padding:54pt 72pt 54pt 72pt; \">",
"<p align=\"left\" style='color:#000; font-family:\"Cambria\"; font-size:12pt; margin:0; line-height:1; padding-bottom:0; padding-top:0; text-align:right; '><span style=\"overflow:hidden; display:inline; margin:0.00px 0.00px; border:0.00px solid #000000; width:243.33px; \"><img align=\"right\" alt=\"CS Logo\" src=\"../../images/cs_logo.png\" style=\"width:243.33px; margin:10px; \"/><br/><br/></span></p>",
"<p align=\"left\" style='color:#000; font-family:\"Cambria\"; font-size:16pt; margin:0; line-height:1; padding-bottom:0; padding-top:0; page-break-after:avoid; text-align:left; font-weight:700; '><span style='color:#000; font-family:\"Cambria\"; font-size:16pt; font-style:normal; font-weight:700; text-decoration:none; vertical-align:baseline; ' valign=\"baseline\">P1207</span></p>",
"<p align=\"left\" style='color:#000; font-family:\"Cambria\"; font-size:16pt; margin:0; line-height:1; padding-bottom:0; padding-top:0; page-break-after:avoid; text-align:left; font-weight:700; '><span>Sentence Capitalizer</span></p>",
"<p align=\"left\" style='color:#000; font-family:\"Cambria\"; font-size:12pt; margin:0; line-height:1; padding-bottom:0; padding-top:0; text-align:left; '><span style='color:#000; font-family:\"Cambria\"; font-style:normal; text-decoration:none; vertical-align:baseline; font-size:9pt; font-weight:700; ' valign=\"baseline\">(Gaddis, Python, 3e)</span></p>",
"<br/>",
"<br/>",
"<br/>",
"<br/>",
"<br/>",
"<br/>",
"<p align=\"left\" style='color:#000; font-family:\"Cambria\"; font-size:12pt; margin:0; line-height:1; padding-bottom:0; padding-top:0; text-align:left; '><span style='color:#000; font-family:\"Cambria\"; font-size:12pt; font-style:normal; font-weight:400; text-decoration:none; vertical-align:baseline; ' valign=\"baseline\">Write a function that accepts a string as an argument and returns a copy of the string with the first character of each sentence capitalized. For instance, if the argument is “hello. my name is Joe. what is your name?” the function should return the string “Hello. My name is Joe. What is your name?” </span></p>",
"<p align=\"left\" style='color:#000; font-family:\"Cambria\"; font-size:12pt; margin:0; line-height:1; padding-bottom:0; padding-top:0; text-align:left; '><span style='color:#000; font-family:\"Cambria\"; font-size:12pt; font-style:normal; font-weight:400; text-decoration:none; vertical-align:baseline; ' valign=\"baseline\">&nbsp; &nbsp; Write a program that lets the user enter a string and then pass it to the function. &nbsp;The program should then display the modified string returned by the function.</span></p>",
"<br/>",
"<br/>",
"<br/>",
"<br/>",
"<br/>",
"<p align=\"center\" style='color:#000; font-family:\"Cambria\"; font-size:12pt; margin:0; line-height:1; padding-bottom:0; padding-top:0; text-align:center; '><span style=\"font-size:96pt; font-weight:700; \">&nbsp;abc → Abc</span></p>",
"<div>",
"<br/>",
"<p align=\"left\" style='color:#000; font-family:\"Cambria\"; font-size:12pt; margin:0; line-height:1; margin-right:18pt; padding-bottom:36pt; padding-top:0; text-align:left; '><span style='color:#999; font-size:10pt; font-family:\"Cambria\"; font-weight:400; '>Spelman College </span><span style=\"color:#999; font-size:10pt; \">&nbsp; </span><span style='font-family:\"Cambria\"; font-style:normal; font-weight:400; text-decoration:none; vertical-align:baseline; color:#999; font-size:10pt; ' valign=\"baseline\">– &nbsp; Computer and Information Sciences</span></p>",
"</div>",
"</body>",
"</html>",
"",
""
   ]
  },
  {
   "cell_type": "code",
   "execution_count": null,
   "metadata": {
    "deletable": false,
    "editable": true,
    "spelmanCs": {
     "type": "studentSolution"
    }
   },
   "outputs": [],
   "source": [
    "# Add your code here"
   ]
  }
 ],
 "metadata": {
  "kernelspec": {
   "display_name": "Python 3",
   "language": "python",
   "name": "python3"
  },
  "language_info": {
   "codemirror_mode": {
    "name": "ipython",
    "version": 3
   },
   "file_extension": ".py",
   "mimetype": "text/x-python",
   "name": "python",
   "nbconvert_exporter": "python",
   "pygments_lexer": "ipython3",
   "version": "3.6.2"
  },
   "spelmanCs": {
    "version": "1"
   }
 },
 "nbformat": 4,
 "nbformat_minor": 4
}
