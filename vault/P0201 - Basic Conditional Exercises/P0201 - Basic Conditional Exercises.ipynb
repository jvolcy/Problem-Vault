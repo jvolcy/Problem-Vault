
{
 "cells": [
  {
   "cell_type": "markdown",
   "metadata": {
    "deletable": false,
    "editable": false,
    "spelmanCs": {
     "problemDesc": "Basic Conditional Exercises",
     "problemId": "P0201",
     "type": "problemStatement",
     "data": ""
    }
   },
   "source": [
    "<html>",
"<head><meta content=\"text/html; charset=utf-8\" http-equiv=\"content-type\"/></head>",
"<body bgcolor=\"#ffffff\" style=\"background-color:#fff; max-width:468pt; padding:54pt 72pt 54pt 72pt; \">",
"<p align=\"left\" style='color:#000; font-family:\"Cambria\"; font-size:12pt; margin:0; line-height:1; padding-bottom:0; padding-top:0; text-align:right; '><span style=\"overflow:hidden; display:inline; margin:0.00px 0.00px; border:0.00px solid #000000; width:243.33px; \"><img align=\"right\" alt=\"CS Logo (no bg).png\" src=\"../images/cs_logo.png\" style=\"width:243.33px; margin:10px; \"/><br/><br/></span></p>",
"<p align=\"left\" style='color:#000; font-family:\"Cambria\"; font-size:16pt; margin:0; line-height:1; padding-bottom:0; padding-top:0; page-break-after:avoid; text-align:left; font-weight:700; '><span style='color:#000; font-family:\"Cambria\"; font-size:16pt; font-style:normal; font-weight:700; text-decoration:none; vertical-align:baseline; ' valign=\"baseline\">P0201</span></p>",
"<p align=\"left\" style='color:#000; font-family:\"Cambria\"; font-size:16pt; margin:0; line-height:1; padding-bottom:0; padding-top:0; page-break-after:avoid; text-align:left; font-weight:700; '><span>Basic Conditional Exercises</span></p>",
"<p align=\"left\" style='color:#000; font-family:\"Cambria\"; font-size:12pt; margin:0; line-height:1; padding-bottom:0; padding-top:0; text-align:left; '><span style='color:#000; font-family:\"Cambria\"; font-size:9pt; font-style:normal; font-weight:700; text-decoration:none; vertical-align:baseline; ' valign=\"baseline\">(Gaddis, Python, 3e)</span></p>",
"<br/>",
"<br/>",
"<br/>",
"<br/>",
"<br/>",
"<p align=\"left\" style='color:#000; font-family:\"Cambria\"; font-size:12pt; margin:0; line-height:1; padding-bottom:0; padding-top:0; text-align:left; '><span>1. </span><span>&nbsp;Write an </span><span style='font-family:\"Courier New\"; font-weight:400; '>if</span><span>&nbsp;statement that checks if the variable </span><span style='font-family:\"Courier New\"; font-weight:400; '>a</span><span>&nbsp;is equal to 1. &nbsp;If it is equal to 1, print a message saying </span><span>'</span><span style='font-family:\"Roboto Mono\"; font-weight:400; '>a equals 1</span><span>'</span><span>, otherwise print </span><span>'</span><span style='font-family:\"Roboto Mono\"; font-weight:400; '>a is not equal to 1</span><span>'</span><span style='color:#000; font-family:\"Cambria\"; font-size:12pt; font-style:normal; font-weight:400; text-decoration:none; vertical-align:baseline; ' valign=\"baseline\">.</span></p>",
"<br/>",
"<br/>",
"<p align=\"left\" style='color:#000; font-family:\"Cambria\"; font-size:12pt; margin:0; line-height:1; padding-bottom:0; padding-top:0; text-align:left; '><span>2. Write an </span><span style='font-family:\"Courier New\"; font-weight:400; '>if</span><span>&nbsp;statement that sets the value of the variable </span><span style='font-family:\"Courier New\"; font-weight:400; '>a</span><span>&nbsp;to 20 if </span><span style='font-family:\"Courier New\"; font-weight:400; '>a</span><span style='color:#000; font-family:\"Cambria\"; font-size:12pt; font-style:normal; font-weight:400; text-decoration:none; vertical-align:baseline; ' valign=\"baseline\">&nbsp;‘s initial value lies in the range of 10 to 30.</span></p>",
"<br/>",
"<br/>",
"<p align=\"left\" style='color:#000; font-family:\"Cambria\"; font-size:12pt; margin:0; line-height:1; padding-bottom:0; padding-top:0; text-align:left; '><span>3. Write an </span><span style='font-family:\"Courier New\"; font-weight:400; '>if-else</span><span>&nbsp;statement that assigns 0 to the variable </span><span style='font-family:\"Courier New\"; font-weight:400; '>b</span><span>&nbsp;if the variable </span><span style='font-family:\"Courier New\"; font-weight:400; '>a</span><span>&nbsp;is less than 10. &nbsp;Otherwise, it should assign 99 to the variable </span><span style='font-family:\"Courier New\"; font-weight:400; '>b</span><span style='color:#000; font-family:\"Cambria\"; font-size:12pt; font-style:normal; font-weight:400; text-decoration:none; vertical-align:baseline; ' valign=\"baseline\">.</span></p>",
"<br/>",
"<br/>",
"<br/>",
"<br/>",
"<br/>",
"<br/>",
"<br/>",
"<br/>",
"<br/>",
"<div>",
"<br/>",
"<p align=\"left\" style='color:#000; font-family:\"Cambria\"; font-size:12pt; margin:0; line-height:1; margin-right:18pt; padding-bottom:36pt; padding-top:0; text-align:left; '><span style='color:#999; font-size:10pt; font-family:\"Cambria\"; font-weight:400; '>Spelman College </span><span style=\"color:#999; font-size:10pt; \">&nbsp; </span><span style='font-family:\"Cambria\"; font-style:normal; font-weight:400; text-decoration:none; vertical-align:baseline; color:#999; font-size:10pt; ' valign=\"baseline\">– &nbsp; Computer and Information Sciences</span></p>",
"</div>",
"</body>",
"</html>",
"",
""
   ]
  },
  {
   "cell_type": "code",
   "execution_count": null,
   "metadata": {
    "deletable": false,
    "editable": true,
    "spelmanCs": {
     "type": "studentSolution"
    }
   },
   "outputs": [],
   "source": [
    "# Add your code here"
   ]
  }
 ],
 "metadata": {
  "kernelspec": {
   "display_name": "Python 3",
   "language": "python",
   "name": "python3"
  },
  "language_info": {
   "codemirror_mode": {
    "name": "ipython",
    "version": 3
   },
   "file_extension": ".py",
   "mimetype": "text/x-python",
   "name": "python",
   "nbconvert_exporter": "python",
   "pygments_lexer": "ipython3",
   "version": "3.6.2"
  },
   "spelmanCs": {
    "version": "1"
   }
 },
 "nbformat": 4,
 "nbformat_minor": 4
}
