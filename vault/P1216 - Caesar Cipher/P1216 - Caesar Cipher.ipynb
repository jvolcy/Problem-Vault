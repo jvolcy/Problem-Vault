
{
 "cells": [
  {
   "cell_type": "markdown",
   "metadata": {
    "deletable": false,
    "editable": false,
    "spelmanCs": {
     "problemDesc": "Caesar Cipher",
     "problemId": "P1216",
     "type": "problemStatement",
     "data": ""
    }
   },
   "source": [
    "<html>",
"<head><meta content=\"text/html; charset=utf-8\" http-equiv=\"content-type\"/></head>",
"<body bgcolor=\"#ffffff\" style=\"background-color:#fff; max-width:468pt; padding:54pt 72pt 54pt 72pt; \">",
"<p align=\"left\" style='color:#000; font-family:\"Cambria\"; font-size:12pt; margin:0; line-height:1; padding-bottom:0; padding-top:0; text-align:right; '><span style=\"overflow:hidden; display:inline; margin:0.00px 0.00px; border:0.00px solid #000000; width:243.33px; \"><img align=\"right\" alt=\"CS Logo (no bg).png\" src=\"../images/cs_logo.png\" style=\"width:243.33px; margin:10px; \"/><br/><br/></span></p>",
"<p align=\"left\" style='color:#000; font-family:\"Cambria\"; font-size:16pt; margin:0; line-height:1; padding-bottom:0; padding-top:0; text-align:left; page-break-after:avoid; font-weight:700; '><span>P1216</span></p>",
"<p align=\"left\" style='color:#000; font-family:\"Cambria\"; font-size:16pt; margin:0; line-height:1; padding-bottom:0; padding-top:0; text-align:left; page-break-after:avoid; font-weight:700; '><span style='color:#000; font-family:\"Cambria\"; font-size:16pt; font-style:normal; font-weight:700; text-decoration:none; vertical-align:baseline; ' valign=\"baseline\">Caesar Cipher</span></p>",
"<p align=\"left\" style='color:#000; font-family:\"Cambria\"; font-size:12pt; margin:0; line-height:1; padding-bottom:0; padding-top:0; text-align:left; '><span style='color:#000; font-size:9pt; font-style:normal; text-decoration:none; vertical-align:baseline; font-family:\"Cambria\"; font-weight:700; ' valign=\"baseline\">learncryptography.com</span></p>",
"<br/>",
"<br/>",
"<h1 align=\"left\" style='color:#000; font-family:\"Cambria\"; font-size:12pt; font-weight:700; line-height:1; padding-bottom:0; padding-top:0; page-break-after:avoid; text-align:left; '><span style='color:#000; font-size:12pt; font-style:normal; text-decoration:none; vertical-align:baseline; font-family:\"Cambria\"; font-weight:700; ' valign=\"baseline\">1 ASCII Table</span></h1>",
"<p align=\"left\" style='color:#000; font-family:\"Cambria\"; font-size:12pt; margin:0; line-height:1; padding-bottom:0; padding-top:0; text-align:left; '><span>Characters used to represent text data in computers are internally stored numerically based on a fixed mapping between each character and a number called its ASCII (pronounced “</span><span style=\"font-style:italic; \">ask-key</span><span style='color:#000; font-family:\"Cambria\"; font-size:12pt; font-style:normal; font-weight:400; text-decoration:none; vertical-align:baseline; ' valign=\"baseline\">”) value. &nbsp;The figure below shows the printable characters of the ASCII table used by the vast majority of modern computers.</span></p>",
"<br/>",
"<br/>",
"<p align=\"left\" style='color:#000; font-family:\"Cambria\"; font-size:12pt; margin:0; line-height:1; padding-bottom:0; padding-top:0; text-align:center; '><span>&nbsp; &nbsp; &nbsp; &nbsp; </span><span style=\"overflow:hidden; display:inline-block; margin:0.00px 0.00px; border:0.00px solid #000000; width:539.00px; height:524.00px; \"><img align=\"right\" alt=\"\" src=\"images/image1.png\" /></span></p>",
"<br/>",
"<hr style=\"page-break-before:always; display:none; \"/>",
"<br/>",
"<br/>",
"<p align=\"left\" style='color:#000; font-family:\"Cambria\"; font-size:12pt; margin:0; line-height:1; padding-bottom:0; padding-top:0; text-align:left; '><span style='color:#000; font-family:\"Cambria\"; font-size:12pt; font-style:normal; font-weight:400; text-decoration:none; vertical-align:baseline; ' valign=\"baseline\">From the table we see that ASCII character #65 corresponds to the letter ‘A’ and ASCII character #53 corresponds to the character ‘5’ (character ‘5’, not number &nbsp;5!).</span></p>",
"<br/>",
"<p align=\"left\" style='color:#000; font-family:\"Cambria\"; font-size:12pt; margin:0; line-height:1; padding-bottom:0; padding-top:0; text-align:left; '><span>The Python functions </span><span style='font-family:\"Courier New\"; font-weight:400; '>ord()</span><span>&nbsp;and </span><span style='font-family:\"Courier New\"; font-weight:400; '>chr()</span><span style='color:#000; font-family:\"Cambria\"; font-size:12pt; font-style:normal; font-weight:400; text-decoration:none; vertical-align:baseline; ' valign=\"baseline\">&nbsp;can be used to go between characters and ASCII integers:</span></p>",
"<p align=\"left\" style='color:#000; font-family:\"Cambria\"; font-size:12pt; margin:0; line-height:1; padding-bottom:0; padding-top:0; text-align:left; text-indent:36pt; '><span style='font-family:\"Courier New\"; font-weight:400; '>ord('A')</span><span style='color:#000; font-family:\"Cambria\"; font-size:12pt; font-style:normal; font-weight:400; text-decoration:none; vertical-align:baseline; ' valign=\"baseline\">&nbsp;returns the number 65</span></p>",
"<p align=\"left\" style='color:#000; font-family:\"Cambria\"; font-size:12pt; margin:0; line-height:1; padding-bottom:0; padding-top:0; text-align:left; '><span style='color:#000; font-family:\"Cambria\"; font-size:12pt; font-style:normal; font-weight:400; text-decoration:none; vertical-align:baseline; ' valign=\"baseline\">while</span></p>",
"<p align=\"left\" style='color:#000; font-family:\"Cambria\"; font-size:12pt; margin:0; line-height:1; padding-bottom:0; padding-top:0; text-align:left; text-indent:36pt; '><span style='font-family:\"Courier New\"; font-weight:400; '>chr(65)</span><span style='color:#000; font-family:\"Cambria\"; font-size:12pt; font-style:normal; font-weight:400; text-decoration:none; vertical-align:baseline; ' valign=\"baseline\">&nbsp;returns the string 'A'.</span></p>",
"<br/>",
"<br/>",
"<br/>",
"<h1 align=\"left\" style='color:#000; font-family:\"Cambria\"; font-size:12pt; font-weight:700; line-height:1; padding-bottom:0; padding-top:0; page-break-after:avoid; text-align:left; '><span style='color:#000; font-size:12pt; font-style:normal; text-decoration:none; vertical-align:baseline; font-family:\"Cambria\"; font-weight:700; ' valign=\"baseline\">2 Caesar Cipher</span></h1>",
"<p align=\"left\" style='color:#000; font-family:\"Cambria\"; font-size:12pt; margin:0; line-height:1; padding-bottom:0; padding-top:0; text-align:left; '>The Caesar cipher, also known as a shift cipher, is one of the simplest forms of encryption. It is a substitution cipher where each letter in the original message (called the plaintext) is replaced with a letter </span><span>corresponding to a certain number of letters up or down in the alphabet.<br><br></p>",
"<p align=\"left\" style='color:#000; font-family:\"Cambria\"; font-size:12pt; margin:0; line-height:1; padding-bottom:0; padding-top:0; text-align:center; '><span style=\"overflow:hidden; display:inline-block; margin:0.00px 0.00px; border:0.00px solid #000000; width:390.50px; height:164.59px; \"><img align=\"right\" alt=\"caesar_cipher.png\" src=\"images/image2.png\"/></span></p>",
"<br/>",
"<p align=\"left\" style='color:#000; font-family:\"Cambria\"; font-size:12pt; margin:0; line-height:1; padding-bottom:0; padding-top:0; text-align:left; '><span style='color:#000; font-family:\"Cambria\"; font-size:12pt; font-style:normal; font-weight:400; text-decoration:none; vertical-align:baseline; ' valign=\"baseline\">In this way, a message that initially was quite readable, ends up in a form that can not be understood at a simple glance.</span></p>",
"<p align=\"left\" style='color:#000; font-family:\"Cambria\"; font-size:12pt; margin:0; line-height:1; padding-bottom:0; padding-top:0; text-align:left; '><span style='color:#000; font-family:\"Cambria\"; font-size:12pt; font-style:normal; font-weight:400; text-decoration:none; vertical-align:baseline; ' valign=\"baseline\">For example, here's the Caesar Cipher encryption of a message, using a shift of -3.</span></p>",
"<br/>",
"<p align=\"left\" style='color:#000; font-family:\"Cambria\"; font-size:12pt; margin:0; line-height:1; padding-bottom:0; padding-top:0; text-align:left; '><span style='color:#000; font-family:\"Cambria\"; font-size:12pt; font-style:normal; font-weight:400; text-decoration:none; vertical-align:baseline; ' valign=\"baseline\">Plaintext: &nbsp;</span></p>",
"<p align=\"left\" style='color:#000; font-family:\"Cambria\"; font-size:12pt; margin:0; line-height:1; padding-bottom:0; padding-top:0; text-align:left; '><span style='color:#000; font-size:12pt; font-style:normal; text-decoration:none; vertical-align:baseline; font-family:\"Courier New\"; font-weight:400; ' valign=\"baseline\">THE QUICK BROWN FOX JUMPS OVER THE LAZY DOG</span></p>",
"<br/>",
"<p align=\"left\" style='color:#000; font-family:\"Cambria\"; font-size:12pt; margin:0; line-height:1; padding-bottom:0; padding-top:0; text-align:left; '><span style='color:#000; font-family:\"Cambria\"; font-size:12pt; font-style:normal; font-weight:400; text-decoration:none; vertical-align:baseline; ' valign=\"baseline\">Ciphertext: </span></p>",
"<p align=\"left\" style='color:#000; font-family:\"Cambria\"; font-size:12pt; margin:0; line-height:1; padding-bottom:0; padding-top:0; text-align:left; '><span style='color:#000; font-size:12pt; font-style:normal; text-decoration:none; vertical-align:baseline; font-family:\"Courier New\"; font-weight:400; ' valign=\"baseline\">QEB NRFZH YOLTK CLU GRJMP LSBO QEB IXWV ALD</span></p>",
"<br/>",
"<br/>",
"<p align=\"left\" style='color:#000; font-family:\"Cambria\"; font-size:12pt; margin:0; line-height:1; padding-bottom:0; padding-top:0; text-align:left; '><span style='color:#000; font-family:\"Cambria\"; font-size:12pt; font-style:normal; font-weight:400; text-decoration:none; vertical-align:baseline; ' valign=\"baseline\">As unreadable as the resulting ciphertext may appear, the Caesar Cipher is actually one of the weakest forms of encryption one can employ (See problem P1217).</span></p>",
"<br/>",
"<p align=\"left\" style='color:#000; font-family:\"Cambria\"; font-size:12pt; margin:0; line-height:1; padding-bottom:0; padding-top:0; text-align:left; '><span>Note that when the shift passes either the beginning or end of the alphabet, it simply wraps around. &nbsp;Thus, the letter </span><span>'A' in the plaintext above wraps around to the letter 'X' in the ciphertext.</span></p>",
"<br/>",
"<br/>",
"<hr style=\"page-break-before:always; display:none; \"/>",
"<br/>",
"<br/>",
"<h1 align=\"left\" style='color:#000; font-family:\"Cambria\"; font-size:12pt; font-weight:700; line-height:1; padding-bottom:0; padding-top:0; page-break-after:avoid; text-align:left; '><span style='color:#000; font-size:12pt; font-style:normal; text-decoration:none; vertical-align:baseline; font-family:\"Cambria\"; font-weight:700; ' valign=\"baseline\">3 Caesar Cipher Encrypter/Decrypter</span></h1>",
"<p align=\"left\" style='color:#000; font-family:\"Cambria\"; font-size:12pt; margin:0; line-height:1; padding-bottom:0; padding-top:0; text-align:left; '><span>Write a program that prompts a user for a string and an encryption key. &nbsp;The encryption key is the cipher shift amount. &nbsp;Your program will function as both a Caesar Cipher encrypter and decrypter. &nbsp; For the example above, entering the plaintext </span><span style='font-family:\"Courier New\"; font-weight:400; '>'T</span><span style='font-family:\"Courier New\"; font-weight:400; '>HE QUICK BROWN FOX JUMPS OVER THE LAZY DOG</span><span style='font-family:\"Courier New\"; font-weight:400; '>'</span><span style='font-family:\"Courier New\"; font-weight:400; '>&nbsp;</span><span>and -3 to the program should yield the ciphertext </span><span>'</span><span style='font-family:\"Courier New\"; font-weight:400; '>QEB NRFZH YOLTK CLU GRJMP LSBO QEB IXWV ALD</span><span>'. &nbsp;Conversely, passing the ciphertext with a shift value of +3 should return the plaintext.</span></p>",
"<br/>",
"<p align=\"left\" style='color:#000; font-family:\"Cambria\"; font-size:12pt; margin:0; line-height:1; padding-bottom:0; padding-top:0; text-align:left; '><span style='color:#000; font-family:\"Cambria\"; font-size:12pt; font-style:normal; font-weight:400; text-decoration:none; vertical-align:baseline; ' valign=\"baseline\">You may assume that the user string is composed of only letters and spaces (no punctuation, numbers, etc.).</span></p>",
"<br/>",
"<div>",
"<br/>",
"<p align=\"left\" style='color:#000; font-family:\"Cambria\"; font-size:12pt; margin:0; line-height:1; margin-right:18pt; padding-bottom:36pt; padding-top:0; text-align:left; '><span style='font-family:\"Cambria\"; font-weight:400; color:#999; font-size:10pt; '>Spelman College </span><span style=\"color:#999; font-size:10pt; \">&nbsp; </span><span style='font-style:normal; text-decoration:none; vertical-align:baseline; font-family:\"Cambria\"; font-weight:400; color:#999; font-size:10pt; ' valign=\"baseline\">– &nbsp; Computer and Information Sciences</span></p>",
"</div>",
"</body>",
"</html>",
"",
""
   ]
  },
  {
   "cell_type": "code",
   "execution_count": null,
   "metadata": {
    "deletable": false,
    "editable": true,
    "spelmanCs": {
     "type": "studentSolution"
    }
   },
   "outputs": [],
   "source": [
    "# Add your code here"
   ]
  }
 ],
 "metadata": {
  "kernelspec": {
   "display_name": "Python 3",
   "language": "python",
   "name": "python3"
  },
  "language_info": {
   "codemirror_mode": {
    "name": "ipython",
    "version": 3
   },
   "file_extension": ".py",
   "mimetype": "text/x-python",
   "name": "python",
   "nbconvert_exporter": "python",
   "pygments_lexer": "ipython3",
   "version": "3.6.2"
  },
   "spelmanCs": {
    "version": "1"
   }
 },
 "nbformat": 4,
 "nbformat_minor": 4
}

