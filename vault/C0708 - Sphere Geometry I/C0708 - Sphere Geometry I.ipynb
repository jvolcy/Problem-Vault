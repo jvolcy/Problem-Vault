
{
 "cells": [
  {
   "cell_type": "markdown",
   "metadata": {
    "deletable": false,
    "editable": false,
    "spelmanCs": {
     "problemDesc": "Sphere Geometry I",
     "problemId": "C0708",
     "type": "problemStatement",
     "data": ""
    }
   },
   "source": [
    "<html>",
"<head><meta content=\"text/html; charset=utf-8\" http-equiv=\"content-type\"/></head>",
"<body bgcolor=\"#ffffff\" style=\"background-color:#fff; max-width:468pt; padding:54pt 72pt 54pt 72pt; \">",
"<p align=\"left\" style='color:#000; font-family:\"Cambria\"; font-size:12pt; margin:0; line-height:1; padding-bottom:0; padding-top:0; text-align:right; '><span style=\"overflow:hidden; display:inline; margin:0.00px 0.00px; border:0.00px solid #000000; width:243.33px; \"><img align=\"right\" alt=\"CS Logo (no bg).png\" src=\"../images/cs_logo.png\" style=\"width:243.33px; margin:10px; \"/><br/><br/></span></p>",
"<p align=\"left\" style='color:#000; font-family:\"Cambria\"; font-size:16pt; margin:0; line-height:1; padding-bottom:0; padding-top:0; page-break-after:avoid; text-align:left; font-weight:700; '><span>C</span><span style='color:#000; font-family:\"Cambria\"; font-size:16pt; font-style:normal; font-weight:700; text-decoration:none; vertical-align:baseline; ' valign=\"baseline\">0708</span></p>",
"<p align=\"left\" style='color:#000; font-family:\"Cambria\"; font-size:16pt; margin:0; line-height:1; padding-bottom:0; padding-top:0; page-break-after:avoid; text-align:left; font-weight:700; '><span style='color:#000; font-family:\"Cambria\"; font-size:16pt; font-style:normal; font-weight:700; text-decoration:none; vertical-align:baseline; ' valign=\"baseline\">Sphere Geometry I</span></p>",
"<p align=\"left\" style='color:#000; font-family:\"Cambria\"; font-size:12pt; margin:0; line-height:1; padding-bottom:0; padding-top:0; text-align:left; '><span style='color:#000; font-family:\"Cambria\"; font-size:9pt; font-style:normal; font-weight:700; text-decoration:none; vertical-align:baseline; ' valign=\"baseline\">J. Volcy</span></p>",
"<br/>",
"<br/>",
"<p align=\"justify\" style='color:#000; font-family:\"Cambria\"; font-size:12pt; margin:0; line-height:1; padding-bottom:0; padding-top:0; text-align:justify; '><span>Given the radius </span><span style=\"font-style:italic; \">r</span><span>, of a sphere, its circumference, </span><span style=\"font-style:italic; \">C</span><span style='color:#000; font-family:\"Cambria\"; font-size:12pt; font-style:normal; font-weight:400; text-decoration:none; vertical-align:baseline; ' valign=\"baseline\">, can be calculated using the formula</span><span style=\"overflow:hidden; display:inline; margin:0.00px 0.00px; border:0.00px solid #000000; width:322.86px; height:192.50px; \"><img align=\"right\" alt=\"\" src=\"images/image5.png\" style=\"width:312.86px; height:182.50px; margin:10px; \"/></span></p>",
"<br/>",
"<p align=\"left\" style='color:#000; font-family:\"Cambria\"; font-size:12pt; margin:0; line-height:1; padding-bottom:0; padding-top:0; text-align:left; margin-left:72pt; text-indent:36pt; '><img src=\"images/image1.png\"/></p>",
"<br/>",
"<p align=\"justify\" style='color:#000; font-family:\"Cambria\"; font-size:12pt; margin:0; line-height:1; padding-bottom:0; padding-top:0; text-align:justify; '><span>Its surface area, </span><span style=\"font-style:italic; \">S</span><span style='color:#000; font-family:\"Cambria\"; font-size:12pt; font-style:normal; font-weight:400; text-decoration:none; vertical-align:baseline; ' valign=\"baseline\">, can be calculated from the circumference using the formula</span></p>",
"<br/>",
"<p align=\"left\" style='color:#000; font-family:\"Cambria\"; font-size:12pt; margin:0; line-height:1; padding-bottom:0; padding-top:0; text-align:left; margin-left:72pt; text-indent:36pt; '><img src=\"images/image2.png\"/></p>",
"<br/>",
"<p align=\"justify\" style='color:#000; font-family:\"Cambria\"; font-size:12pt; margin:0; line-height:1; padding-bottom:0; padding-top:0; text-align:justify; '><span>Finally, its volume, </span><span style=\"font-style:italic; \">V</span><span style='color:#000; font-family:\"Cambria\"; font-size:12pt; font-style:normal; font-weight:400; text-decoration:none; vertical-align:baseline; ' valign=\"baseline\">, can be calculated from the surface area using the formula</span></p>",
"<br/>",
"<p align=\"left\" style='color:#000; font-family:\"Cambria\"; font-size:12pt; margin:0; line-height:1; padding-bottom:0; padding-top:0; text-align:left; margin-left:72pt; text-indent:36pt; '><img src=\"images/image3.png\"/></p>",
"<br/>",
"<p align=\"justify\" style='color:#000; font-family:\"Cambria\"; font-size:12pt; margin:0; line-height:1; padding-bottom:0; padding-top:0; text-align:justify; '><span>Write a function called </span><span style='font-family:\"Courier New\"; font-weight:400; '>sphere_geometry()</span><span>&nbsp;that calculates the user-specified geometry of a sphere. &nbsp;The function accepts two parameters and returns a double. &nbsp;The first parameter is a character (</span><span style='font-family:\"Courier New\"; font-weight:400; '>char</span><span style='color:#000; font-family:\"Cambria\"; font-size:12pt; font-style:normal; font-weight:400; text-decoration:none; vertical-align:baseline; ' valign=\"baseline\">) indicating the geometry the user wishes to calculate and the second is a double specifying the radius of the sphere. &nbsp;Valid values for the first parameter are ‘c’, indicating the user wants the circumference, ‘s’, indicating the user wants the surface area or ‘v’, indicating that the user wants the volume. &nbsp;Issue an appropriate error message for an invalid selection.</span></p>",
"<p align=\"justify\" style='color:#000; font-family:\"Cambria\"; font-size:12pt; margin:0; line-height:1; padding-bottom:0; padding-top:0; text-align:justify; '><span style='font-family:\"Courier New\"; font-weight:400; '>sphere_geometry()</span><span>&nbsp;must make use of 3 other functions that you will write. &nbsp;These are </span><span style='font-family:\"Courier New\"; font-weight:400; '>sphere_circumference()</span><span>, </span><span style='font-family:\"Courier New\"; font-weight:400; '>sphere_area()</span><span>&nbsp;and </span><span style='font-family:\"Courier New\"; font-weight:400; '>sphere_volume()</span><span>. &nbsp;All three of these functions accept a single double parameter representing the sphere’s radius and all three return a double. &nbsp;These functions must make use of the geometry formulas above (meaning that the volume function makes use of the area function and the area function makes use of the circumference function). &nbsp;Thus, your </span><span style='font-family:\"Courier New\"; font-weight:400; '>main()</span><span>&nbsp;function will prompt the user for a letter and a radius before calling </span><span style='font-family:\"Courier New\"; font-weight:400; '>sphere_geometry()</span><span>. &nbsp;</span><span style='font-family:\"Courier New\"; font-weight:400; '>sphere_geometry() </span><span>will call one of the functions that calculates circumference, area or volume. &nbsp;</span><span style='font-family:\"Courier New\"; font-weight:400; '>main()</span><span style='color:#000; font-family:\"Cambria\"; font-size:12pt; font-style:normal; font-weight:400; text-decoration:none; vertical-align:baseline; ' valign=\"baseline\">&nbsp;outputs the calculated quantity to the screen.</span></p>",
"<br/>",
"<p align=\"justify\" style='color:#000; font-family:\"Cambria\"; font-size:12pt; margin:0; line-height:1; padding-bottom:0; padding-top:0; text-align:justify; '><span style='color:#000; font-family:\"Cambria\"; font-size:12pt; font-weight:400; text-decoration:none; vertical-align:baseline; font-style:italic; ' valign=\"baseline\">Tip: after writing your pseudo-code, begin by writing the function prototype for each function you need to write. &nbsp;Then, create empty versions of these functions that print a dummy message to verify that the functions are called in the order you expect.</span></p>",
"<br/>",
"<div>",
"<br/>",
"<p align=\"left\" style='color:#000; font-family:\"Cambria\"; font-size:12pt; margin:0; line-height:1; margin-right:18pt; padding-bottom:36pt; padding-top:0; text-align:left; '><span style='font-family:\"Cambria\"; font-weight:400; color:#999; font-size:10pt; '>Spelman College </span><span style=\"color:#999; font-size:10pt; \">&nbsp; </span><span style='font-family:\"Cambria\"; font-style:normal; font-weight:400; text-decoration:none; vertical-align:baseline; color:#999; font-size:10pt; ' valign=\"baseline\">– &nbsp; Computer and Information Sciences</span></p>",
"</div>",
"</body>",
"</html>",
"",
""
   ]
  },
  {
   "cell_type": "code",
   "execution_count": null,
   "metadata": {
    "deletable": false,
    "editable": true,
    "spelmanCs": {
     "type": "studentSolution"
    }
   },
   "outputs": [],
   "source": [
    "# Add your code here"
   ]
  }
 ],
 "metadata": {
  "kernelspec": {
   "display_name": "Python 3",
   "language": "python",
   "name": "python3"
  },
  "language_info": {
   "codemirror_mode": {
    "name": "ipython",
    "version": 3
   },
   "file_extension": ".py",
   "mimetype": "text/x-python",
   "name": "python",
   "nbconvert_exporter": "python",
   "pygments_lexer": "ipython3",
   "version": "3.6.2"
  },
   "spelmanCs": {
    "version": "1"
   }
 },
 "nbformat": 4,
 "nbformat_minor": 4
}
