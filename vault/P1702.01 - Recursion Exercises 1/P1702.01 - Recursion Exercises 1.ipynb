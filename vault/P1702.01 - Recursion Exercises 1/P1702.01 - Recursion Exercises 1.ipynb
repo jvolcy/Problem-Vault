{
 "cells": [
  {
   "cell_type": "markdown",
   "metadata": {
    "deletable": false,
    "editable": false,
    "spelmanCs": {
     "data": "",
     "problemDesc": "Recursion Exercises 1",
     "problemId": "P1702.01",
     "type": "problemStatement"
    }
   },
   "source": [
    "<img align=\"right\" alt=\"CS Logo\" src=\"../../images/cs_logo.png\" style=\"width:243.33px; margin:10px; \"/><p align=\"left\" style='color:#000; font-family:\"Cambria\"; font-size:16pt; margin:0; line-height:0.0; padding-bottom:0; padding-top:0; text-align:left; page-break-after:avoid; font-weight:700; '>P1702.01 - Recursion Exercises 1</p>\n",
    "\n",
    "_JVolcy_\n",
    "<br><br><br><br>\n",
    "\n",
    "Solve each problem listed below using recursion.  There should be no loops in your solution.\n",
    "<br>\n",
    "\n",
    "<b>Part A</b>  \n",
    "[P0400.01 - Countdown](../P0400.01%20-%20Countdown/P0400.01%20-%20Countdown.ipynb)\n",
    "\n",
    "<b>Part B</b>  \n",
    "[P0407 - Pennies for Pay](../P0407%20-%20Pennies%20for%20Pay/P0407%20-%20Pennies%20for%20Pay.ipynb)  \n",
    "\n",
    "\n",
    "<b>Part C</b>  \n",
    "[P0412 - Tuition Increase](../P0412%20-%20Tuition%20Increase/P0412%20-%20Tuition%20Increase.ipynb)  \n",
    "\n",
    "\n",
    "<b>Part D</b>  \n",
    "[P0401 - Fourth Grade Math 1](../P0401%20-%20Fourth%20Grade%20Math%201/P0401%20-%20Fourth%20Grade%20Math%201.ipynb)  \n",
    "\n",
    "\n",
    "\n",
    "<br><br><br><br><br><br>\n",
    "<span style=\"color:lightgray\">Spelman College  –  Computer and Information Sciences</span>\n"
   ]
  },
  {
   "cell_type": "code",
   "execution_count": 1,
   "metadata": {
    "deletable": false,
    "editable": true,
    "spelmanCs": {
     "type": "studentSolution"
    }
   },
   "outputs": [],
   "source": [
    "# Add your code here"
   ]
  },
  {
   "cell_type": "code",
   "execution_count": null,
   "metadata": {},
   "outputs": [],
   "source": []
  }
 ],
 "metadata": {
  "kernelspec": {
   "display_name": "Python 3",
   "language": "python",
   "name": "python3"
  },
  "language_info": {
   "codemirror_mode": {
    "name": "ipython",
    "version": 3
   },
   "file_extension": ".py",
   "mimetype": "text/x-python",
   "name": "python",
   "nbconvert_exporter": "python",
   "pygments_lexer": "ipython3",
   "version": "3.6.8"
  },
  "spelmanCs": {
   "version": "1"
  },
  "widgets": {
   "application/vnd.jupyter.widget-state+json": {
    "state": {},
    "version_major": 2,
    "version_minor": 0
   }
  }
 },
 "nbformat": 4,
 "nbformat_minor": 4
}
