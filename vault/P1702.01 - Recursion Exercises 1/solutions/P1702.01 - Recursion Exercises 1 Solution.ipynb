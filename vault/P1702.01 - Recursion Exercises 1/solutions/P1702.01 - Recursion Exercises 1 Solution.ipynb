{
 "cells": [
  {
   "cell_type": "markdown",
   "metadata": {
    "deletable": false,
    "editable": true,
    "spelmanCs": {
     "data": "",
     "problemDesc": "Recursion Exercises 1",
     "problemId": "P1702.01",
     "type": "problemStatement"
    }
   },
   "source": [
    "<img align=\"right\" alt=\"CS Logo\" src=\"../../../images/cs_logo.png\" style=\"width:243.33px; margin:10px; \"/><p align=\"left\" style='color:#000; font-family:\"Cambria\"; font-size:16pt; margin:0; line-height:0.0; padding-bottom:0; padding-top:0; text-align:left; page-break-after:avoid; font-weight:700; '>P1702.01 - Recursion Exercises 1  <span style=\"color:red\">Solutions</span></p>\n",
    "\n",
    "_JVolcy_\n",
    "<br><br><br><br>\n",
    "\n",
    "Solve each problem listed below using recursion.  There should be no loops in your solution.\n",
    "<br>\n",
    "\n",
    "<b>Part A</b>  \n",
    "[P0400.01 - Countdown](../P0400.01%20-%20Countdown/P0400.01%20-%20Countdown.ipynb)\n",
    "\n",
    "<b>Part B</b>  \n",
    "[P0407 - Pennies for Pay](../P0407%20-%20Pennies%20for%20Pay/P0407%20-%20Pennies%20for%20Pay.ipynb)  \n",
    "\n",
    "<b>Part C</b>  \n",
    "[P0412 - Tuition Increase](../P0412%20-%20Tuition%20Increase/P0412%20-%20Tuition%20Increase.ipynb)  \n",
    "\n",
    "<b>Part D</b>  \n",
    "[P0401 - Fourth Grade Math 1](../P0401%20-%20Fourth%20Grade%20Math%201/P0401%20-%20Fourth%20Grade%20Math%201.ipynb)  \n",
    "\n",
    "<br><br>\n",
    "<span style=\"color:lightgray\">Spelman College  –  Computer and Information Sciences</span>\n"
   ]
  },
  {
   "cell_type": "code",
   "execution_count": 1,
   "metadata": {
    "deletable": false,
    "editable": true,
    "spelmanCs": {
     "type": "studentSolution"
    }
   },
   "outputs": [],
   "source": [
    "#P1702.01a ==> P0400.01 - Countdown\n",
    "\n",
    "def countDown(N):\n",
    "    if N == 0:\n",
    "        print('Blast Off!')\n",
    "    else:\n",
    "        print(N)\n",
    "        countDown(N-1)\n",
    "        \n",
    "N = int(input('Enter a value for N: '))\n",
    "countDown(N)"
   ]
  },
  {
   "cell_type": "code",
   "execution_count": null,
   "metadata": {},
   "outputs": [],
   "source": [
    "#P1702.01b ==> P0407 - Pennies for Pay\n",
    "\n",
    "def pay(days):\n",
    "    if days == 1:\n",
    "        return 1\n",
    "    else:\n",
    "        return(2*pay(days-1))\n",
    "    \n",
    "numDays = int(input('Enter the number of days: '))\n",
    "print(pay(numDays))"
   ]
  },
  {
   "cell_type": "code",
   "execution_count": 2,
   "metadata": {},
   "outputs": [],
   "source": [
    "#P1702.01c ==> P0412 - Tuition Increase\n",
    "\n",
    "def tuition(year):\n",
    "    if year == 1:\n",
    "        return 8000\n",
    "    else:\n",
    "        return 1.03 * tuition(year-1)\n",
    "    \n",
    "for i in range(1, 6):\n",
    "    print(i, tuition(i))"
   ]
  },
  {
   "cell_type": "code",
   "execution_count": 16,
   "metadata": {},
   "outputs": [
    {
     "name": "stdin",
     "output_type": "stream",
     "text": [
      "Which table would you like to print?  12\n"
     ]
    },
    {
     "name": "stdout",
     "output_type": "stream",
     "text": [
      "  1 x 12 = 12\n",
      "  2 x 12 = 24\n",
      "  3 x 12 = 36\n",
      "  4 x 12 = 48\n",
      "  5 x 12 = 60\n",
      "  6 x 12 = 72\n",
      "  7 x 12 = 84\n",
      "  8 x 12 = 96\n",
      "  9 x 12 = 108\n",
      " 10 x 12 = 120\n",
      " 11 x 12 = 132\n",
      " 12 x 12 = 144\n"
     ]
    }
   ],
   "source": [
    "#P1702.01d ==> P0401 - Fourth Grade Math 1\n",
    "\n",
    "def printTableEntries(table, startEntry):\n",
    "    if startEntry > table:\n",
    "        return\n",
    "    else:\n",
    "        print(format(startEntry, '3d'), 'x', table, '=', table*startEntry)\n",
    "        printTableEntries(table, startEntry+1)\n",
    "\n",
    "        \n",
    "def printTable(n):\n",
    "    printTableEntries(n, 1)\n",
    "\n",
    "    \n",
    "N = int(input('Which table would you like to print? '))\n",
    "printTable(N)"
   ]
  },
  {
   "cell_type": "code",
   "execution_count": null,
   "metadata": {},
   "outputs": [],
   "source": []
  }
 ],
 "metadata": {
  "kernelspec": {
   "display_name": "Python 3",
   "language": "python",
   "name": "python3"
  },
  "language_info": {
   "codemirror_mode": {
    "name": "ipython",
    "version": 3
   },
   "file_extension": ".py",
   "mimetype": "text/x-python",
   "name": "python",
   "nbconvert_exporter": "python",
   "pygments_lexer": "ipython3",
   "version": "3.6.8"
  },
  "spelmanCs": {
   "version": "1"
  },
  "widgets": {
   "application/vnd.jupyter.widget-state+json": {
    "state": {},
    "version_major": 2,
    "version_minor": 0
   }
  }
 },
 "nbformat": 4,
 "nbformat_minor": 4
}
