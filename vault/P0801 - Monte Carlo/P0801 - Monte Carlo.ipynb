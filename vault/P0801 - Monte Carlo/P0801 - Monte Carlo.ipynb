
{
 "cells": [
  {
   "cell_type": "markdown",
   "metadata": {
    "deletable": false,
    "editable": false,
    "spelmanCs": {
     "problemDesc": "Monte Carlo",
     "problemId": "P0801",
     "type": "problemStatement",
     "data": ""
    }
   },
   "source": [
    "<html>",
"<head><meta content=\"text/html; charset=utf-8\" http-equiv=\"content-type\"/></head>",
"<body bgcolor=\"#ffffff\" style=\"background-color:#fff; max-width:468pt; padding:54pt 72pt 54pt 72pt; \">",
"<p align=\"left\" style='color:#000; font-family:\"Cambria\"; font-size:12pt; margin:0; line-height:1; padding-bottom:0; padding-top:0; text-align:right; '><span style=\"overflow:hidden; display:inline; margin:0.00px 0.00px; border:0.00px solid #000000; width:243.33px; \"><img align=\"right\" alt=\"CS Logo (no bg).png\" src=\"../images/cs_logo.png\" style=\"width:243.33px; margin:10px; \"/><br/><br/></span></p>",
"<p align=\"left\" style='color:#000; font-family:\"Cambria\"; font-size:12pt; margin:0; line-height:1; padding-bottom:0; padding-top:0; text-align:left; '><span style=\"font-weight:700; font-size:16pt; \">P0801</span></p>",
"<p align=\"left\" style='color:#000; font-family:\"Cambria\"; font-size:12pt; margin:0; line-height:1; padding-bottom:0; padding-top:0; text-align:left; '><span style=\"font-weight:700; font-size:16pt; \">Monte Carlo</span></p>",
"<p align=\"left\" style='color:#000; font-family:\"Cambria\"; font-size:12pt; margin:0; line-height:1; padding-bottom:0; padding-top:0; text-align:left; '><span style='color:#000; font-family:\"Cambria\"; font-size:9pt; font-style:normal; font-weight:400; text-decoration:none; vertical-align:baseline; ' valign=\"baseline\">(Silberschatz, Operating System Concept &nbsp;Essentials, 2e)</span></p>",
"<br/>",
"<br/>",
"<p align=\"left\" style='color:#000; font-family:\"Cambria\"; font-size:12pt; margin:0; line-height:1; padding-bottom:0; padding-top:0; text-align:left; '><span style=\"font-weight:700; \">1 Monte-Carlo Estimation of 𝜋</span></p>",
"<p align=\"left\" style='color:#000; font-family:\"Cambria\"; font-size:12pt; margin:0; line-height:1; padding-bottom:0; padding-top:0; text-align:left; '><span style='color:#000; font-family:\"Cambria\"; font-size:12pt; font-style:normal; font-weight:400; text-decoration:none; vertical-align:baseline; ' valign=\"baseline\">The figure below shows a circle inscribed in a square. &nbsp;The diameter of the circle is equal to the sides of the square. &nbsp;It is easy to show that the ratio of the area of the circle to the area of the square is 𝜋/4.</span></p>",
"<br/>",
"<p align=\"left\" style='color:#000; font-family:\"Cambria\"; font-size:12pt; margin:0; line-height:1; padding-bottom:0; padding-top:0; text-align:left; margin-left:72pt; text-indent:36pt; '><span style=\"overflow:hidden; display:inline; margin:0.00px 0.00px; border:0.00px solid #000000; width:315.21px; height:260.76px; \"><img align=\"right\" alt=\"\" src=\"images/image1.png\" style=\"width:305.21px; height:250.76px; margin:10px; \"/></span></p>",
"<br/>",
"<p align=\"left\" style='color:#000; font-family:\"Cambria\"; font-size:12pt; margin:0; line-height:1; padding-bottom:0; padding-top:0; text-align:left; '><span>An interesting way of </span><span>calculating</span><span style='color:#000; font-family:\"Cambria\"; font-size:12pt; font-style:normal; font-weight:400; text-decoration:none; vertical-align:baseline; ' valign=\"baseline\">&nbsp;𝜋 is to use a technique known as Monte Carlo, which involves randomization. This technique works as follows: &nbsp;First, generate a series of random points as simple (x, y) coordinates. These points must fall within the bounds of the square. Of the total number of random points that are generated, some will also fall within the bounds of the circle. &nbsp;We can therefore estimate 𝜋 as follows:</span></p>",
"<br/>",
"<p align=\"left\" style='color:#000; font-family:\"Cambria\"; font-size:12pt; margin:0; line-height:1; padding-bottom:0; padding-top:0; text-align:left; text-indent:36pt; '><span style='color:#000; font-family:\"Cambria\"; font-size:12pt; font-style:normal; font-weight:700; text-decoration:none; vertical-align:baseline; ' valign=\"baseline\">𝜋 = 4× (number of points in circle) / (total number of points)</span></p>",
"<br/>",
"<p align=\"left\" style='color:#000; font-family:\"Cambria\"; font-size:12pt; margin:0; line-height:1; padding-bottom:0; padding-top:0; text-align:left; '><span>The method of Monte Carlo (like all methods that depend on randomization) provides increasing accuracy with increasing sample size. &nbsp;In this case, the more random numbers you use to make the calculation, the better the estimate. &nbsp;</span><span>Write a program that calculates 𝜋 using the Monte Carlo method. &nbsp;</span><span style='color:#000; font-family:\"Cambria\"; font-size:12pt; font-style:normal; font-weight:400; text-decoration:none; vertical-align:baseline; ' valign=\"baseline\">At the start of your program, prompt the user for the number of random pairs that should be generated for the calculation. &nbsp;You should be able to observe that the more points you use, the better the estimate. &nbsp;Fill in &nbsp;the table below with your results:</span></p>",
"<br/>",
"<hr style=\"page-break-before:always; display:none; \"/>",
"<br/>",
"<br/>",
"<p align=\"center\" style='color:#000; font-family:\"Cambria\"; font-size:12pt; margin:0; line-height:1; padding-bottom:0; padding-top:0; text-align:center; '><span style='color:#000; font-family:\"Cambria\"; font-size:14pt; font-style:normal; font-weight:400; text-decoration:none; vertical-align:baseline; ' valign=\"baseline\">True value of 𝜋 = 3.14159265358979323846...</span></p>",
"<br/>",
"<br/>",
"<a id=\"t.b2a3a101148a9cf550b1389334dbc72a5efcfdfd\"></a><a id=\"t.0\"></a><table style=\"border-collapse:collapse; border-spacing:0; margin-left:54.8pt; margin-right:auto; \"><tbody>",
"<tr height=\"0\" style=\"height:0; \">",
"<td bgcolor=\"#cfe2f3\" colspan=\"1\" rowspan=\"1\" style=\"padding:5pt 5pt 5pt 5pt; vertical-align:top; width:155.2pt; background-color:#cfe2f3; border-color:#000; border-width:1pt; border-style:solid; \" valign=\"top\" width=\"155.2pt\"><p align=\"left\" style='color:#000; font-family:\"Cambria\"; font-size:12pt; margin:0; line-height:1; padding-bottom:0; padding-top:0; text-align:left; '><span style='color:#000; font-family:\"Cambria\"; font-size:12pt; font-style:normal; font-weight:400; text-decoration:none; vertical-align:baseline; ' valign=\"baseline\">Number of random points</span></p></td>",
"<td bgcolor=\"#cfe2f3\" colspan=\"1\" rowspan=\"1\" style=\"padding:5pt 5pt 5pt 5pt; vertical-align:top; width:207.8pt; background-color:#cfe2f3; border-color:#000; border-width:1pt; border-style:solid; \" valign=\"top\" width=\"207.8pt\"><p align=\"left\" style='color:#000; font-family:\"Cambria\"; font-size:12pt; margin:0; line-height:1; padding-bottom:0; padding-top:0; text-align:left; '><span style='color:#000; font-family:\"Cambria\"; font-size:12pt; font-style:normal; font-weight:400; text-decoration:none; vertical-align:baseline; ' valign=\"baseline\">Estimate of 𝜋</span></p></td>",
"</tr>",
"<tr height=\"0\" style=\"height:0; \">",
"<td colspan=\"1\" rowspan=\"1\" style=\"padding:5pt 5pt 5pt 5pt; vertical-align:top; width:155.2pt; border-color:#000; border-width:1pt; border-style:solid; \" valign=\"top\" width=\"155.2pt\"><p align=\"left\" style='color:#000; font-family:\"Cambria\"; font-size:12pt; margin:0; line-height:1; padding-bottom:0; padding-top:0; text-align:left; '><span style='color:#000; font-family:\"Cambria\"; font-size:12pt; font-style:normal; font-weight:400; text-decoration:none; vertical-align:baseline; ' valign=\"baseline\">100</span></p></td>",
"<td colspan=\"1\" rowspan=\"1\" style=\"padding:5pt 5pt 5pt 5pt; vertical-align:top; width:207.8pt; border-color:#000; border-width:1pt; border-style:solid; \" valign=\"top\" width=\"207.8pt\"><br/></td>",
"</tr>",
"<tr height=\"0\" style=\"height:0; \">",
"<td colspan=\"1\" rowspan=\"1\" style=\"padding:5pt 5pt 5pt 5pt; vertical-align:top; width:155.2pt; border-color:#000; border-width:1pt; border-style:solid; \" valign=\"top\" width=\"155.2pt\"><p align=\"left\" style='color:#000; font-family:\"Cambria\"; font-size:12pt; margin:0; line-height:1; padding-bottom:0; padding-top:0; text-align:left; '><span style='color:#000; font-family:\"Cambria\"; font-size:12pt; font-style:normal; font-weight:400; text-decoration:none; vertical-align:baseline; ' valign=\"baseline\">1,000</span></p></td>",
"<td colspan=\"1\" rowspan=\"1\" style=\"padding:5pt 5pt 5pt 5pt; vertical-align:top; width:207.8pt; border-color:#000; border-width:1pt; border-style:solid; \" valign=\"top\" width=\"207.8pt\"><br/></td>",
"</tr>",
"<tr height=\"0\" style=\"height:0; \">",
"<td colspan=\"1\" rowspan=\"1\" style=\"padding:5pt 5pt 5pt 5pt; vertical-align:top; width:155.2pt; border-color:#000; border-width:1pt; border-style:solid; \" valign=\"top\" width=\"155.2pt\"><p align=\"left\" style='color:#000; font-family:\"Cambria\"; font-size:12pt; margin:0; line-height:1; padding-bottom:0; padding-top:0; text-align:left; '><span style='color:#000; font-family:\"Cambria\"; font-size:12pt; font-style:normal; font-weight:400; text-decoration:none; vertical-align:baseline; ' valign=\"baseline\">10,000</span></p></td>",
"<td colspan=\"1\" rowspan=\"1\" style=\"padding:5pt 5pt 5pt 5pt; vertical-align:top; width:207.8pt; border-color:#000; border-width:1pt; border-style:solid; \" valign=\"top\" width=\"207.8pt\"><br/></td>",
"</tr>",
"<tr height=\"0\" style=\"height:0; \">",
"<td colspan=\"1\" rowspan=\"1\" style=\"padding:5pt 5pt 5pt 5pt; vertical-align:top; width:155.2pt; border-color:#000; border-width:1pt; border-style:solid; \" valign=\"top\" width=\"155.2pt\"><p align=\"left\" style='color:#000; font-family:\"Cambria\"; font-size:12pt; margin:0; line-height:1; padding-bottom:0; padding-top:0; text-align:left; '><span style='color:#000; font-family:\"Cambria\"; font-size:12pt; font-style:normal; font-weight:400; text-decoration:none; vertical-align:baseline; ' valign=\"baseline\">100,000</span></p></td>",
"<td colspan=\"1\" rowspan=\"1\" style=\"padding:5pt 5pt 5pt 5pt; vertical-align:top; width:207.8pt; border-color:#000; border-width:1pt; border-style:solid; \" valign=\"top\" width=\"207.8pt\"><br/></td>",
"</tr>",
"</tbody></table>",
"<br/>",
"<br/>",
"<br/>",
"<p align=\"left\" style='color:#000; font-family:\"Cambria\"; font-size:12pt; margin:0; line-height:1; padding-bottom:0; padding-top:0; text-align:left; '><span style='color:#000; font-family:\"Cambria\"; font-size:12pt; font-style:italic; font-weight:700; text-decoration:none; vertical-align:baseline; ' valign=\"baseline\">Sidenote of interest</span></p>",
"<p align=\"left\" style='color:#000; font-family:\"Cambria\"; font-size:12pt; margin:0; line-height:1; padding-bottom:0; padding-top:0; text-align:left; '><span style='color:#000; font-family:\"Cambria\"; font-size:12pt; font-style:normal; font-weight:400; text-decoration:none; vertical-align:baseline; ' valign=\"baseline\">One interesting use of the Monte Carlo method is to estimate the size of irregular shapes. &nbsp;As a practical example, the method can be used to estimate &nbsp;the size of an oil slick on the surface of the ocean following an oil spill. &nbsp;Below is a map showing the size of the oil slick following the 2010 BP oil spill in the Gulf of Mexico. &nbsp;The square shown is known to be 400 x 400 miles.</span></p>",
"<br/>",
"<p align=\"left\" style='color:#000; font-family:\"Cambria\"; font-size:12pt; margin:0; line-height:1; padding-bottom:0; padding-top:0; text-align:center; '><span style=\"overflow:hidden; display:inline-block; margin:0.00px 0.00px; border:0.00px solid #000000; width:634.00px; height:390.00px; \"><img align=\"right\" alt=\"\" src=\"images/image2.png\" style=\"width:624.00px; height:380.00px; margin:10px; \"/></span></p>",
"<br/>",
"<div>",
"<br/>",
"<p align=\"left\" style='color:#000; font-family:\"Cambria\"; font-size:12pt; margin:0; line-height:1; margin-right:18pt; padding-bottom:36pt; padding-top:0; text-align:left; '><span style='color:#999; font-family:\"Cambria\"; font-size:10pt; font-style:normal; font-weight:400; text-decoration:none; vertical-align:baseline; ' valign=\"baseline\">Spelman College – Computer and Information Sciences</span></p>",
"</div>",
"</body>",
"</html>",
"",
""
   ]
  },
  {
   "cell_type": "code",
   "execution_count": null,
   "metadata": {
    "deletable": false,
    "editable": true,
    "spelmanCs": {
     "type": "studentSolution"
    }
   },
   "outputs": [],
   "source": [
    "# Add your code here"
   ]
  }
 ],
 "metadata": {
  "kernelspec": {
   "display_name": "Python 3",
   "language": "python",
   "name": "python3"
  },
  "language_info": {
   "codemirror_mode": {
    "name": "ipython",
    "version": 3
   },
   "file_extension": ".py",
   "mimetype": "text/x-python",
   "name": "python",
   "nbconvert_exporter": "python",
   "pygments_lexer": "ipython3",
   "version": "3.6.2"
  },
   "spelmanCs": {
    "version": "1"
   }
 },
 "nbformat": 4,
 "nbformat_minor": 4
}
