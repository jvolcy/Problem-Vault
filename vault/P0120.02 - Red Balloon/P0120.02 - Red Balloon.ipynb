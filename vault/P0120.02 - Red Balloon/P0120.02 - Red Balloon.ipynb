
{
 "cells": [
  {
   "cell_type": "markdown",
   "metadata": {
    "deletable": false,
    "editable": false,
    "spelmanCs": {
     "problemDesc": "Red Balloon",
     "problemId": "P0120.02",
     "type": "problemStatement",
     "data": ""
    }
   },
   "source": [
    "<html>",
"<head><meta content=\"text/html; charset=utf-8\" http-equiv=\"content-type\"/></head>",
"<body bgcolor=\"#ffffff\" style=\"background-color:#fff; max-width:468pt; padding:54pt 72pt 54pt 72pt; \">",
"<p align=\"left\" style='color:#000; font-family:\"Cambria\"; font-size:12pt; margin:0; line-height:1; padding-bottom:0; padding-top:0; text-align:right; '><span style=\"overflow:hidden; display:inline; margin:0.00px 0.00px; border:0.00px solid #000000; width:243.33px; \"><img align=\"right\" alt=\"CS Logo\" src=\"../../images/cs_logo.png\" style=\"width:243.33px; margin:10px; \"/><br/><br/></span></p>",
"<p align=\"left\" style='color:#000; font-family:\"Cambria\"; font-size:16pt; margin:0; line-height:1; padding-bottom:0; padding-top:0; text-align:left; page-break-after:avoid; font-weight:700; '><span>P0120.02</span><span style='color:#000; font-family:\"Cambria\"; font-size:16pt; font-style:normal; font-weight:700; text-decoration:none; vertical-align:baseline; ' valign=\"baseline\">&nbsp;- Red Balloon</span></p>",
"<p align=\"left\" style='color:#000; font-family:\"Cambria\"; font-size:12pt; margin:0; line-height:1; padding-bottom:0; padding-top:0; text-align:left; '><span style='color:#000; font-size:9pt; font-style:normal; text-decoration:none; vertical-align:baseline; font-family:\"Cambria\"; font-weight:700; ' valign=\"baseline\">JVolcy</span></p>",
"<br/>",
"<br/>",
"<br/>",
"<p align=\"left\" style='color:#000; font-family:\"Cambria\"; font-size:12pt; margin:0; line-height:1; padding-bottom:0; padding-top:0; text-align:left; '><span style='color:#000; font-family:\"Cambria\"; font-size:12pt; font-style:normal; font-weight:400; text-decoration:none; vertical-align:baseline; ' valign=\"baseline\">The code below uses scGraphics to draw a red balloon on the canvas. &nbsp;Both the color and position of the balloon on the screen is fixed. &nbsp;Execute the script to verify its operation. &nbsp;Then, modify it so that the user can specify the the x-position, y-position and color of the balloon.</span></p>",
"<br/>",
"<br/>",
"<a id=\"t.7d99b91181880ecf4ca189d68ed7bb45609248c5\"></a><a id=\"t.0\"></a><table style=\"border-collapse:collapse; border-spacing:0; margin-right:auto; \"><tbody><tr height=\"0\" style=\"height:0; \"><td colspan=\"1\" rowspan=\"1\" style=\"padding:5pt 5pt 5pt 5pt; vertical-align:top; width:468pt; border-color:#000; border-width:1pt; border-style:solid; \" valign=\"top\" width=\"468pt\">",
"<p align=\"left\" style='color:#000; font-family:\"Cambria\"; font-size:12pt; margin:0; line-height:1; padding-bottom:0; padding-top:0; text-align:left; '><span style='color:#009600; font-size:12pt; font-style:normal; text-decoration:none; vertical-align:baseline; font-family:\"Droid Sans Mono\"; font-weight:400; ' valign=\"baseline\">#import the scGraphics library</span></p>",
"<p align=\"left\" style='color:#000; font-family:\"Cambria\"; font-size:12pt; margin:0; line-height:1; padding-bottom:0; padding-top:0; text-align:left; '><span style='font-family:\"Droid Sans Mono\"; font-weight:400; color:#9b2393; '>import</span><span style='color:#000; font-size:12pt; font-style:normal; text-decoration:none; vertical-align:baseline; font-family:\"Droid Sans Mono\"; font-weight:400; ' valign=\"baseline\">&nbsp;scgraphics</span></p>",
"<p align=\"left\" style='color:#000; font-family:\"Cambria\"; font-size:12pt; margin:0; line-height:1; padding-bottom:0; padding-top:0; text-align:left; '><span style='color:#000; font-size:12pt; font-style:normal; text-decoration:none; vertical-align:baseline; font-family:\"Droid Sans Mono\"; font-weight:400; ' valign=\"baseline\">&nbsp;</span></p>",
"<p align=\"left\" style='color:#000; font-family:\"Cambria\"; font-size:12pt; margin:0; line-height:1; padding-bottom:0; padding-top:0; text-align:left; '><span style='color:#009600; font-size:12pt; font-style:normal; text-decoration:none; vertical-align:baseline; font-family:\"Droid Sans Mono\"; font-weight:400; ' valign=\"baseline\">#create the graphics window (w x h)</span></p>",
"<p align=\"left\" style='color:#000; font-family:\"Cambria\"; font-size:12pt; margin:0; line-height:1; padding-bottom:0; padding-top:0; text-align:left; '><span style='font-family:\"Droid Sans Mono\"; font-weight:400; '>win = scgraphics.GraphicsWindow(</span><span style='font-family:\"Droid Sans Mono\"; font-weight:400; color:#1c00cf; '>500</span><span style='font-family:\"Droid Sans Mono\"; font-weight:400; '>, </span><span style='font-family:\"Droid Sans Mono\"; font-weight:400; color:#1c00cf; '>500</span><span style='color:#000; font-size:12pt; font-style:normal; text-decoration:none; vertical-align:baseline; font-family:\"Droid Sans Mono\"; font-weight:400; ' valign=\"baseline\">)</span></p>",
"<p align=\"left\" style='color:#000; font-family:\"Cambria\"; font-size:12pt; margin:0; line-height:1; padding-bottom:0; padding-top:0; text-align:left; '><span style='color:#000; font-size:12pt; font-style:normal; text-decoration:none; vertical-align:baseline; font-family:\"Droid Sans Mono\"; font-weight:400; ' valign=\"baseline\">&nbsp;</span></p>",
"<p align=\"left\" style='color:#000; font-family:\"Cambria\"; font-size:12pt; margin:0; line-height:1; padding-bottom:0; padding-top:0; text-align:left; '><span style='color:#009600; font-size:12pt; font-style:normal; text-decoration:none; vertical-align:baseline; font-family:\"Droid Sans Mono\"; font-weight:400; ' valign=\"baseline\">#get a reference to the canvas</span></p>",
"<p align=\"left\" style='color:#000; font-family:\"Cambria\"; font-size:12pt; margin:0; line-height:1; padding-bottom:0; padding-top:0; text-align:left; '><span style='color:#000; font-size:12pt; font-style:normal; text-decoration:none; vertical-align:baseline; font-family:\"Droid Sans Mono\"; font-weight:400; ' valign=\"baseline\">canvas = win.canvas()</span></p>",
"<p align=\"left\" style='color:#000; font-family:\"Cambria\"; font-size:12pt; margin:0; line-height:1; padding-bottom:0; padding-top:0; text-align:left; '><span style='color:#000; font-size:12pt; font-style:normal; text-decoration:none; vertical-align:baseline; font-family:\"Droid Sans Mono\"; font-weight:400; ' valign=\"baseline\">&nbsp;</span></p>",
"<p align=\"left\" style='color:#000; font-family:\"Cambria\"; font-size:12pt; margin:0; line-height:1; padding-bottom:0; padding-top:0; text-align:left; '><span style='color:#009600; font-size:12pt; font-style:normal; text-decoration:none; vertical-align:baseline; font-family:\"Droid Sans Mono\"; font-weight:400; ' valign=\"baseline\">#Your code that draws on the canvas goes here</span></p>",
"<p align=\"left\" style='color:#000; font-family:\"Cambria\"; font-size:12pt; margin:0; line-height:1; padding-bottom:0; padding-top:0; text-align:left; '><span style='color:#000; font-size:12pt; font-style:normal; text-decoration:none; vertical-align:baseline; font-family:\"Droid Sans Mono\"; font-weight:400; ' valign=\"baseline\">&nbsp;</span></p>",
"<p align=\"left\" style='color:#000; font-family:\"Cambria\"; font-size:12pt; margin:0; line-height:1; padding-bottom:0; padding-top:0; text-align:left; '><span style='color:#009600; font-size:12pt; font-style:normal; text-decoration:none; vertical-align:baseline; font-family:\"Droid Sans Mono\"; font-weight:400; ' valign=\"baseline\">#set the fill color</span></p>",
"<p align=\"left\" style='color:#000; font-family:\"Cambria\"; font-size:12pt; margin:0; line-height:1; padding-bottom:0; padding-top:0; text-align:left; '><span style='font-family:\"Droid Sans Mono\"; font-weight:400; '>canvas.setFill(</span><span style='font-family:\"Droid Sans Mono\"; font-weight:400; color:#d20000; '>'red'</span><span style='color:#000; font-size:12pt; font-style:normal; text-decoration:none; vertical-align:baseline; font-family:\"Droid Sans Mono\"; font-weight:400; ' valign=\"baseline\">)</span></p>",
"<p align=\"left\" style='color:#000; font-family:\"Cambria\"; font-size:12pt; margin:0; line-height:1; padding-bottom:0; padding-top:0; text-align:left; '><span style='color:#000; font-size:12pt; font-style:normal; text-decoration:none; vertical-align:baseline; font-family:\"Droid Sans Mono\"; font-weight:400; ' valign=\"baseline\">&nbsp;</span></p>",
"<p align=\"left\" style='color:#000; font-family:\"Cambria\"; font-size:12pt; margin:0; line-height:1; padding-bottom:0; padding-top:0; text-align:left; '><span style='color:#009600; font-size:12pt; font-style:normal; text-decoration:none; vertical-align:baseline; font-family:\"Droid Sans Mono\"; font-weight:400; ' valign=\"baseline\">#draw the balloon</span></p>",
"<p align=\"left\" style='color:#000; font-family:\"Cambria\"; font-size:12pt; margin:0; line-height:1; padding-bottom:0; padding-top:0; text-align:left; '><span style='font-family:\"Droid Sans Mono\"; font-weight:400; '>canvas.drawRect(</span><span style='font-family:\"Droid Sans Mono\"; font-weight:400; color:#1c00cf; '>115</span><span style='font-family:\"Droid Sans Mono\"; font-weight:400; '>, </span><span style='font-family:\"Droid Sans Mono\"; font-weight:400; color:#1c00cf; '>120</span><span style='font-family:\"Droid Sans Mono\"; font-weight:400; '>, </span><span style='font-family:\"Droid Sans Mono\"; font-weight:400; color:#1c00cf; '>20</span><span style='font-family:\"Droid Sans Mono\"; font-weight:400; '>, </span><span style='font-family:\"Droid Sans Mono\"; font-weight:400; color:#1c00cf; '>40</span><span style='color:#000; font-size:12pt; font-style:normal; text-decoration:none; vertical-align:baseline; font-family:\"Droid Sans Mono\"; font-weight:400; ' valign=\"baseline\">)</span></p>",
"<p align=\"left\" style='color:#000; font-family:\"Cambria\"; font-size:12pt; margin:0; line-height:1; padding-bottom:0; padding-top:0; text-align:left; '><span style='font-family:\"Droid Sans Mono\"; font-weight:400; '>canvas.drawOval(</span><span style='font-family:\"Droid Sans Mono\"; font-weight:400; color:#1c00cf; '>100</span><span style='font-family:\"Droid Sans Mono\"; font-weight:400; '>, </span><span style='font-family:\"Droid Sans Mono\"; font-weight:400; color:#1c00cf; '>100</span><span style='font-family:\"Droid Sans Mono\"; font-weight:400; '>, </span><span style='font-family:\"Droid Sans Mono\"; font-weight:400; color:#1c00cf; '>50</span><span style='font-family:\"Droid Sans Mono\"; font-weight:400; '>, </span><span style='font-family:\"Droid Sans Mono\"; font-weight:400; color:#1c00cf; '>50</span><span style='color:#000; font-size:12pt; font-style:normal; text-decoration:none; vertical-align:baseline; font-family:\"Droid Sans Mono\"; font-weight:400; ' valign=\"baseline\">)</span></p>",
"<p align=\"left\" style='color:#000; font-family:\"Cambria\"; font-size:12pt; margin:0; line-height:1; padding-bottom:0; padding-top:0; text-align:left; '><span style='color:#000; font-size:12pt; font-style:normal; text-decoration:none; vertical-align:baseline; font-family:\"Droid Sans Mono\"; font-weight:400; ' valign=\"baseline\">&nbsp;</span></p>",
"<p align=\"left\" style='color:#000; font-family:\"Cambria\"; font-size:12pt; margin:0; line-height:1; padding-bottom:0; padding-top:0; text-align:left; '><span style='color:#009600; font-size:12pt; font-style:normal; text-decoration:none; vertical-align:baseline; font-family:\"Droid Sans Mono\"; font-weight:400; ' valign=\"baseline\">#draw the string</span></p>",
"<p align=\"left\" style='color:#000; font-family:\"Cambria\"; font-size:12pt; margin:0; line-height:1; padding-bottom:0; padding-top:0; text-align:left; '><span style='font-family:\"Droid Sans Mono\"; font-weight:400; '>canvas.drawLine(</span><span style='font-family:\"Droid Sans Mono\"; font-weight:400; color:#1c00cf; '>130</span><span style='font-family:\"Droid Sans Mono\"; font-weight:400; '>, </span><span style='font-family:\"Droid Sans Mono\"; font-weight:400; color:#1c00cf; '>150</span><span style='font-family:\"Droid Sans Mono\"; font-weight:400; '>, </span><span style='font-family:\"Droid Sans Mono\"; font-weight:400; color:#1c00cf; '>130</span><span style='font-family:\"Droid Sans Mono\"; font-weight:400; '>, </span><span style='font-family:\"Droid Sans Mono\"; font-weight:400; color:#1c00cf; '>300</span><span style='color:#000; font-size:12pt; font-style:normal; text-decoration:none; vertical-align:baseline; font-family:\"Droid Sans Mono\"; font-weight:400; ' valign=\"baseline\">)</span></p>",
"<p align=\"left\" style='color:#000; font-family:\"Cambria\"; font-size:12pt; margin:0; line-height:1; padding-bottom:0; padding-top:0; text-align:left; '><span style='color:#000; font-size:12pt; font-style:normal; text-decoration:none; vertical-align:baseline; font-family:\"Droid Sans Mono\"; font-weight:400; ' valign=\"baseline\">&nbsp;</span></p>",
"<p align=\"left\" style='color:#000; font-family:\"Cambria\"; font-size:12pt; margin:0; line-height:1; padding-bottom:0; padding-top:0; text-align:left; '><span style='color:#009600; font-size:12pt; font-style:normal; text-decoration:none; vertical-align:baseline; font-family:\"Droid Sans Mono\"; font-weight:400; ' valign=\"baseline\">#wait for user to close the window</span></p>",
"<p align=\"left\" style='color:#000; font-family:\"Cambria\"; font-size:12pt; margin:0; line-height:1; padding-bottom:0; padding-top:0; text-align:left; '><span style='color:#000; font-size:12pt; font-style:normal; text-decoration:none; vertical-align:baseline; font-family:\"Droid Sans Mono\"; font-weight:400; ' valign=\"baseline\">win.wait()</span></p>",
"<br/>",
"</td></tr></tbody></table>",
"<br/>",
"<br/>",
"<div>",
"<br/>",
"<p align=\"left\" style='color:#000; font-family:\"Cambria\"; font-size:12pt; margin:0; line-height:1; margin-right:18pt; padding-bottom:36pt; padding-top:0; text-align:left; '><span style='color:#999; font-family:\"Cambria\"; font-size:10pt; font-weight:400; '>Spelman College </span><span style=\"color:#999; font-size:10pt; \">&nbsp; </span><span style='color:#999; font-family:\"Cambria\"; font-size:10pt; font-weight:400; font-style:normal; text-decoration:none; vertical-align:baseline; ' valign=\"baseline\">– &nbsp; Computer and Information Sciences</span></p>",
"</div>",
"</body>",
"</html>",
"",
""
   ]
  },
  {
   "cell_type": "code",
   "execution_count": null,
   "metadata": {
    "deletable": false,
    "editable": true,
    "spelmanCs": {
     "type": "studentSolution"
    }
   },
   "outputs": [],
   "source": [
    "# Add your code here"
   ]
  }
 ],
 "metadata": {
  "kernelspec": {
   "display_name": "Python 3",
   "language": "python",
   "name": "python3"
  },
  "language_info": {
   "codemirror_mode": {
    "name": "ipython",
    "version": 3
   },
   "file_extension": ".py",
   "mimetype": "text/x-python",
   "name": "python",
   "nbconvert_exporter": "python",
   "pygments_lexer": "ipython3",
   "version": "3.6.2"
  },
   "spelmanCs": {
    "version": "1"
   }
 },
 "nbformat": 4,
 "nbformat_minor": 4
}
