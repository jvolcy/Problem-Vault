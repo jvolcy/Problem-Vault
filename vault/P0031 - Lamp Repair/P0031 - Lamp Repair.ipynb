
{
 "cells": [
  {
   "cell_type": "markdown",
   "metadata": {
    "deletable": false,
    "editable": false,
    "spelmanCs": {
     "problemDesc": "Lamp Repair",
     "problemId": "P0031",
     "type": "problemStatement",
     "data": ""
    }
   },
   "source": [
    "<html>",
"<head><meta content=\"text/html; charset=utf-8\" http-equiv=\"content-type\"/></head>",
"<body bgcolor=\"#ffffff\" style=\"background-color:#fff; max-width:468pt; padding:54pt 72pt 54pt 72pt; \">",
"<div><br/></div>",
"<p align=\"left\" style='color:#000; font-family:\"Cambria\"; font-size:12pt; margin:0; line-height:1; padding-bottom:0; padding-top:0; text-align:right; '><span style=\"overflow:hidden; display:inline; margin:0.00px 0.00px; border:0.00px solid #000000; width:243.33px; \"><img align=\"right\" alt=\"CS Logo\" src=\"../../images/cs_logo.png\" style=\"width:243.33px; margin:10px; \"/><br/><br/></span></p>",
"<p align=\"left\" style='color:#000; font-family:\"Cambria\"; font-size:16pt; margin:0; line-height:1; padding-bottom:0; padding-top:0; text-align:left; page-break-after:avoid; font-weight:700; '><span>P0031</span><span style='color:#000; font-family:\"Cambria\"; font-size:16pt; font-style:normal; font-weight:700; text-decoration:none; vertical-align:baseline; ' valign=\"baseline\">&nbsp;- Lamp Repair</span></p>",
"<p align=\"left\" style='color:#000; font-family:\"Cambria\"; font-size:12pt; margin:0; line-height:1; padding-bottom:0; padding-top:0; text-align:left; '><span style='color:#000; font-family:\"Cambria\"; font-size:9pt; font-style:normal; font-weight:700; text-decoration:none; vertical-align:baseline; ' valign=\"baseline\">JVolcy</span></p>",
"<br/>",
"<br/>",
"<br/>",
"<br/>",
"<p align=\"left\" style='color:#000; font-family:\"Cambria\"; font-size:12pt; margin:0; line-height:1.15; padding-bottom:0; padding-top:0; text-align:left; '><span style='color:#000; font-family:\"Cambria\"; font-size:12pt; font-style:normal; font-weight:400; text-decoration:none; vertical-align:baseline; ' valign=\"baseline\">Two students were asked to write an algorithm that helps a person diagnose a lamp problem. &nbsp;First, the user should check if the lamp is plugged in. &nbsp;Next, the user should check if there is a bulb in the socket. &nbsp;Next, the user should check if the bulb is burned out. &nbsp;If none of these correctly diagnoses the problem, the lamp should be sent out for repair. &nbsp;Study the two algorithms presented by the students below. &nbsp;Then, answer the questions that follow.</span></p>",
"<br/>",
"<p align=\"left\" style='color:#000; font-family:\"Cambria\"; font-size:12pt; margin:0; line-height:1.15; padding-bottom:0; padding-top:0; text-align:left; '><span>Here is the first student’s algorithm:</span></p>",
"<br/>",
"<a id=\"t.cb7213c6f70815fd67ae0f88da231bc58ea3f22b\"></a><a id=\"t.0\"></a><table style=\"border-collapse:collapse; border-spacing:0; margin-right:auto; \"><tbody>",
"<tr height=\"0\" style=\"height:0; \"><td bgcolor=\"#b6d7a8\" colspan=\"1\" rowspan=\"1\" style=\"padding:5pt 5pt 5pt 5pt; background-color:#b6d7a8; vertical-align:top; width:468pt; border-color:#000; border-width:1pt; border-style:solid; \" valign=\"top\" width=\"468pt\"><p align=\"left\" style='color:#000; font-family:\"Cambria\"; font-size:12pt; margin:0; line-height:1.15; padding-bottom:0; padding-top:0; text-align:left; '><span style='color:#000; font-family:\"Arial\"; font-size:12pt; font-style:normal; font-weight:700; text-decoration:none; vertical-align:baseline; ' valign=\"baseline\">Lamp repair algorithm #1</span></p></td></tr>",
"<tr height=\"0\" style=\"height:0; \"><td bgcolor=\"#d9ead3\" colspan=\"1\" rowspan=\"1\" style=\"padding:5pt 5pt 5pt 5pt; background-color:#d9ead3; vertical-align:top; width:468pt; border-color:#000; border-width:1pt; border-style:solid; \" valign=\"top\" width=\"468pt\"><ol start=\"1\" style=\"margin:0; padding:0; list-style-type:none; counter-reset:lst-ctn-kix_xlro7qvdka0y-0 0; \">",
"<li align=\"left\" style='{color:#000; font-family:\"Cambria\"; font-size:12pt; line-height:1.5; margin-left:40.5pt; padding-bottom:0; padding-left:-9pt; padding-top:0; text-align:left; counter-increment:lst-ctn-kix_xlro7qvdka0y-0} :before{content:\"\" counter(lst-ctn-kix_xlro7qvdka0y-0, decimal) \". \"}; '><span style='color:#000; font-family:\"Arial\"; font-size:12pt; font-style:normal; font-weight:400; text-decoration:none; vertical-align:baseline; ' valign=\"baseline\">If the lamp is plugged in, go to step 4</span></li>",
"<li align=\"left\" style='{color:#000; font-family:\"Cambria\"; font-size:12pt; line-height:1.5; margin-left:40.5pt; padding-bottom:0; padding-left:-9pt; padding-top:0; text-align:left; counter-increment:lst-ctn-kix_xlro7qvdka0y-0} :before{content:\"\" counter(lst-ctn-kix_xlro7qvdka0y-0, decimal) \". \"}; '><span style='color:#000; font-family:\"Arial\"; font-size:12pt; font-style:normal; font-weight:400; text-decoration:none; vertical-align:baseline; ' valign=\"baseline\">plug in the lamp</span></li>",
"<li align=\"left\" style='{color:#000; font-family:\"Cambria\"; font-size:12pt; line-height:1.5; margin-left:40.5pt; padding-bottom:0; padding-left:-9pt; padding-top:0; text-align:left; counter-increment:lst-ctn-kix_xlro7qvdka0y-0} :before{content:\"\" counter(lst-ctn-kix_xlro7qvdka0y-0, decimal) \". \"}; '><span style='color:#000; font-family:\"Arial\"; font-size:12pt; font-style:normal; font-weight:400; text-decoration:none; vertical-align:baseline; ' valign=\"baseline\">If the lamp is now working, go to step 11</span></li>",
"<li align=\"left\" style='{color:#000; font-family:\"Cambria\"; font-size:12pt; line-height:1.5; margin-left:40.5pt; padding-bottom:0; padding-left:-9pt; padding-top:0; text-align:left; counter-increment:lst-ctn-kix_xlro7qvdka0y-0} :before{content:\"\" counter(lst-ctn-kix_xlro7qvdka0y-0, decimal) \". \"}; '><span style='color:#000; font-family:\"Arial\"; font-size:12pt; font-style:normal; font-weight:400; text-decoration:none; vertical-align:baseline; ' valign=\"baseline\">If there is a bulb in the socket go to step 7</span></li>",
"<li align=\"left\" style='{color:#000; font-family:\"Cambria\"; font-size:12pt; line-height:1.5; margin-left:40.5pt; padding-bottom:0; padding-left:-9pt; padding-top:0; text-align:left; counter-increment:lst-ctn-kix_xlro7qvdka0y-0} :before{content:\"\" counter(lst-ctn-kix_xlro7qvdka0y-0, decimal) \". \"}; '><span style='color:#000; font-family:\"Arial\"; font-size:12pt; font-style:normal; font-weight:400; text-decoration:none; vertical-align:baseline; ' valign=\"baseline\">screw in a known good bulb</span></li>",
"<li align=\"left\" style='{color:#000; font-family:\"Cambria\"; font-size:12pt; line-height:1.5; margin-left:40.5pt; padding-bottom:0; padding-left:-9pt; padding-top:0; text-align:left; counter-increment:lst-ctn-kix_xlro7qvdka0y-0} :before{content:\"\" counter(lst-ctn-kix_xlro7qvdka0y-0, decimal) \". \"}; '><span style='color:#000; font-family:\"Arial\"; font-size:12pt; font-style:normal; font-weight:400; text-decoration:none; vertical-align:baseline; ' valign=\"baseline\">If the lamp is now working, go to step 11</span></li>",
"<li align=\"left\" style='{color:#000; font-family:\"Cambria\"; font-size:12pt; line-height:1.5; margin-left:40.5pt; padding-bottom:0; padding-left:-9pt; padding-top:0; text-align:left; counter-increment:lst-ctn-kix_xlro7qvdka0y-0} :before{content:\"\" counter(lst-ctn-kix_xlro7qvdka0y-0, decimal) \". \"}; '><span style='color:#000; font-family:\"Arial\"; font-size:12pt; font-style:normal; font-weight:400; text-decoration:none; vertical-align:baseline; ' valign=\"baseline\">If the bulb in the lamp is burned out, go to step 8, otherwise go to step 10</span></li>",
"<li align=\"left\" style='{color:#000; font-family:\"Cambria\"; font-size:12pt; line-height:1.5; margin-left:40.5pt; padding-bottom:0; padding-left:-9pt; padding-top:0; text-align:left; counter-increment:lst-ctn-kix_xlro7qvdka0y-0} :before{content:\"\" counter(lst-ctn-kix_xlro7qvdka0y-0, decimal) \". \"}; '><span style='color:#000; font-family:\"Arial\"; font-size:12pt; font-style:normal; font-weight:400; text-decoration:none; vertical-align:baseline; ' valign=\"baseline\">replace the bulb with a known working bulb </span></li>",
"<li align=\"left\" style='{color:#000; font-family:\"Cambria\"; font-size:12pt; line-height:1.5; margin-left:40.5pt; padding-bottom:0; padding-left:-9pt; padding-top:0; text-align:left; counter-increment:lst-ctn-kix_xlro7qvdka0y-0} :before{content:\"\" counter(lst-ctn-kix_xlro7qvdka0y-0, decimal) \". \"}; '><span style='color:#000; font-family:\"Arial\"; font-size:12pt; font-style:normal; font-weight:400; text-decoration:none; vertical-align:baseline; ' valign=\"baseline\">If the lamp is now working, go to step 11</span></li>",
"<li align=\"left\" style='{color:#000; font-family:\"Cambria\"; font-size:12pt; line-height:1.5; margin-left:40.5pt; padding-bottom:0; padding-left:-9pt; padding-top:0; text-align:left; counter-increment:lst-ctn-kix_xlro7qvdka0y-0} :before{content:\"\" counter(lst-ctn-kix_xlro7qvdka0y-0, decimal) \". \"}; '><span style='color:#000; font-family:\"Arial\"; font-size:12pt; font-style:normal; font-weight:400; text-decoration:none; vertical-align:baseline; ' valign=\"baseline\">Send the lamp out for repair.</span></li>",
"<li align=\"left\" style='{color:#000; font-family:\"Cambria\"; font-size:12pt; line-height:1.5; margin-left:40.5pt; padding-bottom:0; padding-left:-9pt; padding-top:0; text-align:left; counter-increment:lst-ctn-kix_xlro7qvdka0y-0} :before{content:\"\" counter(lst-ctn-kix_xlro7qvdka0y-0, decimal) \". \"}; '><span style='color:#000; font-family:\"Arial\"; font-size:12pt; font-style:normal; font-weight:400; text-decoration:none; vertical-align:baseline; ' valign=\"baseline\">Stop</span></li>",
"</ol></td></tr>",
"</tbody></table>",
"<br/>",
"<p align=\"left\" style='color:#000; font-family:\"Cambria\"; font-size:12pt; margin:0; line-height:1.15; padding-bottom:0; padding-top:0; text-align:left; '><span>&nbsp;</span></p>",
"<hr style=\"page-break-before:always; display:none; \"/>",
"<br/>",
"<p align=\"left\" style='color:#000; font-family:\"Cambria\"; font-size:12pt; margin:0; line-height:1.15; padding-bottom:0; padding-top:0; text-align:left; '><span style='color:#000; font-family:\"Cambria\"; font-size:12pt; font-style:normal; font-weight:400; text-decoration:none; vertical-align:baseline; ' valign=\"baseline\">Here is the second student’s algorithm:</span></p>",
"<br/>",
"<a id=\"t.3c1b995fbd49decf5e8562035b6b50448a502ae2\"></a><a id=\"t.1\"></a><table style=\"border-collapse:collapse; border-spacing:0; margin-right:auto; \"><tbody>",
"<tr height=\"0\" style=\"height:0; \"><td bgcolor=\"#ffe599\" colspan=\"1\" rowspan=\"1\" style=\"padding:5pt 5pt 5pt 5pt; background-color:#ffe599; vertical-align:top; width:468pt; border-color:#000; border-width:1pt; border-style:solid; \" valign=\"top\" width=\"468pt\"><p align=\"left\" style='color:#000; font-family:\"Cambria\"; font-size:12pt; margin:0; line-height:1.15; padding-bottom:0; padding-top:0; text-align:left; '><span style='color:#000; font-family:\"Arial\"; font-size:12pt; font-style:normal; font-weight:700; text-decoration:none; vertical-align:baseline; ' valign=\"baseline\">Lamp repair algorithm #2</span></p></td></tr>",
"<tr height=\"0\" style=\"height:0; \"><td bgcolor=\"#fff2cc\" colspan=\"1\" rowspan=\"1\" style=\"padding:5pt 5pt 5pt 5pt; background-color:#fff2cc; vertical-align:top; width:468pt; border-color:#000; border-width:1pt; border-style:solid; \" valign=\"top\" width=\"468pt\">",
"<ol start=\"1\" style=\"margin:0; padding:0; list-style-type:none; counter-reset:lst-ctn-kix_xvys3dujoaq5-0 0; \">",
"<li align=\"left\" style='{color:#000; font-family:\"Cambria\"; font-size:12pt; line-height:1.5; margin-left:40.5pt; padding-bottom:0; padding-left:-9pt; padding-top:0; text-align:left; counter-increment:lst-ctn-kix_xvys3dujoaq5-0} :before{content:\"\" counter(lst-ctn-kix_xvys3dujoaq5-0, decimal) \". \"}; '><span style='color:#000; font-family:\"Arial\"; font-size:12pt; font-style:normal; font-weight:400; text-decoration:none; vertical-align:baseline; ' valign=\"baseline\">Check if the lamp is plugged in</span></li>",
"<li align=\"left\" style='{color:#000; font-family:\"Cambria\"; font-size:12pt; line-height:1.5; margin-left:40.5pt; padding-bottom:0; padding-left:-9pt; padding-top:0; text-align:left; counter-increment:lst-ctn-kix_xvys3dujoaq5-0} :before{content:\"\" counter(lst-ctn-kix_xvys3dujoaq5-0, decimal) \". \"}; '><span style='color:#000; font-family:\"Arial\"; font-size:12pt; font-style:normal; font-weight:400; text-decoration:none; vertical-align:baseline; ' valign=\"baseline\">If it isn’t </span></li>",
"</ol>",
"<ol start=\"1\" style=\"margin:0; padding:0; list-style-type:none; counter-reset:lst-ctn-kix_xvys3dujoaq5-1 0; \">",
"<li align=\"left\" style='{color:#000; font-family:\"Cambria\"; font-size:12pt; line-height:1.5; margin-left:76.5pt; padding-bottom:0; padding-left:-9pt; padding-top:0; text-align:left; counter-increment:lst-ctn-kix_xvys3dujoaq5-1} :before{content:\"\" counter(lst-ctn-kix_xvys3dujoaq5-0, decimal) \".\" counter(lst-ctn-kix_xvys3dujoaq5-1, decimal) \". \"}; '><span style='color:#000; font-family:\"Arial\"; font-size:12pt; font-style:normal; font-weight:400; text-decoration:none; vertical-align:baseline; ' valign=\"baseline\">plug it in</span></li>",
"<li align=\"left\" style='{color:#000; font-family:\"Cambria\"; font-size:12pt; line-height:1.5; margin-left:76.5pt; padding-bottom:0; padding-left:-9pt; padding-top:0; text-align:left; counter-increment:lst-ctn-kix_xvys3dujoaq5-1} :before{content:\"\" counter(lst-ctn-kix_xvys3dujoaq5-0, decimal) \".\" counter(lst-ctn-kix_xvys3dujoaq5-1, decimal) \". \"}; '><span style='color:#000; font-family:\"Arial\"; font-size:12pt; font-style:normal; font-weight:400; text-decoration:none; vertical-align:baseline; ' valign=\"baseline\">If the lamp is now working, go to step 6</span></li>",
"</ol>",
"<ol start=\"3\" style=\"margin:0; padding:0; list-style-type:none; \">",
"<li align=\"left\" style='{color:#000; font-family:\"Cambria\"; font-size:12pt; line-height:1.5; margin-left:40.5pt; padding-bottom:0; padding-left:-9pt; padding-top:0; text-align:left; counter-increment:lst-ctn-kix_xvys3dujoaq5-0} :before{content:\"\" counter(lst-ctn-kix_xvys3dujoaq5-0, decimal) \". \"}; '><span style='color:#000; font-family:\"Arial\"; font-size:12pt; font-style:normal; font-weight:400; text-decoration:none; vertical-align:baseline; ' valign=\"baseline\">Check if there is a bulb in the socket.</span></li>",
"<li align=\"left\" style='{color:#000; font-family:\"Cambria\"; font-size:12pt; line-height:1.5; margin-left:40.5pt; padding-bottom:0; padding-left:-9pt; padding-top:0; text-align:left; counter-increment:lst-ctn-kix_xvys3dujoaq5-0} :before{content:\"\" counter(lst-ctn-kix_xvys3dujoaq5-0, decimal) \". \"}; '><span style='color:#000; font-family:\"Arial\"; font-size:12pt; font-style:normal; font-weight:400; text-decoration:none; vertical-align:baseline; ' valign=\"baseline\">If there isn’t one</span></li>",
"</ol>",
"<ol start=\"1\" style=\"margin:0; padding:0; list-style-type:none; counter-reset:lst-ctn-kix_xvys3dujoaq5-1 0; \">",
"<li align=\"left\" style='{color:#000; font-family:\"Cambria\"; font-size:12pt; line-height:1.5; margin-left:76.5pt; padding-bottom:0; padding-left:-9pt; padding-top:0; text-align:left; counter-increment:lst-ctn-kix_xvys3dujoaq5-1} :before{content:\"\" counter(lst-ctn-kix_xvys3dujoaq5-0, decimal) \".\" counter(lst-ctn-kix_xvys3dujoaq5-1, decimal) \". \"}; '><span style='color:#000; font-family:\"Arial\"; font-size:12pt; font-style:normal; font-weight:400; text-decoration:none; vertical-align:baseline; ' valign=\"baseline\">screw in a known good bulb</span></li>",
"<li align=\"left\" style='{color:#000; font-family:\"Cambria\"; font-size:12pt; line-height:1.5; margin-left:76.5pt; padding-bottom:0; padding-left:-9pt; padding-top:0; text-align:left; counter-increment:lst-ctn-kix_xvys3dujoaq5-1} :before{content:\"\" counter(lst-ctn-kix_xvys3dujoaq5-0, decimal) \".\" counter(lst-ctn-kix_xvys3dujoaq5-1, decimal) \". \"}; '><span style='color:#000; font-family:\"Arial\"; font-size:12pt; font-style:normal; font-weight:400; text-decoration:none; vertical-align:baseline; ' valign=\"baseline\">If the lamp is now working, go to step 6</span></li>",
"</ol>",
"<p align=\"left\" style='color:#000; font-family:\"Cambria\"; font-size:12pt; margin:0; line-height:1.5; margin-left:31.5pt; padding-bottom:0; padding-top:0; text-align:left; text-indent:-9pt; '><span style='font-family:\"Arial\"; font-weight:400; '>&nbsp; Else, &nbsp; &nbsp; &nbsp; &nbsp; </span><span style='color:#000; font-family:\"Arial\"; font-size:12pt; font-style:italic; font-weight:400; text-decoration:none; vertical-align:baseline; ' valign=\"baseline\">&nbsp;[meaning there is already a bulb in the socket]</span></p>",
"<ol start=\"3\" style=\"margin:0; padding:0; list-style-type:none; \">",
"<li align=\"left\" style='{color:#000; font-family:\"Cambria\"; font-size:12pt; line-height:1.5; margin-left:76.5pt; padding-bottom:0; padding-left:-9pt; padding-top:0; text-align:left; counter-increment:lst-ctn-kix_xvys3dujoaq5-1} :before{content:\"\" counter(lst-ctn-kix_xvys3dujoaq5-0, decimal) \".\" counter(lst-ctn-kix_xvys3dujoaq5-1, decimal) \". \"}; '><span style='color:#000; font-family:\"Arial\"; font-size:12pt; font-style:normal; font-weight:400; text-decoration:none; vertical-align:baseline; ' valign=\"baseline\">Check if the bulb in the lamp is burned out</span></li>",
"<li align=\"left\" style='{color:#000; font-family:\"Cambria\"; font-size:12pt; line-height:1.5; margin-left:76.5pt; padding-bottom:0; padding-left:-9pt; padding-top:0; text-align:left; counter-increment:lst-ctn-kix_xvys3dujoaq5-1} :before{content:\"\" counter(lst-ctn-kix_xvys3dujoaq5-0, decimal) \".\" counter(lst-ctn-kix_xvys3dujoaq5-1, decimal) \". \"}; '><span style='color:#000; font-family:\"Arial\"; font-size:12pt; font-style:normal; font-weight:400; text-decoration:none; vertical-align:baseline; ' valign=\"baseline\">If it is, </span></li>",
"</ol>",
"<ol start=\"1\" style=\"margin:0; padding:0; list-style-type:none; counter-reset:lst-ctn-kix_xvys3dujoaq5-2 0; \">",
"<li align=\"left\" style='{color:#000; font-family:\"Cambria\"; font-size:12pt; line-height:1.5; margin-left:112.5pt; padding-bottom:0; padding-left:-9pt; padding-top:0; text-align:left; counter-increment:lst-ctn-kix_xvys3dujoaq5-2} :before{content:\"\" counter(lst-ctn-kix_xvys3dujoaq5-0, decimal) \".\" counter(lst-ctn-kix_xvys3dujoaq5-1, decimal) \".\" counter(lst-ctn-kix_xvys3dujoaq5-2, decimal) \". \"}; '><span style='color:#000; font-family:\"Arial\"; font-size:12pt; font-style:normal; font-weight:400; text-decoration:none; vertical-align:baseline; ' valign=\"baseline\">replace it with a known working bulb </span></li>",
"<li align=\"left\" style='{color:#000; font-family:\"Cambria\"; font-size:12pt; line-height:1.5; margin-left:112.5pt; padding-bottom:0; padding-left:-9pt; padding-top:0; text-align:left; counter-increment:lst-ctn-kix_xvys3dujoaq5-2} :before{content:\"\" counter(lst-ctn-kix_xvys3dujoaq5-0, decimal) \".\" counter(lst-ctn-kix_xvys3dujoaq5-1, decimal) \".\" counter(lst-ctn-kix_xvys3dujoaq5-2, decimal) \". \"}; '><span style='color:#000; font-family:\"Arial\"; font-size:12pt; font-style:normal; font-weight:400; text-decoration:none; vertical-align:baseline; ' valign=\"baseline\">If the lamp is now working, go to step 6</span></li>",
"</ol>",
"<ol start=\"5\" style=\"margin:0; padding:0; list-style-type:none; \">",
"<li align=\"left\" style='{color:#000; font-family:\"Cambria\"; font-size:12pt; line-height:1.5; margin-left:40.5pt; padding-bottom:0; padding-left:-9pt; padding-top:0; text-align:left; counter-increment:lst-ctn-kix_xvys3dujoaq5-0} :before{content:\"\" counter(lst-ctn-kix_xvys3dujoaq5-0, decimal) \". \"}; '><span style='color:#000; font-family:\"Arial\"; font-size:12pt; font-style:normal; font-weight:400; text-decoration:none; vertical-align:baseline; ' valign=\"baseline\">Send the lamp out for repair.</span></li>",
"<li align=\"left\" style='{color:#000; font-family:\"Cambria\"; font-size:12pt; line-height:1.5; margin-left:40.5pt; padding-bottom:0; padding-left:-9pt; padding-top:0; text-align:left; counter-increment:lst-ctn-kix_xvys3dujoaq5-0} :before{content:\"\" counter(lst-ctn-kix_xvys3dujoaq5-0, decimal) \". \"}; '><span style='color:#000; font-family:\"Arial\"; font-size:12pt; font-style:normal; font-weight:400; text-decoration:none; vertical-align:baseline; ' valign=\"baseline\">Stop</span></li>",
"</ol>",
"</td></tr>",
"</tbody></table>",
"<br/>",
"<br/>",
"<br/>",
"<p align=\"left\" style='color:#000; font-family:\"Cambria\"; font-size:12pt; margin:0; line-height:1.15; padding-bottom:0; padding-top:0; text-align:left; '><span style='color:#000; font-family:\"Cambria\"; font-size:12pt; font-style:normal; font-weight:400; text-decoration:none; vertical-align:baseline; ' valign=\"baseline\">1) Suppose we are given a lamp with a loose internal electric contact (we are unaware of the problem, but the lamp does not light). &nbsp;What action do each of the two algorithms recommend? </span></p>",
"<p align=\"left\" style='color:#000; font-family:\"Cambria\"; font-size:12pt; margin:0; line-height:1.15; padding-bottom:0; padding-top:0; text-align:left; '><span style='color:#000; font-family:\"Cambria\"; font-size:12pt; font-style:normal; font-weight:400; text-decoration:none; vertical-align:baseline; ' valign=\"baseline\">2) Are these the right actions for this case?</span></p>",
"<p align=\"left\" style='color:#000; font-family:\"Cambria\"; font-size:12pt; margin:0; line-height:1.15; padding-bottom:0; padding-top:0; text-align:left; '><span style='color:#000; font-family:\"Cambria\"; font-size:12pt; font-style:normal; font-weight:400; text-decoration:none; vertical-align:baseline; ' valign=\"baseline\">3) Repeat 1 &amp; 2 for the case where we have a lamp with a burned out bulb. </span></p>",
"<p align=\"left\" style='color:#000; font-family:\"Cambria\"; font-size:12pt; margin:0; line-height:1.15; padding-bottom:0; padding-top:0; text-align:left; '><span style='color:#000; font-family:\"Cambria\"; font-size:12pt; font-style:normal; font-weight:400; text-decoration:none; vertical-align:baseline; ' valign=\"baseline\">4) Repeat for the case where there is no bulb in the lamp. &nbsp;</span></p>",
"<p align=\"left\" style='color:#000; font-family:\"Cambria\"; font-size:12pt; margin:0; line-height:1.15; padding-bottom:0; padding-top:0; text-align:left; '><span style='color:#000; font-family:\"Cambria\"; font-size:12pt; font-style:normal; font-weight:400; text-decoration:none; vertical-align:baseline; ' valign=\"baseline\">5) Are these algorithms equivalent (meaning they produce the same results in every case)?</span></p>",
"<p align=\"left\" style='color:#000; font-family:\"Cambria\"; font-size:12pt; margin:0; line-height:1.15; padding-bottom:0; padding-top:0; text-align:left; '><span style='color:#000; font-family:\"Cambria\"; font-size:12pt; font-style:normal; font-weight:400; text-decoration:none; vertical-align:baseline; ' valign=\"baseline\">6) Are the algorithms correct (meaning they produce the correct results)? </span></p>",
"<p align=\"left\" style='color:#000; font-family:\"Cambria\"; font-size:12pt; margin:0; line-height:1.15; padding-bottom:0; padding-top:0; text-align:left; '><span style='color:#000; font-family:\"Cambria\"; font-size:12pt; font-style:normal; font-weight:400; text-decoration:none; vertical-align:baseline; ' valign=\"baseline\">7) Which of the two algorithms do you think has the better format? &nbsp;Why?</span></p>",
"<br/>",
"<div>",
"<br/>",
"<p align=\"left\" style='color:#000; font-family:\"Cambria\"; font-size:12pt; margin:0; line-height:1; margin-right:18pt; padding-bottom:36pt; padding-top:0; text-align:left; '><span style='color:#999; font-family:\"Cambria\"; font-size:10pt; font-weight:400; '>Spelman College </span><span style=\"color:#999; font-size:10pt; \">&nbsp; </span><span style='color:#999; font-family:\"Cambria\"; font-size:10pt; font-style:normal; font-weight:400; text-decoration:none; vertical-align:baseline; ' valign=\"baseline\">– &nbsp; Computer and Information Sciences</span></p>",
"</div>",
"</body>",
"</html>",
"",
""
   ]
  },
  {
   "cell_type": "code",
   "execution_count": null,
   "metadata": {
    "deletable": false,
    "editable": true,
    "spelmanCs": {
     "type": "studentSolution"
    }
   },
   "outputs": [],
   "source": [
    "# Add your code here"
   ]
  }
 ],
 "metadata": {
  "kernelspec": {
   "display_name": "Python 3",
   "language": "python",
   "name": "python3"
  },
  "language_info": {
   "codemirror_mode": {
    "name": "ipython",
    "version": 3
   },
   "file_extension": ".py",
   "mimetype": "text/x-python",
   "name": "python",
   "nbconvert_exporter": "python",
   "pygments_lexer": "ipython3",
   "version": "3.6.2"
  },
   "spelmanCs": {
    "version": "1"
   }
 },
 "nbformat": 4,
 "nbformat_minor": 4
}
