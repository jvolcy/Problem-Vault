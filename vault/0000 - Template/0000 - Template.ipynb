{
 "cells": [
  {
   "cell_type": "markdown",
   "metadata": {
    "deletable": false,
    "editable": true,
    "spelmanCs": {
     "data": "",
     "problemDesc": "Template",
     "problemId": "0000",
     "type": "problemStatement"
    }
   },
   "source": [
    "<img align=\"right\" alt=\"CS Logo\" src=\"../../images/cs_logo.png\" style=\"width:243.33px; margin:10px; \"/><p align=\"left\" style='color:#000; font-family:\"Cambria\"; font-size:16pt; margin:0; line-height:0.0; padding-bottom:0; padding-top:0; text-align:left; page-break-after:avoid; font-weight:700; '>0000 - Template</p>\n",
    "\n",
    "_JVolcy_\n",
    "<br><br><br><br>\n",
    "\n",
    "\n",
    "Here is an exampe LaTex Equation:  \n",
    "\n",
    "$y=ax^2+bx+c$\n",
    "\n",
    "\n",
    "\n",
    "Here is an example of a md table:\n",
    "\n",
    "| Syntax      | Description | Test Text     |\n",
    "| :---        | :----:      |  ---:         |\n",
    "| Left        | Centered    | Right         |\n",
    "| Justified   | Text        | Justified     |\n",
    "\n",
    "<br>\n",
    "\n",
    "\n",
    "Here is an example of an html table:  \n",
    "<br>\n",
    "<table align='center', width=\"50%\", style=\"border:1px solid black;\">\n",
    "    <tr>\n",
    "        <td bgcolor=\"#FFF0D0\", style='color:#000; font-size:12pt; border:1px solid black;', align='center', >\n",
    "            <b>Syntax</b>\n",
    "        </td>\n",
    "        <td bgcolor=\"#FFF0D0\", style='color:#000; font-size:12pt; border:1px solid black;', align='center'>\n",
    "            <b>Description</b>\n",
    "        </td>\n",
    "    </tr>\n",
    "    <tr>\n",
    "        <td align='center', style='color:#000; font-size:12pt; border:1px solid black;'>\n",
    "            Header\n",
    "        </td>\n",
    "        <td align='center', style='color:#000; font-size:12pt; border:1px solid black;'>\n",
    "            Title\n",
    "        </td>\n",
    "    </tr>\n",
    "    <tr>\n",
    "        <td align='center', style='color:#000; font-size:12pt; border:1px solid black;'>\n",
    "            Paragraph\n",
    "        </td>\n",
    "        <td align='center', style='color:#000; font-size:12pt; border:1px solid black;'>\n",
    "            Text\n",
    "        </td>\n",
    "    </tr>\n",
    "    <tr>\n",
    "        <td align='center', style='color:#000; font-size:12pt; border:1px solid black;'>\n",
    "            Paragraph2\n",
    "        </td>\n",
    "        <td align='center', style='color:#000; font-size:12pt; border:1px solid black;'>\n",
    "            Text2\n",
    "        </td>\n",
    "    </tr>\n",
    "</table>\n",
    "\n",
    "\n",
    "\n",
    "<br>\n",
    "This is an example of a fenced code block:\n",
    "\n",
    "---\n",
    "```\n",
    "//\n",
    "//  main.cpp  \n",
    "//\n",
    "\n",
    "#include <iostream>\n",
    "\n",
    "int main(int argc, const char * argv[]) {\n",
    "    // insert code here...\n",
    "    std::cout << \"Hello, World!\\n\";\n",
    "    return 0;\n",
    "}\n",
    "\n",
    "```\n",
    "---\n",
    "\n",
    "\n",
    "<br>\n",
    "<table align='left', width=\"100%\">\n",
    "    <tr>\n",
    "        <td bgcolor=\"#E0EEFF\", style='color:#000; font-family:\"Courier\"; font-size:12pt;', align='left'>\n",
    "            This is an example of a sample run.<br>\n",
    "            This is a second <b>line</b>.\n",
    "        </td>\n",
    "    </tr>\n",
    "</table>\n",
    "\n",
    "<br><br><br><br>  \n",
    "\n",
    "Formatted output exampless:  \n",
    "\n",
    "~~The world is flat.~~ We now know that the world is round.  \n",
    "Here are examples of **bold**, and *italic* texts.  \n",
    "Here is an example link:\n",
    "[link name](https://www.example.com)\n",
    "\n",
    "\n",
    "<br><br><br><br><br><br>\n",
    "<span style=\"color:lightgray\">Spelman College  –  Computer and Information Sciences</span>\n"
   ]
  },
  {
   "cell_type": "code",
   "execution_count": null,
   "metadata": {
    "deletable": false,
    "editable": true,
    "spelmanCs": {
     "type": "studentSolution"
    }
   },
   "outputs": [],
   "source": [
    "# Add your code here"
   ]
  },
  {
   "cell_type": "code",
   "execution_count": null,
   "metadata": {},
   "outputs": [],
   "source": []
  }
 ],
 "metadata": {
  "kernelspec": {
   "display_name": "Python 3",
   "language": "python",
   "name": "python3"
  },
  "language_info": {
   "codemirror_mode": {
    "name": "ipython",
    "version": 3
   },
   "file_extension": ".py",
   "mimetype": "text/x-python",
   "name": "python",
   "nbconvert_exporter": "python",
   "pygments_lexer": "ipython3",
   "version": "3.6.8"
  },
  "spelmanCs": {
   "version": "1"
  }
 },
 "nbformat": 4,
 "nbformat_minor": 4
}
