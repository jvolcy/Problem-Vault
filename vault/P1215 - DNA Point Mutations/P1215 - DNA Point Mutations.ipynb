
{
 "cells": [
  {
   "cell_type": "markdown",
   "metadata": {
    "deletable": false,
    "editable": false,
    "spelmanCs": {
     "problemDesc": "DNA Point Mutations",
     "problemId": "P1215",
     "type": "problemStatement",
     "data": ""
    }
   },
   "source": [
    "<html>",
"<head><meta content=\"text/html; charset=utf-8\" http-equiv=\"content-type\"/></head>",
"<body bgcolor=\"#ffffff\" style=\"background-color:#fff; max-width:468pt; padding:54pt 72pt 54pt 72pt; \">",
"<p align=\"left\" style='color:#000; font-family:\"Cambria\"; font-size:12pt; margin:0; line-height:1; padding-bottom:0; padding-top:0; text-align:right; '><span style=\"overflow:hidden; display:inline; margin:0.00px 0.00px; border:0.00px solid #000000; width:243.33px; \"><img align=\"right\" alt=\"CS Logo\" src=\"../../images/cs_logo.png\" style=\"width:243.33px; margin:10px; \"/><br/><br/></span></p>",
"<p align=\"left\" style='color:#000; font-family:\"Cambria\"; font-size:16pt; margin:0; line-height:1; padding-bottom:0; padding-top:0; text-align:left; page-break-after:avoid; font-weight:700; '><span>P1215</span></p>",
"<p align=\"left\" style='color:#000; font-family:\"Cambria\"; font-size:16pt; margin:0; line-height:1; padding-bottom:0; padding-top:0; text-align:left; page-break-after:avoid; font-weight:700; '><span style='color:#000; font-style:normal; text-decoration:none; vertical-align:baseline; font-family:\"Cambria\"; font-size:16pt; font-weight:700; ' valign=\"baseline\">DNA Point Mutations</span></p>",
"<p align=\"left\" style='color:#000; font-family:\"Cambria\"; font-size:12pt; margin:0; line-height:1; padding-bottom:0; padding-top:0; text-align:left; '><span style='color:#000; font-style:normal; text-decoration:none; vertical-align:baseline; font-family:\"Cambria\"; font-size:9pt; font-weight:700; ' valign=\"baseline\">rosalind.info</span></p>",
"<br/>",
"<br/>",
"<h1 align=\"left\" style='color:#000; font-family:\"Cambria\"; font-size:12pt; font-weight:700; line-height:1; padding-bottom:0; padding-top:0; page-break-after:avoid; text-align:left; '><span style=\"overflow:hidden; display:inline-block; margin:0.00px 0.00px; border:0.00px solid #000000; width:306.50px; height:380.90px; \"><img align=\"right\" alt=\"point_mutation.png\" src=\"images/image2.png\" style=\"width:296.50px; height:370.90px; margin:10px; \"/></span></h1>",
"<p align=\"left\" style='color:#000; font-family:\"Cambria\"; font-size:12pt; margin:0; line-height:1; padding-bottom:0; padding-top:0; text-align:left; '><span>A </span><span style=\"font-style:italic; \">mutation</span><span>&nbsp;is simply a mistake that occurs during the creation or copying of &nbsp;DNA. &nbsp;Because DNA is vital to cellular functions, mutations tend to have &nbsp;a ripple effect throughout the cell, sometimes resulting in adverse effects and sometimes producing a beneficial attributes. &nbsp;The simplest type of DNA mutation is a </span><span style=\"font-style:italic; \">point mutation</span><span>, where one letter of a DNA sequence is replaced by another. &nbsp;The number of point mutations between a pair of DNA sequences is called the </span><span style=\"font-style:italic; \">Hamming Distance</span><span style='color:#000; font-style:normal; text-decoration:none; vertical-align:baseline; font-family:\"Cambria\"; font-size:12pt; font-weight:400; ' valign=\"baseline\">&nbsp;between the sequences. &nbsp;For the pair of DNA sequences below, the Hamming Distance is 7. &nbsp;Mismatched symbols are colored red.</span></p>",
"<br/>",
"<p align=\"left\" style='color:#000; font-family:\"Cambria\"; font-size:12pt; margin:0; line-height:1; padding-bottom:0; padding-top:0; text-align:left; '><span style='color:#f00; font-family:\"Courier New\"; font-size:18pt; font-weight:700; '>G</span><span style='font-family:\"Courier New\"; font-size:18pt; font-weight:700; '>A</span><span style='color:#f00; font-family:\"Courier New\"; font-size:18pt; font-weight:700; '>G</span><span style='font-family:\"Courier New\"; font-size:18pt; font-weight:700; '>C</span><span style='color:#f00; font-family:\"Courier New\"; font-size:18pt; font-weight:700; '>C</span><span style='font-family:\"Courier New\"; font-size:18pt; font-weight:700; '>TA</span><span style='color:#f00; font-family:\"Courier New\"; font-size:18pt; font-weight:700; '>C</span><span style='font-family:\"Courier New\"; font-size:18pt; font-weight:700; '>T</span><span style='color:#f00; font-family:\"Courier New\"; font-size:18pt; font-weight:700; '>A</span><span style='font-family:\"Courier New\"; font-size:18pt; font-weight:700; '>ACGG</span><span style='color:#f00; font-family:\"Courier New\"; font-size:18pt; font-weight:700; '>GA</span><span style='color:#000; font-style:normal; text-decoration:none; vertical-align:baseline; font-family:\"Courier New\"; font-size:18pt; font-weight:700; ' valign=\"baseline\">T</span></p>",
"<p align=\"left\" style='color:#000; font-family:\"Cambria\"; font-size:12pt; margin:0; line-height:1; padding-bottom:0; padding-top:0; text-align:left; '><span style='color:#f00; font-family:\"Courier New\"; font-size:18pt; font-weight:700; '>C</span><span style='font-family:\"Courier New\"; font-size:18pt; font-weight:700; '>A</span><span style='color:#f00; font-family:\"Courier New\"; font-size:18pt; font-weight:700; '>T</span><span style='font-family:\"Courier New\"; font-size:18pt; font-weight:700; '>C</span><span style='color:#f00; font-family:\"Courier New\"; font-size:18pt; font-weight:700; '>G</span><span style='font-family:\"Courier New\"; font-size:18pt; font-weight:700; '>TA</span><span style='color:#f00; font-family:\"Courier New\"; font-size:18pt; font-weight:700; '>A</span><span style='font-family:\"Courier New\"; font-size:18pt; font-weight:700; '>T</span><span style='color:#f00; font-family:\"Courier New\"; font-size:18pt; font-weight:700; '>G</span><span style='font-family:\"Courier New\"; font-size:18pt; font-weight:700; '>ACGG</span><span style='color:#f00; font-family:\"Courier New\"; font-size:18pt; font-weight:700; '>CC</span><span style='color:#000; font-style:normal; text-decoration:none; vertical-align:baseline; font-family:\"Courier New\"; font-size:18pt; font-weight:700; ' valign=\"baseline\">T</span></p>",
"<br/>",
"<br/>",
"<p align=\"left\" style='color:#000; font-family:\"Cambria\"; font-size:12pt; margin:0; line-height:1; padding-bottom:0; padding-top:0; text-align:left; '><span>Write a function called </span><span style='font-family:\"Courier New\"; font-weight:400; '>hamming_distance()</span><span>&nbsp;that accepts two strings and returns the Hamming Distance between them. &nbsp;If the strings are not the same length, your function should count unmatched characters of the longer string as a mutation. &nbsp;For example, given the strings </span><span style='font-family:\"Courier New\"; font-weight:400; '>'CTAT'</span><span>&nbsp;and </span><span style='font-family:\"Courier New\"; font-weight:400; '>'CTATGC'</span><span style='color:#000; font-style:normal; text-decoration:none; vertical-align:baseline; font-family:\"Cambria\"; font-size:12pt; font-weight:400; ' valign=\"baseline\">, your function should return 2 because the final 2 characters of the second string are unmatched. &nbsp;Also, your function should be case insensitive (can handle the lower case letters 'a', 'c', 'g' and 't').</span></p>",
"<br/>",
"<br/>",
"<p align=\"left\" style='color:#000; font-family:\"Cambria\"; font-size:12pt; margin:0; line-height:1; padding-bottom:0; padding-top:0; text-align:left; '><span>Write a program that prompts the user for a pair of DNA sequences, calls the </span><span style='font-family:\"Courier New\"; font-weight:400; '>hamming_distance()</span><span style='color:#000; font-style:normal; text-decoration:none; vertical-align:baseline; font-family:\"Cambria\"; font-size:12pt; font-weight:400; ' valign=\"baseline\">&nbsp;functions and prints the distance to the screen.</span></p>",
"<br/>",
"<br/>",
"<br/>",
"<div>",
"<br/>",
"<p align=\"left\" style='color:#000; font-family:\"Cambria\"; font-size:12pt; margin:0; line-height:1; margin-right:18pt; padding-bottom:36pt; padding-top:0; text-align:left; '><span style='font-family:\"Cambria\"; font-weight:400; color:#999; font-size:10pt; '>Spelman College </span><span style=\"color:#999; font-size:10pt; \">&nbsp; </span><span style='font-style:normal; text-decoration:none; vertical-align:baseline; font-family:\"Cambria\"; font-weight:400; color:#999; font-size:10pt; ' valign=\"baseline\">– &nbsp; Computer and Information Sciences</span></p>",
"</div>",
"</body>",
"</html>",
"",
""
   ]
  },
  {
   "cell_type": "code",
   "execution_count": null,
   "metadata": {
    "deletable": false,
    "editable": true,
    "spelmanCs": {
     "type": "studentSolution"
    }
   },
   "outputs": [],
   "source": [
    "# Add your code here"
   ]
  }
 ],
 "metadata": {
  "kernelspec": {
   "display_name": "Python 3",
   "language": "python",
   "name": "python3"
  },
  "language_info": {
   "codemirror_mode": {
    "name": "ipython",
    "version": 3
   },
   "file_extension": ".py",
   "mimetype": "text/x-python",
   "name": "python",
   "nbconvert_exporter": "python",
   "pygments_lexer": "ipython3",
   "version": "3.6.2"
  },
   "spelmanCs": {
    "version": "1"
   }
 },
 "nbformat": 4,
 "nbformat_minor": 4
}
