
{
 "cells": [
  {
   "cell_type": "markdown",
   "metadata": {
    "deletable": false,
    "editable": false,
    "spelmanCs": {
     "problemDesc": "Tire Talk",
     "problemId": "P0720.02",
     "type": "problemStatement",
     "data": ""
    }
   },
   "source": [
    "<html>",
"<head><meta content=\"text/html; charset=utf-8\" http-equiv=\"content-type\"/></head>",
"<body bgcolor=\"#ffffff\" style=\"background-color:#fff; max-width:468pt; padding:54pt 72pt 54pt 72pt; \">",
"<p align=\"left\" style='color:#000; font-family:\"Cambria\"; font-size:16pt; margin:0; line-height:1; padding-bottom:0; padding-top:0; page-break-after:avoid; text-align:right; font-weight:700; '><span style=\"overflow:hidden; display:inline; margin:0.00px 0.00px; border:0.00px solid #000000; width:243.33px; \"><img align=\"right\" alt=\"CS Logo\" src=\"../images/cs_logo.png\" style=\"width:243.33px; margin:10px; \"/><br/><br/></span></p>",
"<p align=\"left\" style='color:#000; font-family:\"Cambria\"; font-size:16pt; margin:0; line-height:1; padding-bottom:0; padding-top:0; page-break-after:avoid; text-align:left; font-weight:700; '><span>P0720.02</span><span style='color:#000; font-family:\"Cambria\"; font-size:16pt; font-style:normal; font-weight:700; text-decoration:none; vertical-align:baseline; ' valign=\"baseline\">&nbsp;- Tire Talk</span></p>",
"<p align=\"left\" style='color:#000; font-family:\"Cambria\"; font-size:12pt; margin:0; line-height:1; padding-bottom:0; padding-top:0; text-align:left; '><span style=\"font-weight:700; font-size:9pt; \">JVolcy</span></p>",
"<br/>",
"<a id=\"t.7558641b32ab8655699b0998329931aa825568a1\"></a><a id=\"t.0\"></a><table style=\"border-collapse:collapse; border-spacing:0; margin-right:auto; \"><tbody><tr height=\"0\" style=\"height:0; \">",
"<td colspan=\"1\" rowspan=\"1\" style=\"padding:5pt 5pt 5pt 5pt; vertical-align:top; width:234pt; border-color:#fff; border-width:1pt; border-style:solid; \" valign=\"top\" width=\"234pt\"><p align=\"center\" style='color:#000; font-family:\"Cambria\"; font-size:12pt; margin:0; line-height:1; padding-bottom:0; padding-top:0; text-align:center; '><span style=\"overflow:hidden; display:inline; margin:0.00px 0.00px; border:0.00px solid #000000; width:308.00px; height:194.00px; \"><img align=\"right\" alt=\"\" src=\"images/image4.png\" style=\"width:309.66px; height:184.00px; margin:10px; \"/></span></p></td>",
"<td colspan=\"1\" rowspan=\"1\" style=\"padding:5pt 5pt 5pt 5pt; vertical-align:top; width:234pt; border-color:#fff; border-width:1pt; border-style:solid; \" valign=\"top\" width=\"234pt\">",
"<br/>",
"<br/>",
"<br/>",
"<br/>",
"<br/>",
"<br/>",
"<br/>",
"<br/>",
"<p align=\"left\" style='color:#000; font-family:\"Cambria\"; font-size:12pt; margin:0; line-height:1; padding-bottom:0; padding-top:0; text-align:left; '><span style=\"font-weight:700; font-size:9pt; \">Figure 1.</span><span style=\"font-size:9pt; \">&nbsp; Key dimensions of a tire, showing the rim radius, </span><span style=\"font-size:9pt; font-style:italic; \">r</span><span style=\"font-style:italic; vertical-align:sub; font-size:9pt; \" valign=\"sub\">i</span><span style=\"font-size:9pt; \">, the outer radius, </span><span style=\"font-size:9pt; font-style:italic; \">r</span><span style=\"font-style:italic; vertical-align:sub; font-size:9pt; \" valign=\"sub\">o</span><span style=\"font-size:9pt; \">&nbsp;and the width, </span><span style=\"font-size:9pt; font-style:italic; \">w</span><span style='color:#000; font-family:\"Cambria\"; font-size:9pt; font-style:normal; font-weight:400; text-decoration:none; vertical-align:baseline; ' valign=\"baseline\">.</span></p>",
"<br/>",
"</td>",
"</tr></tbody></table>",
"<p align=\"justify\" style='color:#000; font-family:\"Cambria\"; font-size:12pt; margin:0; line-height:1; padding-bottom:0; padding-top:0; text-align:justify; '><span>In order to select the right tires for a new car design, engineers often need to calculate the volume of the different available tires. &nbsp;Calculating the volume of a tire is fairly simple. &nbsp;It is simply the area of the outer circle (with radius </span><span style=\"font-style:italic; \">r</span><span style=\"font-style:italic; vertical-align:sub; \" valign=\"sub\">0</span><span>) minus the area of the inner circle (with radius </span><span style=\"font-style:italic; \">r</span><span style=\"font-style:italic; vertical-align:sub; \" valign=\"sub\">i</span><span>) times the width, </span><span style=\"font-style:italic; \">w</span><span style='color:#000; font-family:\"Cambria\"; font-size:12pt; font-style:normal; font-weight:400; text-decoration:none; vertical-align:baseline; ' valign=\"baseline\">, of the tire. &nbsp;See Figure 1 above.</span></p>",
"<br/>",
"<p align=\"justify\" style='color:#000; font-family:\"Cambria\"; font-size:12pt; margin:0; line-height:1; padding-bottom:0; padding-top:0; text-align:justify; '><span style='color:#000; font-family:\"Cambria\"; font-size:12pt; font-style:normal; font-weight:400; text-decoration:none; vertical-align:baseline; ' valign=\"baseline\">The dimensions of a tire are typically printed on the sidewall of the tire. &nbsp;The problem is that the values printed are not exactly the values we need. In fact, the dimensions of a typical tire might look something like this:</span></p>",
"<br/>",
"<p align=\"justify\" style='color:#000; font-family:\"Cambria\"; font-size:12pt; margin:0; line-height:1; padding-bottom:0; padding-top:0; text-align:justify; margin-left:144pt; text-indent:36pt; '><span style='color:#000; font-size:14pt; text-decoration:none; vertical-align:baseline; font-style:italic; font-weight:700; font-family:\"Cambria\"; ' valign=\"baseline\">P205/65R15</span></p>",
"<br/>",
"<p align=\"justify\" style='color:#000; font-family:\"Cambria\"; font-size:12pt; margin:0; line-height:1; padding-bottom:0; padding-top:0; text-align:justify; '><span>In this example, the first value (205) is the tire width, </span><span style=\"font-style:italic; \">w</span><span>, that we need, measured in millimeters. &nbsp;The third number (15) is the diameter, </span><span style=\"font-style:italic; \">d</span><span style=\"font-style:italic; vertical-align:sub; \" valign=\"sub\">i</span><span>, of the inner circle (aka rim diameter). &nbsp;It has units of inches. &nbsp;The middle number (65) is the aspect ratio of the tire, 𝛼. &nbsp;It is defined as the ratio of the wall height, </span><span style=\"font-style:italic; \">h</span><span>, to the width, </span><span style=\"font-style:italic; \">w</span><span style='color:#000; font-family:\"Cambria\"; font-size:12pt; font-style:normal; font-weight:400; text-decoration:none; vertical-align:baseline; ' valign=\"baseline\">, of the tire:</span><span style=\"overflow:hidden; display:inline; margin:0.00px 0.00px; border:0.00px solid #000000; width:208.41px; height:224.00px; \"><img align=\"right\" alt=\"\" src=\"images/image2.png\" style=\"width:199.15px; height:214.00px; margin:10px; \"/></span></p>",
"<br/>",
"<p align=\"justify\" style='color:#000; font-family:\"Cambria\"; font-size:12pt; margin:0; line-height:1; padding-bottom:0; padding-top:0; text-align:justify; margin-left:108pt; '><span style=\"overflow:hidden; display:inline; margin:0.00px 0.00px; border:0.00px solid #000000; width:241.00px; height:47.53px; \"><img align=\"right\" alt=\"\" src=\"images/image3.png\" style=\"width:231.00px; height:37.53px; margin:10px; \"/></span></p>",
"<br/>",
"<a id=\"t.a32e54ed3b1799ccbcf5369b435ebe5bf662366c\"></a><a id=\"t.1\"></a><table style=\"border-collapse:collapse; border-spacing:0; margin-right:auto; \"><tbody><tr height=\"0\" style=\"height:0; \">",
"<td colspan=\"1\" rowspan=\"1\" style=\"padding:0; vertical-align:top; width:286.5pt; border-color:#fff; border-width:1pt; border-style:solid; \" valign=\"top\" width=\"286.5pt\">",
"<br/>",
"<p align=\"justify\" style='color:#000; font-family:\"Cambria\"; font-size:12pt; margin:0; line-height:1; padding-bottom:0; padding-top:0; text-align:justify; '><span style='color:#000; font-family:\"Cambria\"; font-size:12pt; font-style:normal; font-weight:400; text-decoration:none; vertical-align:baseline; ' valign=\"baseline\">The wall height is defined as shown in Figure 2. &nbsp;For our example tire, the wall height can be calculated to be 133.25mm:</span></p>",
"<br/>",
"<p align=\"justify\" style='color:#000; font-family:\"Cambria\"; font-size:12pt; margin:0; line-height:1; padding-bottom:0; padding-top:0; text-align:justify; '><span style=\"font-style:italic; \">h </span><span>= 𝛼 × </span><span style=\"font-style:italic; \">w</span><span style='color:#000; font-family:\"Cambria\"; font-size:12pt; font-style:normal; font-weight:400; text-decoration:none; vertical-align:baseline; ' valign=\"baseline\">&nbsp;/ 100</span></p>",
"<p align=\"justify\" style='color:#000; font-family:\"Cambria\"; font-size:12pt; margin:0; line-height:1; padding-bottom:0; padding-top:0; text-align:justify; '><span style=\"font-style:italic; \">&nbsp; &nbsp;</span><span style='color:#000; font-family:\"Cambria\"; font-size:12pt; font-style:normal; font-weight:400; text-decoration:none; vertical-align:baseline; ' valign=\"baseline\">= 65 × 205mn / 100 </span></p>",
"<p align=\"justify\" style='color:#000; font-family:\"Cambria\"; font-size:12pt; margin:0; line-height:1; padding-bottom:0; padding-top:0; text-align:justify; '><span style='color:#000; font-family:\"Cambria\"; font-size:12pt; font-style:normal; font-weight:400; text-decoration:none; vertical-align:baseline; ' valign=\"baseline\">&nbsp; &nbsp;= 133.25mm</span></p>",
"<br/>",
"<p align=\"left\" style='color:#000; font-family:\"Cambria\"; font-size:12pt; margin:0; line-height:1; padding-bottom:0; padding-top:0; text-align:left; '><span>Use the wall height to calculate </span><span style=\"font-style:italic; \">r</span><span style=\"font-style:italic; vertical-align:sub; \" valign=\"sub\">o</span><span style='color:#000; font-family:\"Cambria\"; font-size:12pt; font-style:normal; font-weight:400; text-decoration:none; vertical-align:baseline; ' valign=\"baseline\">.</span></p>",
"</td>",
"<td colspan=\"1\" rowspan=\"1\" style=\"padding:0; vertical-align:top; width:181.5pt; border-color:#fff; border-width:1pt; border-style:solid; \" valign=\"top\" width=\"181.5pt\">",
"<br/>",
"<br/>",
"<br/>",
"<br/>",
"<br/>",
"<br/>",
"<br/>",
"<br/>",
"<br/>",
"<br/>",
"<br/>",
"<br/>",
"<p align=\"center\" style='color:#000; font-family:\"Cambria\"; font-size:12pt; margin:0; line-height:1; padding-bottom:0; padding-top:0; text-align:center; '><span style=\"font-weight:700; font-size:9pt; \">Figure 2:</span><span style='color:#000; font-family:\"Cambria\"; font-size:9pt; font-style:normal; font-weight:400; text-decoration:none; vertical-align:baseline; ' valign=\"baseline\">&nbsp; Tire wall height</span></p>",
"</td>",
"</tr></tbody></table>",
"<br/>",
"<br/>",
"<p align=\"justify\" style='color:#000; font-family:\"Cambria\"; font-size:12pt; margin:0; line-height:1; padding-bottom:0; padding-top:0; text-align:justify; '><span style='color:#000; font-size:12pt; font-style:normal; text-decoration:none; vertical-align:baseline; font-weight:700; font-family:\"Cambria\"; ' valign=\"baseline\">Part A</span></p>",
"<br/>",
"<p align=\"justify\" style='color:#000; font-family:\"Cambria\"; font-size:12pt; margin:0; line-height:1; padding-bottom:0; padding-top:0; text-align:justify; '><span>Our task is to write a function, </span><span style='font-family:\"Courier New\"; font-weight:400; '>getTireVolume()</span><span>&nbsp;that calculates the volume of a tire given its width in mm, its rim diameter in inches and its aspect ratio, 𝛼. &nbsp;The function should return the computed volume in mm</span><span style=\"vertical-align:super; \" valign=\"super\">3</span><span style='color:#000; font-family:\"Cambria\"; font-size:12pt; font-style:normal; font-weight:400; text-decoration:none; vertical-align:baseline; ' valign=\"baseline\">. &nbsp;You should write a couple of helper functions to do this. &nbsp;Begin with a function that converts inches to millimeters. &nbsp;Then write a function that computes the area of a circle given its radius.</span></p>",
"<br/>",
"<p align=\"justify\" style='color:#000; font-family:\"Cambria\"; font-size:12pt; margin:0; line-height:1; padding-bottom:0; padding-top:0; text-align:justify; '><span>Finally, write a program that prompts the user for a tire’s width in mm, its rim diameter in inches and its aspect ratio. &nbsp;The program should then call the </span><span style='font-family:\"Courier New\"; font-weight:400; '>getTireVolume()</span><span>function to calculate the tire’s volume. &nbsp;Done correctly, only the </span><span style='font-family:\"Courier New\"; font-weight:400; '>main()</span><span>&nbsp;function of your program should contain any </span><span style='font-family:\"Courier New\"; font-weight:400; '>input()</span><span>&nbsp;or </span><span style='font-family:\"Courier New\"; font-weight:400; '>print()</span><span style='color:#000; font-family:\"Cambria\"; font-size:12pt; font-style:normal; font-weight:400; text-decoration:none; vertical-align:baseline; ' valign=\"baseline\">&nbsp;statements. &nbsp;Your program should contain no global variables.</span></p>",
"<br/>",
"<p align=\"justify\" style='color:#000; font-family:\"Cambria\"; font-size:12pt; margin:0; line-height:1; padding-bottom:0; padding-top:0; text-align:justify; '><span style='color:#000; font-family:\"Cambria\"; font-size:12pt; font-style:normal; font-weight:400; text-decoration:none; vertical-align:baseline; ' valign=\"baseline\">Here is a sample session:</span></p>",
"<br/>",
"<br/>",
"<a id=\"t.dd7272227926f142abdb116e28360addd14859e3\"></a><a id=\"t.2\"></a><table style=\"border-collapse:collapse; border-spacing:0; margin-right:auto; \"><tbody><tr height=\"0\" style=\"height:0; \"><td bgcolor=\"#cfe2f3\" colspan=\"1\" rowspan=\"1\" style=\"padding:5pt 5pt 5pt 5pt; background-color:#cfe2f3; vertical-align:top; width:468pt; border-color:#000; border-width:1pt; border-style:solid; \" valign=\"top\" width=\"468pt\">",
"<p align=\"left\" style='color:#000; font-family:\"Cambria\"; font-size:12pt; margin:0; line-height:1; padding-bottom:0; padding-top:0; text-align:left; '><span style='color:#000; font-size:12pt; font-style:normal; text-decoration:none; vertical-align:baseline; font-family:\"Courier New\"; font-weight:400; ' valign=\"baseline\">Welcome to the tire volume calculator.</span></p>",
"<p align=\"left\" style='color:#000; font-family:\"Cambria\"; font-size:12pt; margin:0; line-height:1; padding-bottom:0; padding-top:0; text-align:left; '><span style='font-family:\"Courier New\"; font-weight:400; '>Please enter the tire's width in mm: </span><span style='color:#000; font-family:\"Courier New\"; font-size:12pt; font-style:normal; font-weight:700; text-decoration:none; vertical-align:baseline; ' valign=\"baseline\">205</span></p>",
"<p align=\"left\" style='color:#000; font-family:\"Cambria\"; font-size:12pt; margin:0; line-height:1; padding-bottom:0; padding-top:0; text-align:left; '><span style='font-family:\"Courier New\"; font-weight:400; '>Please enter the tire's rim diameter in inches: </span><span style='color:#000; font-family:\"Courier New\"; font-size:12pt; font-style:normal; font-weight:700; text-decoration:none; vertical-align:baseline; ' valign=\"baseline\">15</span></p>",
"<p align=\"left\" style='color:#000; font-family:\"Cambria\"; font-size:12pt; margin:0; line-height:1; padding-bottom:0; padding-top:0; text-align:left; '><span style='font-family:\"Courier New\"; font-weight:400; '>Please enter the tire's aspect ratio: </span><span style='color:#000; font-family:\"Courier New\"; font-size:12pt; font-style:normal; font-weight:700; text-decoration:none; vertical-align:baseline; ' valign=\"baseline\">65</span></p>",
"<p align=\"left\" style='color:#000; font-family:\"Cambria\"; font-size:12pt; margin:0; line-height:1; padding-bottom:0; padding-top:0; text-align:left; '><span style='color:#000; font-size:12pt; font-style:normal; text-decoration:none; vertical-align:baseline; font-family:\"Courier New\"; font-weight:400; ' valign=\"baseline\">The volume of your tire is 44131150.7 cubic mm.</span></p>",
"</td></tr></tbody></table>",
"<br/>",
"<br/>",
"<br/>",
"<br/>",
"<p align=\"justify\" style='color:#000; font-family:\"Cambria\"; font-size:12pt; margin:0; line-height:1; padding-bottom:0; padding-top:0; text-align:justify; '><span style='color:#000; font-size:12pt; font-style:normal; text-decoration:none; vertical-align:baseline; font-weight:700; font-family:\"Cambria\"; ' valign=\"baseline\">Part B</span></p>",
"<br/>",
"<p align=\"justify\" style='color:#000; font-family:\"Cambria\"; font-size:12pt; margin:0; line-height:1; padding-bottom:0; padding-top:0; text-align:justify; '><span>Repeat Part A. &nbsp;This time, modify the </span><span style='font-family:\"Courier New\"; font-weight:400; '>getTireVolume()</span><span>function so that it accepts a single argument: a string representing the tire’s dimensional specifications as written on the tire’s sidewall. &nbsp;Have the user enter the tire’s size in </span><span style='font-family:\"Courier New\"; font-weight:400; '>main()</span><span style='color:#000; font-family:\"Cambria\"; font-size:12pt; font-style:normal; font-weight:400; text-decoration:none; vertical-align:baseline; ' valign=\"baseline\">. &nbsp;Here is a sample session:</span></p>",
"<br/>",
"<a id=\"t.39ce101df29f2eca708aa4680748204469d99475\"></a><a id=\"t.3\"></a><table style=\"border-collapse:collapse; border-spacing:0; margin-right:auto; \"><tbody><tr height=\"0\" style=\"height:0; \"><td bgcolor=\"#cfe2f3\" colspan=\"1\" rowspan=\"1\" style=\"padding:5pt 5pt 5pt 5pt; background-color:#cfe2f3; vertical-align:top; width:468pt; border-color:#000; border-width:1pt; border-style:solid; \" valign=\"top\" width=\"468pt\">",
"<p align=\"left\" style='color:#000; font-family:\"Cambria\"; font-size:12pt; margin:0; line-height:1; padding-bottom:0; padding-top:0; text-align:left; '><span style='color:#000; font-size:12pt; font-style:normal; text-decoration:none; vertical-align:baseline; font-family:\"Courier New\"; font-weight:400; ' valign=\"baseline\">Welcome to the tire volume calculator.</span></p>",
"<p align=\"left\" style='color:#000; font-family:\"Cambria\"; font-size:12pt; margin:0; line-height:1; padding-bottom:0; padding-top:0; text-align:left; '><span style='font-family:\"Courier New\"; font-weight:400; '>Please enter the tire's size: </span><span style='color:#000; font-family:\"Courier New\"; font-size:12pt; font-style:normal; font-weight:700; text-decoration:none; vertical-align:baseline; ' valign=\"baseline\">P205/65R15</span></p>",
"<p align=\"left\" style='color:#000; font-family:\"Cambria\"; font-size:12pt; margin:0; line-height:1; padding-bottom:0; padding-top:0; text-align:left; '><span style='color:#000; font-size:12pt; font-style:normal; text-decoration:none; vertical-align:baseline; font-family:\"Courier New\"; font-weight:400; ' valign=\"baseline\">The volume of your tire is 44131150.7 cubic mm.</span></p>",
"</td></tr></tbody></table>",
"<br/>",
"<p align=\"justify\" style='color:#000; font-family:\"Cambria\"; font-size:12pt; margin:0; line-height:1; padding-bottom:0; padding-top:0; text-align:justify; '><span style='color:#000; font-family:\"Cambria\"; font-size:12pt; font-style:normal; font-weight:400; text-decoration:none; vertical-align:baseline; ' valign=\"baseline\">As an FYI, the 'P' in the tire size means that the tire is intended for use in a passenger vehicle. &nbsp;The 'R' designation is a construction code. &nbsp;It means that the tire is a steel-belted radial tire. &nbsp;You can assume that the user will only enter values for passenger vehicle radial tires. &nbsp;That is, the input will always be in the format of 'P###/##R##'.</span></p>",
"<br/>",
"<div>",
"<br/>",
"<p align=\"left\" style='color:#000; font-family:\"Cambria\"; font-size:12pt; margin:0; line-height:1; margin-right:18pt; padding-bottom:36pt; padding-top:0; text-align:left; '><span style='color:#999; font-size:10pt; font-weight:400; font-family:\"Cambria\"; '>Spelman College </span><span style=\"color:#999; font-size:10pt; \">&nbsp; </span><span style='font-style:normal; text-decoration:none; vertical-align:baseline; color:#999; font-size:10pt; font-weight:400; font-family:\"Cambria\"; ' valign=\"baseline\">– &nbsp; Computer and Information Sciences</span></p>",
"</div>",
"</body>",
"</html>",
"",
""
   ]
  },
  {
   "cell_type": "code",
   "execution_count": null,
   "metadata": {
    "deletable": false,
    "editable": true,
    "spelmanCs": {
     "type": "studentSolution"
    }
   },
   "outputs": [],
   "source": [
    "# Add your code here"
   ]
  }
 ],
 "metadata": {
  "kernelspec": {
   "display_name": "Python 3",
   "language": "python",
   "name": "python3"
  },
  "language_info": {
   "codemirror_mode": {
    "name": "ipython",
    "version": 3
   },
   "file_extension": ".py",
   "mimetype": "text/x-python",
   "name": "python",
   "nbconvert_exporter": "python",
   "pygments_lexer": "ipython3",
   "version": "3.6.2"
  },
   "spelmanCs": {
    "version": "1"
   }
 },
 "nbformat": 4,
 "nbformat_minor": 4
}
