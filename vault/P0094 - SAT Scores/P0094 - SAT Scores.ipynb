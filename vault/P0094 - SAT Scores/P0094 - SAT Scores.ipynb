
{
 "cells": [
  {
   "cell_type": "markdown",
   "metadata": {
    "deletable": false,
    "editable": false,
    "spelmanCs": {
     "problemDesc": "SAT Scores",
     "problemId": "P0094",
     "type": "problemStatement",
     "data": ""
    }
   },
   "source": [
    "<html>",
"<head><meta content=\"text/html; charset=utf-8\" http-equiv=\"content-type\"/></head>",
"<body bgcolor=\"#ffffff\" style=\"background-color:#fff; max-width:468pt; padding:54pt 72pt 54pt 72pt; \">",
"<p align=\"left\" style='color:#000; font-family:\"Cambria\"; font-size:12pt; margin:0; line-height:1; padding-bottom:0; padding-top:0; text-align:right; '><span style=\"overflow:hidden; display:inline; margin:0.00px 0.00px; border:0.00px solid #000000; width:243.33px; \"><img align=\"right\" alt=\"CS Logo (no bg).png\" src=\"../images/cs_logo.png\" style=\"width:243.33px; margin:10px; \"/><br/><br/></span></p>",
"<p align=\"left\" style='color:#000; font-family:\"Cambria\"; font-size:16pt; margin:0; line-height:1; padding-bottom:0; padding-top:0; text-align:left; page-break-after:avoid; font-weight:700; '><span>P0094</span><span>&nbsp;- SAT Scores</span></p>",
"<p align=\"left\" style='color:#000; font-family:\"Cambria\"; font-size:12pt; margin:0; line-height:1; padding-bottom:0; padding-top:0; text-align:left; '><span style='color:#000; font-family:\"Cambria\"; font-size:9pt; font-style:normal; font-weight:700; text-decoration:none; vertical-align:baseline; ' valign=\"baseline\">JVolcy</span></p>",
"<br/>",
"<br/>",
"<br/>",
"<br/>",
"<p align=\"left\" style='color:#000; font-family:\"Cambria\"; font-size:12pt; margin:0; line-height:1.15; padding-bottom:0; padding-top:0; text-align:left; '><span>The composite SAT score is calculated by combining a student’s Math, Reading and Writing scores (</span><span style=\"font-style:italic; \">mathScore</span><span>, </span><span style=\"font-style:italic; \">readingScore</span><span>&nbsp;and </span><span style=\"font-style:italic; \">writingScore</span><span>, respectively). &nbsp;The possible Math scores are in the range of 200 - 800 whereas, the possible Reading and Writing scores are in the range of 10 to 40. &nbsp;The composite SAT score, </span><span style=\"font-style:italic; \">compositeScore</span><span style='color:#000; font-family:\"Cambria\"; font-size:12pt; font-style:normal; font-weight:400; text-decoration:none; vertical-align:baseline; ' valign=\"baseline\">, is calculated as</span></p>",
"<br/>",
"<p align=\"center\" style='color:#000; font-family:\"Cambria\"; font-size:12pt; margin:0; line-height:1.15; padding-bottom:0; padding-top:0; text-align:center; '><img src=\"images/image1.png\"/></p>",
"<br/>",
"<p align=\"left\" style='color:#000; font-family:\"Cambria\"; font-size:12pt; margin:0; line-height:1.15; padding-bottom:0; padding-top:0; text-align:left; '><span>In a particular year, 1,758,010 students took the SATs. &nbsp;Given a list of the student names, </span><span style=\"font-style:italic; \">names = names</span><span style=\"font-style:italic; vertical-align:sub; \" valign=\"sub\">1</span><span style=\"font-style:italic; \">, names</span><span style=\"font-style:italic; vertical-align:sub; \" valign=\"sub\">2</span><span style=\"font-style:italic; \">, ...names</span><span style=\"font-style:italic; vertical-align:sub; \" valign=\"sub\">1758010</span><span>, their corresponding math scores, </span><span style=\"font-style:italic; \">mathScores = mathScores</span><span style=\"font-style:italic; vertical-align:sub; \" valign=\"sub\">1</span><span style=\"font-style:italic; \">, mathScores</span><span style=\"font-style:italic; vertical-align:sub; \" valign=\"sub\">2</span><span style=\"font-style:italic; \">, ...mathScores</span><span style=\"font-style:italic; vertical-align:sub; \" valign=\"sub\">1758010</span><span>, reading scores, </span><span style=\"font-style:italic; \">readingScores = readingScores</span><span style=\"font-style:italic; vertical-align:sub; \" valign=\"sub\">1</span><span style=\"font-style:italic; \">, readingScores</span><span style=\"font-style:italic; vertical-align:sub; \" valign=\"sub\">2</span><span style=\"font-style:italic; \">, ...readingScores</span><span style=\"font-style:italic; vertical-align:sub; \" valign=\"sub\">1758010</span><span>, and writing scores, </span><span style=\"font-style:italic; \">writingScores = writingScores</span><span style=\"font-style:italic; vertical-align:sub; \" valign=\"sub\">1</span><span style=\"font-style:italic; \">, writingScores</span><span style=\"font-style:italic; vertical-align:sub; \" valign=\"sub\">2</span><span style=\"font-style:italic; \">, ...writingScores</span><span style=\"font-style:italic; vertical-align:sub; \" valign=\"sub\">1758010</span><span style='color:#000; font-family:\"Cambria\"; font-size:12pt; font-style:normal; font-weight:400; text-decoration:none; vertical-align:baseline; ' valign=\"baseline\">, write an algorithm that will print out the names of all students with a composite score above or equal to a user-specified value.</span></p>",
"<br/>",
"<br/>",
"<br/>",
"<br/>",
"<br/>",
"<br/>",
"<br/>",
"<p align=\"left\" style='color:#000; font-family:\"Cambria\"; font-size:12pt; margin:0; line-height:1.15; padding-bottom:0; padding-top:0; text-align:center; '><span style=\"overflow:hidden; display:inline-block; margin:0.00px 0.00px; border:0.00px solid #000000; width:620.00px; height:134.00px; \"><img align=\"right\" alt=\"\" src=\"images/image3.jpg\" style=\"width:610.00px; height:124.00px; margin:10px; \"/></span></p>",
"<div>",
"<br/>",
"<p align=\"left\" style='color:#000; font-family:\"Cambria\"; font-size:12pt; margin:0; line-height:1; margin-right:18pt; padding-bottom:36pt; padding-top:0; text-align:left; '><span style='color:#999; font-family:\"Cambria\"; font-size:10pt; font-weight:400; '>Spelman College </span><span style=\"color:#999; font-size:10pt; \">&nbsp; </span><span style='color:#999; font-family:\"Cambria\"; font-size:10pt; font-weight:400; font-style:normal; text-decoration:none; vertical-align:baseline; ' valign=\"baseline\">– &nbsp; Computer and Information Sciences</span></p>",
"</div>",
"</body>",
"</html>",
"",
""
   ]
  },
  {
   "cell_type": "code",
   "execution_count": null,
   "metadata": {
    "deletable": false,
    "editable": true,
    "spelmanCs": {
     "type": "studentSolution"
    }
   },
   "outputs": [],
   "source": [
    "# Add your code here"
   ]
  }
 ],
 "metadata": {
  "kernelspec": {
   "display_name": "Python 3",
   "language": "python",
   "name": "python3"
  },
  "language_info": {
   "codemirror_mode": {
    "name": "ipython",
    "version": 3
   },
   "file_extension": ".py",
   "mimetype": "text/x-python",
   "name": "python",
   "nbconvert_exporter": "python",
   "pygments_lexer": "ipython3",
   "version": "3.6.2"
  },
   "spelmanCs": {
    "version": "1"
   }
 },
 "nbformat": 4,
 "nbformat_minor": 4
}
