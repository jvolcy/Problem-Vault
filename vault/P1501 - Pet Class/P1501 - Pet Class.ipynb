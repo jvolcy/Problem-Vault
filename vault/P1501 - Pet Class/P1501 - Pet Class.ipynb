
{
 "cells": [
  {
   "cell_type": "markdown",
   "metadata": {
    "deletable": false,
    "editable": false,
    "spelmanCs": {
     "problemDesc": "Pet Class",
     "problemId": "P1501",
     "type": "problemStatement",
     "data": ""
    }
   },
   "source": [
    "<html>",
"<head><meta content=\"text/html; charset=utf-8\" http-equiv=\"content-type\"/></head>",
"<body bgcolor=\"#ffffff\" style=\"background-color:#fff; max-width:468pt; padding:54pt 72pt 54pt 72pt; \">",
"<p align=\"left\" style='color:#000; font-family:\"Cambria\"; font-size:12pt; margin:0; line-height:1; padding-bottom:0; padding-top:0; text-align:right; '><span style=\"overflow:hidden; display:inline; margin:0.00px 0.00px; border:0.00px solid #000000; width:243.33px; \"><img align=\"right\" alt=\"CS Logo\" src=\"../images/cs_logo.png\" style=\"width:243.33px; margin:10px; \"/><br/><br/></span></p>",
"<p align=\"left\" style='color:#000; font-family:\"Cambria\"; font-size:16pt; margin:0; line-height:1; padding-bottom:0; padding-top:0; text-align:left; page-break-after:avoid; font-weight:700; '><span>P1501</span><span style='color:#000; font-family:\"Cambria\"; font-size:16pt; font-style:normal; font-weight:700; text-decoration:none; vertical-align:baseline; ' valign=\"baseline\">&nbsp;- Pet Class</span></p>",
"<p align=\"left\" style='color:#000; font-family:\"Cambria\"; font-size:12pt; margin:0; line-height:1; padding-bottom:0; padding-top:0; text-align:left; '><span style='color:#000; font-size:9pt; font-style:normal; text-decoration:none; vertical-align:baseline; font-family:\"Cambria\"; font-weight:700; ' valign=\"baseline\">(Gaddis, Python, 3e)</span></p>",
"<br/>",
"<br/>",
"<br/>",
"<br/>",
"<p align=\"left\" style='color:#000; font-family:\"Cambria\"; font-size:12pt; margin:0; line-height:1; padding-bottom:0; padding-top:0; text-align:left; '><span>Write a class named </span><span style='font-family:\"Courier New\"; font-weight:400; '>Pet</span><span style='color:#000; font-family:\"Cambria\"; font-size:12pt; font-style:normal; font-weight:400; text-decoration:none; vertical-align:baseline; ' valign=\"baseline\">, which should have the following data attributes:</span></p>",
"<ul style=\"margin:0; padding:0; list-style-type:none; \">",
"<li align=\"left\" style='{color:#000; font-family:\"Cambria\"; font-size:12pt; line-height:1; padding-bottom:0; padding-top:0; text-align:left; margin-left:36pt; padding-left:0} :before{content:\"● \"}; '>",
"<span style='font-family:\"Courier New\"; font-weight:400; '>__name</span><span style='color:#000; font-family:\"Cambria\"; font-size:12pt; font-style:normal; font-weight:400; text-decoration:none; vertical-align:baseline; ' valign=\"baseline\">&nbsp;(for the name of a pet)</span>",
"</li>",
"<li align=\"left\" style='{color:#000; font-family:\"Cambria\"; font-size:12pt; line-height:1; padding-bottom:0; padding-top:0; text-align:left; margin-left:36pt; padding-left:0} :before{content:\"● \"}; '>",
"<span style='font-family:\"Courier New\"; font-weight:400; '>__animal_type</span><span style='color:#000; font-family:\"Cambria\"; font-size:12pt; font-style:normal; font-weight:400; text-decoration:none; vertical-align:baseline; ' valign=\"baseline\">&nbsp;(for the type of animal that a pet is. Example values are ‘Dog’, ‘Cat’, and ‘Bird’)</span>",
"</li>",
"<li align=\"left\" style='{color:#000; font-family:\"Cambria\"; font-size:12pt; line-height:1; padding-bottom:0; padding-top:0; text-align:left; margin-left:36pt; padding-left:0} :before{content:\"● \"}; '>",
"<span style='font-family:\"Courier New\"; font-weight:400; '>__age</span><span style='color:#000; font-family:\"Cambria\"; font-size:12pt; font-style:normal; font-weight:400; text-decoration:none; vertical-align:baseline; ' valign=\"baseline\">&nbsp;(for the pet’s age)</span>",
"</li>",
"</ul>",
"<br/>",
"<p align=\"left\" style='color:#000; font-family:\"Cambria\"; font-size:12pt; margin:0; line-height:1; padding-bottom:0; padding-top:0; text-align:left; '><span>The Pet class should have an </span><span style='font-family:\"Courier New\"; font-weight:400; '>__init__</span><span style='color:#000; font-family:\"Cambria\"; font-size:12pt; font-style:normal; font-weight:400; text-decoration:none; vertical-align:baseline; ' valign=\"baseline\">&nbsp;method that creates these attributes. It should also have the following methods:</span></p>",
"<ul style=\"margin:0; padding:0; list-style-type:none; \">",
"<li align=\"left\" style='{color:#000; font-family:\"Cambria\"; font-size:12pt; line-height:1; padding-bottom:0; padding-top:0; text-align:left; margin-left:36pt; padding-left:0} :before{content:\"● \"}; '>",
"<span style='font-family:\"Courier New\"; font-weight:400; '>set_name</span><span><br/>This method assigns a value to the </span><span style='font-family:\"Courier New\"; font-weight:400; '>__name</span><span style='color:#000; font-family:\"Cambria\"; font-size:12pt; font-style:normal; font-weight:400; text-decoration:none; vertical-align:baseline; ' valign=\"baseline\">&nbsp;field.</span>",
"</li>",
"<li align=\"left\" style='{color:#000; font-family:\"Cambria\"; font-size:12pt; line-height:1; padding-bottom:0; padding-top:0; text-align:left; margin-left:36pt; padding-left:0} :before{content:\"● \"}; '>",
"<span style='font-family:\"Courier New\"; font-weight:400; '>set_animal_type</span><span><br/>This method assigns a value to the </span><span style='font-family:\"Courier New\"; font-weight:400; '>__animal_type</span><span style='color:#000; font-family:\"Cambria\"; font-size:12pt; font-style:normal; font-weight:400; text-decoration:none; vertical-align:baseline; ' valign=\"baseline\">&nbsp;field.</span>",
"</li>",
"<li align=\"left\" style='{color:#000; font-family:\"Cambria\"; font-size:12pt; line-height:1; padding-bottom:0; padding-top:0; text-align:left; margin-left:36pt; padding-left:0} :before{content:\"● \"}; '>",
"<span style='font-family:\"Courier New\"; font-weight:400; '>set_age</span><span><br/>This method assigns a value to the </span><span style='font-family:\"Courier New\"; font-weight:400; '>__age</span><span style='color:#000; font-family:\"Cambria\"; font-size:12pt; font-style:normal; font-weight:400; text-decoration:none; vertical-align:baseline; ' valign=\"baseline\">&nbsp;field.</span>",
"</li>",
"<li align=\"left\" style='{color:#000; font-family:\"Cambria\"; font-size:12pt; line-height:1; padding-bottom:0; padding-top:0; text-align:left; margin-left:36pt; padding-left:0} :before{content:\"● \"}; '>",
"<span style='font-family:\"Courier New\"; font-weight:400; '>get_name</span><span><br/>This method returns the value of the</span><span style='font-family:\"Courier New\"; font-weight:400; '>&nbsp;__ name</span><span style='color:#000; font-family:\"Cambria\"; font-size:12pt; font-style:normal; font-weight:400; text-decoration:none; vertical-align:baseline; ' valign=\"baseline\">&nbsp;field.</span>",
"</li>",
"<li align=\"left\" style='{color:#000; font-family:\"Cambria\"; font-size:12pt; line-height:1; padding-bottom:0; padding-top:0; text-align:left; margin-left:36pt; padding-left:0} :before{content:\"● \"}; '>",
"<span style='font-family:\"Courier New\"; font-weight:400; '>get_animal_type</span><span><br/>This method returns the value of the </span><span style='font-family:\"Courier New\"; font-weight:400; '>__animal_type</span><span style='color:#000; font-family:\"Cambria\"; font-size:12pt; font-style:normal; font-weight:400; text-decoration:none; vertical-align:baseline; ' valign=\"baseline\">&nbsp;field.</span>",
"</li>",
"<li align=\"left\" style='{color:#000; font-family:\"Cambria\"; font-size:12pt; line-height:1; padding-bottom:0; padding-top:0; text-align:left; margin-left:36pt; padding-left:0} :before{content:\"● \"}; '>",
"<span style='font-family:\"Courier New\"; font-weight:400; '>get_age</span><span><br/>This method returns the value of the </span><span style='font-family:\"Courier New\"; font-weight:400; '>__age</span><span style='color:#000; font-family:\"Cambria\"; font-size:12pt; font-style:normal; font-weight:400; text-decoration:none; vertical-align:baseline; ' valign=\"baseline\">&nbsp;field.</span>",
"</li>",
"</ul>",
"<br/>",
"<p align=\"left\" style='color:#000; font-family:\"Cambria\"; font-size:12pt; margin:0; line-height:1; padding-bottom:0; padding-top:0; text-align:left; '><span style='color:#000; font-family:\"Cambria\"; font-size:12pt; font-style:normal; font-weight:400; text-decoration:none; vertical-align:baseline; ' valign=\"baseline\">Once you have written the class, write a program that creates an object of the class and prompts the user to enter the name, type, and age of his or her pet. This data should be</span></p>",
"<p align=\"left\" style='color:#000; font-family:\"Cambria\"; font-size:12pt; margin:0; line-height:1; padding-bottom:0; padding-top:0; text-align:left; '><span style='color:#000; font-family:\"Cambria\"; font-size:12pt; font-style:normal; font-weight:400; text-decoration:none; vertical-align:baseline; ' valign=\"baseline\">stored as the object’s attributes. Use the object’s accessor methods to retrieve the pet’s name, type, and age and display this data on the screen.</span></p>",
"<br/>",
"<br/>",
"<br/>",
"<br/>",
"<br/>",
"<br/>",
"<br/>",
"<br/>",
"<br/>",
"<br/>",
"<br/>",
"<br/>",
"<div>",
"<br/>",
"<p align=\"left\" style='color:#000; font-family:\"Cambria\"; font-size:12pt; margin:0; line-height:1; margin-right:18pt; padding-bottom:36pt; padding-top:0; text-align:left; '><span style='color:#999; font-size:10pt; font-family:\"Cambria\"; font-weight:400; '>Spelman College </span><span style=\"color:#999; font-size:10pt; \">&nbsp; </span><span style='color:#999; font-family:\"Cambria\"; font-size:10pt; font-style:normal; font-weight:400; text-decoration:none; vertical-align:baseline; ' valign=\"baseline\">– &nbsp; Computer and Information Sciences</span></p>",
"</div>",
"</body>",
"</html>",
"",
""
   ]
  },
  {
   "cell_type": "code",
   "execution_count": null,
   "metadata": {
    "deletable": false,
    "editable": true,
    "spelmanCs": {
     "type": "studentSolution"
    }
   },
   "outputs": [],
   "source": [
    "# Add your code here"
   ]
  }
 ],
 "metadata": {
  "kernelspec": {
   "display_name": "Python 3",
   "language": "python",
   "name": "python3"
  },
  "language_info": {
   "codemirror_mode": {
    "name": "ipython",
    "version": 3
   },
   "file_extension": ".py",
   "mimetype": "text/x-python",
   "name": "python",
   "nbconvert_exporter": "python",
   "pygments_lexer": "ipython3",
   "version": "3.6.2"
  },
   "spelmanCs": {
    "version": "1"
   }
 },
 "nbformat": 4,
 "nbformat_minor": 4
}
