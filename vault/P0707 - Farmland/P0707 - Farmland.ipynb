
{
 "cells": [
  {
   "cell_type": "markdown",
   "metadata": {
    "deletable": false,
    "editable": false,
    "spelmanCs": {
     "problemDesc": "Farmland",
     "problemId": "P0707",
     "type": "problemStatement",
     "data": ""
    }
   },
   "source": [
    "<html>",
"<head><meta content=\"text/html; charset=utf-8\" http-equiv=\"content-type\"/></head>",
"<body bgcolor=\"#ffffff\" style=\"background-color:#fff; max-width:468pt; padding:54pt 72pt 54pt 72pt; \">",
"<p align=\"left\" style='color:#000; font-family:\"Cambria\"; font-size:12pt; margin:0; line-height:1; padding-bottom:0; padding-top:0; text-align:right; '><span style=\"overflow:hidden; display:inline; margin:0.00px 0.00px; border:0.00px solid #000000; width:243.33px; \"><img align=\"right\" alt=\"CS Logo\" src=\"../../images/cs_logo.png\" style=\"width:243.33px; margin:10px; \"/><br/><br/></span></p>",
"<p align=\"left\" style='color:#000; font-family:\"Cambria\"; font-size:12pt; margin:0; line-height:1; padding-bottom:0; padding-top:0; text-align:left; '><span style=\"font-size:16pt; font-weight:700; \">P0707</span></p>",
"<p align=\"left\" style='color:#000; font-family:\"Cambria\"; font-size:12pt; margin:0; line-height:1; padding-bottom:0; padding-top:0; text-align:left; '><span style='color:#000; font-family:\"Cambria\"; font-size:16pt; font-style:normal; font-weight:700; text-decoration:none; vertical-align:baseline; ' valign=\"baseline\">Farmland Optimization </span></p>",
"<br/>",
"<br/>",
"<p align=\"left\" style='color:#000; font-family:\"Cambria\"; font-size:12pt; margin:0; line-height:1; padding-bottom:0; padding-top:0; text-align:left; '><span style=\"font-size:10pt; \">A farmer has </span><span style=\"font-size:10pt; font-style:italic; \">N</span><span style='color:#000; font-family:\"Cambria\"; font-size:10pt; font-style:normal; font-weight:400; text-decoration:none; vertical-align:baseline; ' valign=\"baseline\">&nbsp;feet of fencing and wants to fence off a rectangular field that borders a river. He needs no fence along the river. &nbsp;Assuming the fencing can be assembled in 1-foot sections, what is the largest area the farmer can fence off?</span></p>",
"<br/>",
"<p align=\"left\" style='color:#000; font-family:\"Cambria\"; font-size:12pt; margin:0; line-height:1; padding-bottom:0; padding-top:0; text-align:left; '><span style='color:#000; font-family:\"Cambria\"; font-size:10pt; font-style:normal; font-weight:400; text-decoration:none; vertical-align:baseline; ' valign=\"baseline\">The figure below illustrates the problem</span></p>",
"<br/>",
"<p align=\"left\" style='color:#000; font-family:\"Cambria\"; font-size:12pt; margin:0; line-height:1; margin-left:72pt; padding-bottom:0; padding-top:0; text-align:left; text-indent:36pt; '><span style=\"overflow:hidden; display:inline; margin:0.00px 0.00px; border:0.00px solid #000000; width:338.50px; height:136.71px; \"><img align=\"right\" alt=\"\" src=\"images/image1.png\" style=\"width:328.50px; height:126.71px; margin:10px; \"/></span></p>",
"<br/>",
"<p align=\"left\" style='color:#000; font-family:\"Cambria\"; font-size:12pt; margin:0; line-height:1; padding-bottom:0; padding-top:0; text-align:left; '><span style=\"font-size:10pt; \">The farmer wants the greatest area, </span><span style=\"font-size:10pt; font-style:italic; \">A=h*w</span><span style=\"font-size:10pt; \">, as shown. &nbsp;He is restricted to </span><span style=\"font-size:10pt; font-style:italic; \">N</span><span style=\"font-size:10pt; \">&nbsp;feet of fencing. &nbsp;So, to fence off the area shown, </span><span style=\"font-size:10pt; font-style:italic; \">N = 2h + w</span><span style=\"font-size:10pt; \">. &nbsp;The question is what values of </span><span style=\"font-size:10pt; font-style:italic; \">h</span><span style=\"font-size:10pt; \">&nbsp;and </span><span style=\"font-size:10pt; font-style:italic; \">w</span><span style=\"font-size:10pt; \">&nbsp;give the greatest </span><span style=\"font-size:10pt; font-style:italic; \">A</span><span style='color:#000; font-family:\"Cambria\"; font-size:10pt; font-style:normal; font-weight:400; text-decoration:none; vertical-align:baseline; ' valign=\"baseline\">?</span></p>",
"<br/>",
"<p align=\"left\" style='color:#000; font-family:\"Cambria\"; font-size:12pt; margin:0; line-height:1; padding-bottom:0; padding-top:0; text-align:left; '><span style='color:#000; font-family:\"Cambria\"; font-size:10pt; font-style:normal; font-weight:400; text-decoration:none; vertical-align:baseline; ' valign=\"baseline\">Here is an example of two possible fencing options when the farmer has 800 feet of fencing available:</span></p>",
"<br/>",
"<p align=\"left\" style='color:#000; font-family:\"Cambria\"; font-size:12pt; margin:0; line-height:1; padding-bottom:0; padding-top:0; text-align:left; '><span style=\"overflow:hidden; display:inline; margin:0.00px 0.00px; border:0.00px solid #000000; width:310.50px; height:145.00px; \"><img align=\"right\" alt=\"\" src=\"images/image4.png\" style=\"width:300.50px; height:135.00px; margin:10px; \"/></span><span style=\"font-size:10pt; \">&nbsp; </span><span style=\"overflow:hidden; display:inline; margin:0.00px 0.00px; border:0.00px solid #000000; width:312.00px; height:149.50px; \"><img align=\"right\" alt=\"\" src=\"images/image3.png\" style=\"width:302.00px; height:139.50px; margin:10px; \"/></span></p>",
"<br/>",
"<p align=\"left\" style='color:#000; font-family:\"Cambria\"; font-size:12pt; margin:0; line-height:1; padding-bottom:0; padding-top:0; text-align:left; '><span style='color:#000; font-family:\"Cambria\"; font-size:10pt; font-style:normal; font-weight:400; text-decoration:none; vertical-align:baseline; ' valign=\"baseline\">Using the first option of 600x100, &nbsp;the farmer can fence off 60,000 sq ft. &nbsp;Using the second option of 100x350, the farmer can only fence off 35,000 sq ft. &nbsp;</span></p>",
"<br/>",
"<p align=\"left\" style='color:#000; font-family:\"Cambria\"; font-size:12pt; margin:0; line-height:1; padding-bottom:0; padding-top:0; text-align:left; '><span style=\"font-size:10pt; \">Your task is to write a function that, given </span><span style=\"font-size:10pt; font-style:italic; \">N</span><span style=\"font-size:10pt; \">, returns the optimum values of </span><span style=\"font-size:10pt; font-style:italic; \">h</span><span style=\"font-size:10pt; \">&nbsp;and </span><span style=\"font-size:10pt; font-style:italic; \">w</span><span style=\"font-size:10pt; \">. &nbsp;You must then write a program that uses this function. &nbsp;Your program should prompt the farmer for the amount of fencing available (</span><span style=\"font-size:10pt; font-style:italic; \">N</span><span style=\"font-size:10pt; \">). &nbsp;Then, it should print out the values of </span><span style=\"font-size:10pt; font-style:italic; \">h</span><span style=\"font-size:10pt; \">&nbsp;and </span><span style=\"font-size:10pt; font-style:italic; \">w</span><span style='color:#000; font-family:\"Cambria\"; font-size:10pt; font-style:normal; font-weight:400; text-decoration:none; vertical-align:baseline; ' valign=\"baseline\">&nbsp;returned by your function.</span></p>",
"<br/>",
"<br/>",
"<p align=\"left\" style='color:#000; font-family:\"Cambria\"; font-size:12pt; margin:0; line-height:1; padding-bottom:0; padding-top:0; text-align:left; '><span style='color:#000; font-family:\"Cambria\"; font-style:normal; font-weight:700; text-decoration:none; vertical-align:baseline; font-size:10pt; ' valign=\"baseline\">Tips</span></p>",
"<p align=\"left\" style='color:#000; font-family:\"Cambria\"; font-size:12pt; margin:0; line-height:1; padding-bottom:0; padding-top:0; text-align:left; '><span style=\"font-size:10pt; \">Before you can solve this problem, you should be able to list all the different fencing options for a given </span><span style=\"font-size:10pt; font-style:italic; \">N</span><span style=\"font-size:10pt; \">. &nbsp;Begin with paper and pencil and list all possible combinations of </span><span style=\"font-size:10pt; font-style:italic; \">h</span><span style=\"font-size:10pt; \">&nbsp;and </span><span style=\"font-size:10pt; font-style:italic; \">w</span><span style=\"font-size:10pt; \">&nbsp;for </span><span style=\"font-size:10pt; font-style:italic; \">N =10</span><span style=\"font-size:10pt; \">. &nbsp;Repeat for </span><span style=\"font-size:10pt; font-style:italic; \">N=9</span><span style=\"font-size:10pt; \">. &nbsp;Observe the pattern. &nbsp;Use your observations to generalize an algorithm that can produce all &nbsp;possible values of </span><span style=\"font-size:10pt; font-style:italic; \">h</span><span style=\"font-size:10pt; \">&nbsp;and </span><span style=\"font-size:10pt; font-style:italic; \">w</span><span style=\"font-size:10pt; \">&nbsp;for any given </span><span style=\"font-size:10pt; font-style:italic; \">N</span><span style='color:#000; font-family:\"Cambria\"; font-size:10pt; font-style:normal; font-weight:400; text-decoration:none; vertical-align:baseline; ' valign=\"baseline\">.</span></p>",
"<br/>",
"<p align=\"left\" style='color:#000; font-family:\"Cambria\"; font-size:12pt; margin:0; line-height:1; padding-bottom:0; padding-top:0; text-align:left; '><span style=\"font-size:10pt; \">Now, for each </span><span style=\"font-size:10pt; font-style:italic; \">h</span><span style=\"font-size:10pt; \">&nbsp;and </span><span style=\"font-size:10pt; font-style:italic; \">w</span><span style=\"font-size:10pt; \">, you can calculate the resulting area, keeping only the &nbsp;</span><span style=\"font-size:10pt; font-style:italic; \">h</span><span style=\"font-size:10pt; \">&nbsp;and </span><span style=\"font-size:10pt; font-style:italic; \">w</span><span style=\"font-size:10pt; \">&nbsp;combination that generates the greatest area.</span></p>",
"<div>",
"<br/>",
"<p align=\"left\" style='color:#000; font-family:\"Cambria\"; font-size:12pt; margin:0; line-height:1; margin-right:18pt; padding-bottom:36pt; padding-top:0; text-align:left; '><span style='color:#999; font-family:\"Cambria\"; font-style:normal; font-weight:400; text-decoration:none; vertical-align:baseline; font-size:10pt; ' valign=\"baseline\">JVolcy – Spelman College – Computer and Information Sciences</span></p>",
"</div>",
"</body>",
"</html>",
"",
""
   ]
  },
  {
   "cell_type": "code",
   "execution_count": null,
   "metadata": {
    "deletable": false,
    "editable": true,
    "spelmanCs": {
     "type": "studentSolution"
    }
   },
   "outputs": [],
   "source": [
    "# Add your code here"
   ]
  }
 ],
 "metadata": {
  "kernelspec": {
   "display_name": "Python 3",
   "language": "python",
   "name": "python3"
  },
  "language_info": {
   "codemirror_mode": {
    "name": "ipython",
    "version": 3
   },
   "file_extension": ".py",
   "mimetype": "text/x-python",
   "name": "python",
   "nbconvert_exporter": "python",
   "pygments_lexer": "ipython3",
   "version": "3.6.2"
  },
   "spelmanCs": {
    "version": "1"
   }
 },
 "nbformat": 4,
 "nbformat_minor": 4
}
