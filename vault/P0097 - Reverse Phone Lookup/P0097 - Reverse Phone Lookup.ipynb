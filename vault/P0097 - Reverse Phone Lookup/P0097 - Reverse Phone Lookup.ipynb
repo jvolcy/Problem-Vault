
{
 "cells": [
  {
   "cell_type": "markdown",
   "metadata": {
    "deletable": false,
    "editable": false,
    "spelmanCs": {
     "problemDesc": "Reverse Phone Lookup",
     "problemId": "P0097",
     "type": "problemStatement",
     "data": ""
    }
   },
   "source": [
    "<html>",
"<head><meta content=\"text/html; charset=utf-8\" http-equiv=\"content-type\"/></head>",
"<body bgcolor=\"#ffffff\" style=\"background-color:#fff; max-width:468pt; padding:54pt 72pt 54pt 72pt; \">",
"<p align=\"left\" style='color:#000; font-family:\"Cambria\"; font-size:12pt; margin:0; line-height:1; padding-bottom:0; padding-top:0; text-align:right; '><span style=\"overflow:hidden; display:inline; margin:0.00px 0.00px; border:0.00px solid #000000; width:243.33px; \"><img align=\"right\" alt=\"CS Logo\" src=\"../images/cs_logo.png\" style=\"width:243.33px; margin:10px; \"/><br/><br/></span></p>",
"<p align=\"left\" style='color:#000; font-family:\"Cambria\"; font-size:16pt; margin:0; line-height:1; padding-bottom:0; padding-top:0; text-align:left; page-break-after:avoid; font-weight:700; '><span>P0097</span><span>&nbsp;- Reverse Phone Lookup</span></p>",
"<p align=\"left\" style='color:#000; font-family:\"Cambria\"; font-size:12pt; margin:0; line-height:1; padding-bottom:0; padding-top:0; text-align:left; '><span style=\"font-size:9pt; font-weight:700; \">Schneider / JVolcy</span></p>",
"<br/>",
"<br/>",
"<br/>",
"<br/>",
"<p align=\"left\" style='color:#000; font-family:\"Cambria\"; font-size:12pt; margin:0; line-height:1; padding-bottom:0; padding-top:0; text-align:left; '><span style='color:#000; font-family:\"Cambria\"; font-size:12pt; font-style:normal; font-weight:400; text-decoration:none; vertical-align:baseline; ' valign=\"baseline\">You’ve probably had the experience of getting a text message from someone who, apparently, you should know. &nbsp;But since you never bothered to put the person’s contact information in your phone, you only get the sender’s number, not her name. &nbsp;Now, you’re forced to send a “Who is this?” reply. &nbsp;Awkward. &nbsp;The situation can be remedied by doing a “reverse phone lookup”.</span></p>",
"<br/>",
"<p align=\"left\" style='color:#000; font-family:\"Cambria\"; font-size:12pt; margin:0; line-height:1.15; padding-bottom:0; padding-top:0; text-align:left; '><span>Assume the phone book for the local municipality contains a list of 10,000 names, </span><span style=\"font-style:italic; \">name</span><span style=\"font-style:italic; vertical-align:sub; \" valign=\"sub\">1</span><span style=\"font-style:italic; \">, name</span><span style=\"font-style:italic; vertical-align:sub; \" valign=\"sub\">2</span><span style=\"font-style:italic; \">, ...name</span><span style=\"font-style:italic; vertical-align:sub; \" valign=\"sub\">10,000</span><span>, along with their 10,000 associated phone numbers, </span><span style=\"font-style:italic; \">T</span><span style=\"font-style:italic; vertical-align:sub; \" valign=\"sub\">1</span><span style=\"font-style:italic; \">, T</span><span style=\"font-style:italic; vertical-align:sub; \" valign=\"sub\">2</span><span style=\"font-style:italic; \">,….T</span><span style=\"font-style:italic; vertical-align:sub; \" valign=\"sub\">10,000</span><span>. &nbsp;Write an algorithm that, given a telephone number, </span><span style=\"font-style:italic; \">TN</span><span style='color:#000; font-family:\"Cambria\"; font-size:12pt; font-style:normal; font-weight:400; text-decoration:none; vertical-align:baseline; ' valign=\"baseline\">, prints the associated name. &nbsp;If the number is not in the list, an appropriate error message should be printed instead.</span></p>",
"<p align=\"left\" style='color:#000; font-family:\"Cambria\"; font-size:12pt; margin:0; line-height:1.15; padding-bottom:0; padding-top:0; text-align:center; '><span style='color:#00f; font-family:\"Arial\"; font-weight:400; '>&nbsp; </span><span style=\"overflow:hidden; display:inline-block; margin:0.00px 0.00px; border:0.00px solid #000000; width:344.00px; height:284.00px; \"><img align=\"right\" alt=\"\" src=\"images/image2.jpg\" style=\"width:384.00px; height:312.00px; margin:10px; \"/></span></p>",
"<div>",
"<br/>",
"<p align=\"left\" style='color:#000; font-family:\"Cambria\"; font-size:12pt; margin:0; line-height:1; margin-right:18pt; padding-bottom:36pt; padding-top:0; text-align:left; '><span style='color:#999; font-size:10pt; font-family:\"Cambria\"; font-weight:400; '>Spelman College </span><span style=\"color:#999; font-size:10pt; \">&nbsp; </span><span style='font-family:\"Cambria\"; font-style:normal; font-weight:400; text-decoration:none; vertical-align:baseline; color:#999; font-size:10pt; ' valign=\"baseline\">– &nbsp; Computer and Information Sciences</span></p>",
"</div>",
"</body>",
"</html>",
"",
""
   ]
  },
  {
   "cell_type": "code",
   "execution_count": null,
   "metadata": {
    "deletable": false,
    "editable": true,
    "spelmanCs": {
     "type": "studentSolution"
    }
   },
   "outputs": [],
   "source": [
    "# Add your code here"
   ]
  }
 ],
 "metadata": {
  "kernelspec": {
   "display_name": "Python 3",
   "language": "python",
   "name": "python3"
  },
  "language_info": {
   "codemirror_mode": {
    "name": "ipython",
    "version": 3
   },
   "file_extension": ".py",
   "mimetype": "text/x-python",
   "name": "python",
   "nbconvert_exporter": "python",
   "pygments_lexer": "ipython3",
   "version": "3.6.2"
  },
   "spelmanCs": {
    "version": "1"
   }
 },
 "nbformat": 4,
 "nbformat_minor": 4
}
