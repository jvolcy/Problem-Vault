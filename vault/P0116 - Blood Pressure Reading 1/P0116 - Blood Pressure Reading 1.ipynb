
{
 "cells": [
  {
   "cell_type": "markdown",
   "metadata": {
    "deletable": false,
    "editable": false,
    "spelmanCs": {
     "problemDesc": "Blood Pressure Reading 1",
     "problemId": "P0116",
     "type": "problemStatement",
     "data": ""
    }
   },
   "source": [
    "<html>",
"<head><meta content=\"text/html; charset=utf-8\" http-equiv=\"content-type\"/></head>",
"<body bgcolor=\"#ffffff\" style=\"background-color:#fff; max-width:468pt; padding:54pt 72pt 54pt 72pt; \">",
"<p align=\"left\" style='color:#000; font-family:\"Cambria\"; font-size:12pt; margin:0; line-height:1; padding-bottom:0; padding-top:0; text-align:right; '><span style=\"overflow:hidden; display:inline; margin:0.00px 0.00px; border:0.00px solid #000000; width:243.33px; \"><img align=\"right\" alt=\"CS Logo\" src=\"../images/cs_logo.png\" style=\"width:243.33px; margin:10px; \"/><br/><br/></span></p>",
"<p align=\"left\" style='color:#000; font-family:\"Cambria\"; font-size:16pt; margin:0; line-height:1; padding-bottom:0; padding-top:0; text-align:left; page-break-after:avoid; font-weight:700; '><span>P0116</span><span style='color:#000; font-style:normal; text-decoration:none; vertical-align:baseline; font-family:\"Cambria\"; font-weight:700; font-size:16pt; ' valign=\"baseline\">&nbsp;- Blood Pressure Reading 1</span></p>",
"<p align=\"left\" style='color:#000; font-family:\"Cambria\"; font-size:12pt; margin:0; line-height:1; padding-bottom:0; padding-top:0; text-align:left; '><span style='color:#000; font-style:normal; text-decoration:none; vertical-align:baseline; font-family:\"Cambria\"; font-weight:700; font-size:9pt; ' valign=\"baseline\">JVolcy</span></p>",
"<br/>",
"<br/>",
"<br/>",
"<p align=\"left\" style='color:#000; font-family:\"Cambria\"; font-size:12pt; margin:0; line-height:1; padding-bottom:0; padding-top:0; text-align:left; '><span style='color:#000; font-style:normal; text-decoration:none; vertical-align:baseline; font-family:\"Cambria\"; font-size:12pt; font-weight:400; ' valign=\"baseline\">Blood pressure readings consist of a pair of numbers indicating the systolic (upper number) and diastolic (lower number) usually written as SSS/DD. &nbsp;So a blood pressure reading of 120/80 indicates a systolic value of 120 and a diastolic value of 80.</span></p>",
"<p align=\"left\" style='color:#000; font-family:\"Cambria\"; font-size:12pt; margin:0; line-height:1; padding-bottom:0; padding-top:0; text-align:left; '><span style='color:#000; font-style:normal; text-decoration:none; vertical-align:baseline; font-family:\"Cambria\"; font-size:12pt; font-weight:400; ' valign=\"baseline\">Write a program that prompts the user for a blood pressure reading in the form of SSS/DD then prints out the systolic and diastolic values. &nbsp;Assume that the user always enters a 3-digit systolic and a 2-digit diastolic value. &nbsp;Here is an example session:</span></p>",
"<br/>",
"<br/>",
"<a id=\"t.28fed8a65ece6000a14f6820c5209ed43c24ff91\"></a><a id=\"t.0\"></a><table style=\"border-collapse:collapse; border-spacing:0; margin-right:auto; \"><tbody><tr height=\"0\" style=\"height:0; \"><td bgcolor=\"#cfe2f3\" colspan=\"1\" rowspan=\"1\" style=\"padding:5pt 5pt 5pt 5pt; background-color:#cfe2f3; vertical-align:top; width:468pt; border-color:#000; border-width:1pt; border-style:solid; \" valign=\"top\" width=\"468pt\">",
"<p align=\"left\" style='color:#000; font-family:\"Cambria\"; font-size:12pt; margin:0; line-height:1; padding-bottom:0; padding-top:0; text-align:left; '><span style='font-family:\"Courier New\"; font-weight:400; '>Please enter the blood pressure as SSS/DD: </span><span style='color:#000; font-style:normal; text-decoration:none; vertical-align:baseline; font-family:\"Courier New\"; font-size:12pt; font-weight:700; ' valign=\"baseline\">120/80</span></p>",
"<p align=\"left\" style='color:#000; font-family:\"Cambria\"; font-size:12pt; margin:0; line-height:1; padding-bottom:0; padding-top:0; text-align:left; '><span style='color:#000; font-style:normal; text-decoration:none; vertical-align:baseline; font-family:\"Courier New\"; font-size:12pt; font-weight:400; ' valign=\"baseline\">The systolic value is 120.</span></p>",
"<p align=\"left\" style='color:#000; font-family:\"Cambria\"; font-size:12pt; margin:0; line-height:1; padding-bottom:0; padding-top:0; text-align:left; '><span style='color:#000; font-style:normal; text-decoration:none; vertical-align:baseline; font-family:\"Courier New\"; font-size:12pt; font-weight:400; ' valign=\"baseline\">The diastolic value is 80.</span></p>",
"</td></tr></tbody></table>",
"<br/>",
"<br/>",
"<br/>",
"<br/>",
"<br/>",
"<a id=\"t.73a5db79849bccf64f241fdeaba133598f1e99d0\"></a><a id=\"t.1\"></a><table style=\"border-collapse:collapse; border-spacing:0; margin-right:auto; \"><tbody>",
"<tr height=\"47pt\" style=\"height:47pt; \">",
"<td bgcolor=\"#b7b7b7\" colspan=\"1\" rowspan=\"1\" style=\"padding:6pt 6pt 6pt 6pt; background-color:#b7b7b7; border-bottom-color:#000; border-left-color:#fff; border-right-color:#fff; border-top-color:#fff; vertical-align:bottom; width:187pt; border-width:0; border-style:solid; \" valign=\"bottom\" width=\"187pt\"><p align=\"center\" style='color:#000; font-family:\"Cambria\"; font-size:12pt; margin:0; line-height:1; padding-bottom:0; padding-top:0; text-align:center; '><span style='font-family:\"Montserrat\"; font-size:10pt; font-weight:700; '>BLOOD PRESSURE CATEGORY</span></p></td>",
"<td bgcolor=\"#b7b7b7\" colspan=\"1\" rowspan=\"1\" style=\"padding:6pt 6pt 6pt 6pt; background-color:#b7b7b7; border-bottom-color:#000; border-left-color:#fff; border-right-color:#fff; border-top-color:#fff; vertical-align:bottom; width:110.4pt; border-width:0; border-style:solid; \" valign=\"bottom\" width=\"110.4pt\">",
"<p align=\"center\" style='color:#000; font-family:\"Cambria\"; font-size:12pt; margin:0; line-height:1; padding-bottom:0; padding-top:0; text-align:center; '><span style='color:#000; font-style:normal; text-decoration:none; vertical-align:baseline; font-family:\"Montserrat\"; font-size:10pt; font-weight:700; ' valign=\"baseline\">SYSTOLIC mm Hg</span></p>",
"<p align=\"center\" style='color:#000; font-family:\"Cambria\"; font-size:12pt; margin:0; line-height:1; padding-bottom:0; padding-top:0; text-align:center; '><span style='font-family:\"Montserrat\"; font-size:10pt; font-weight:700; '>(upper number)</span></p>",
"</td>",
"<td bgcolor=\"#b7b7b7\" colspan=\"1\" rowspan=\"1\" style=\"padding:5pt 5pt 5pt 5pt; background-color:#b7b7b7; border-bottom-color:#000; border-bottom-width:0; border-left-color:#fff; border-left-width:0; border-right-color:#fff; border-right-width:0; border-top-color:#dee2e6; border-top-width:1pt; vertical-align:top; width:56.6pt; border-style:solid; \" valign=\"top\" width=\"56.6pt\"><p align=\"left\" style='color:#000; font-family:\"Cambria\"; font-size:12pt; margin:0; line-height:1; padding-bottom:0; padding-top:0; text-align:left; '><span style='color:#000; font-style:normal; text-decoration:none; vertical-align:baseline; font-family:\"Montserrat\"; font-size:10pt; font-weight:400; ' valign=\"baseline\">&nbsp;</span></p></td>",
"<td bgcolor=\"#b7b7b7\" colspan=\"1\" rowspan=\"1\" style=\"padding:6pt 6pt 6pt 6pt; background-color:#b7b7b7; border-bottom-color:#000; border-left-color:#fff; border-right-color:#fff; border-top-color:#fff; vertical-align:bottom; width:114pt; border-width:0; border-style:solid; \" valign=\"bottom\" width=\"114pt\">",
"<p align=\"center\" style='color:#000; font-family:\"Cambria\"; font-size:12pt; margin:0; line-height:1; padding-bottom:0; padding-top:0; text-align:center; '><span style='color:#000; font-style:normal; text-decoration:none; vertical-align:baseline; font-family:\"Montserrat\"; font-size:10pt; font-weight:700; ' valign=\"baseline\">DIASTOLIC mm Hg</span></p>",
"<p align=\"center\" style='color:#000; font-family:\"Cambria\"; font-size:12pt; margin:0; line-height:1; padding-bottom:0; padding-top:0; text-align:center; '><span style='font-family:\"Montserrat\"; font-size:10pt; font-weight:700; '>(lower number)</span></p>",
"</td>",
"</tr>",
"<tr height=\"37pt\" style=\"height:37pt; \">",
"<td bgcolor=\"#d9ead3\" colspan=\"1\" rowspan=\"1\" style=\"padding:6pt 6pt 6pt 6pt; background-color:#d9ead3; vertical-align:top; width:187pt; border-color:#000; border-width:0; border-style:solid; \" valign=\"top\" width=\"187pt\"><p align=\"center\" style='color:#000; font-family:\"Cambria\"; font-size:12pt; margin:0; line-height:1; padding-bottom:0; padding-top:0; text-align:center; '><span style='font-family:\"Montserrat\"; font-size:10pt; font-weight:700; '>NORMAL</span></p></td>",
"<td bgcolor=\"#d9ead3\" colspan=\"1\" rowspan=\"1\" style=\"padding:6pt 6pt 6pt 6pt; background-color:#d9ead3; vertical-align:top; width:110.4pt; border-color:#000; border-width:0; border-style:solid; \" valign=\"top\" width=\"110.4pt\"><p align=\"center\" style='color:#000; font-family:\"Cambria\"; font-size:12pt; margin:0; line-height:1; padding-bottom:0; padding-top:0; text-align:center; '><span style='font-family:\"Montserrat\"; font-size:10pt; font-weight:700; '>LESS THAN 120</span></p></td>",
"<td bgcolor=\"#d9ead3\" colspan=\"1\" rowspan=\"1\" style=\"padding:6pt 6pt 6pt 6pt; background-color:#d9ead3; vertical-align:top; width:56.6pt; border-color:#000; border-width:0; border-style:solid; \" valign=\"top\" width=\"56.6pt\"><p align=\"center\" style='color:#000; font-family:\"Cambria\"; font-size:12pt; margin:0; line-height:1; padding-bottom:0; padding-top:0; text-align:center; '><span style='font-family:\"Montserrat\"; font-size:10pt; font-weight:700; '>and</span></p></td>",
"<td bgcolor=\"#d9ead3\" colspan=\"1\" rowspan=\"1\" style=\"padding:6pt 6pt 6pt 6pt; background-color:#d9ead3; vertical-align:top; width:114pt; border-color:#000; border-width:0; border-style:solid; \" valign=\"top\" width=\"114pt\"><p align=\"center\" style='color:#000; font-family:\"Cambria\"; font-size:12pt; margin:0; line-height:1; padding-bottom:0; padding-top:0; text-align:center; '><span style='font-family:\"Montserrat\"; font-size:10pt; font-weight:700; '>LESS THAN 80</span></p></td>",
"</tr>",
"<tr height=\"37pt\" style=\"height:37pt; \">",
"<td bgcolor=\"#fff2cc\" colspan=\"1\" rowspan=\"1\" style=\"padding:6pt 6pt 6pt 6pt; background-color:#fff2cc; vertical-align:top; width:187pt; border-color:#000; border-width:0; border-style:solid; \" valign=\"top\" width=\"187pt\"><p align=\"center\" style='color:#000; font-family:\"Cambria\"; font-size:12pt; margin:0; line-height:1; padding-bottom:0; padding-top:0; text-align:center; '><span style='font-family:\"Montserrat\"; font-size:10pt; font-weight:700; '>ELEVATED</span></p></td>",
"<td bgcolor=\"#fff2cc\" colspan=\"1\" rowspan=\"1\" style=\"padding:6pt 6pt 6pt 6pt; background-color:#fff2cc; vertical-align:top; width:110.4pt; border-color:#000; border-width:0; border-style:solid; \" valign=\"top\" width=\"110.4pt\"><p align=\"center\" style='color:#000; font-family:\"Cambria\"; font-size:12pt; margin:0; line-height:1; padding-bottom:0; padding-top:0; text-align:center; '><span style='font-family:\"Montserrat\"; font-size:10pt; font-weight:700; '>120 – 129</span></p></td>",
"<td bgcolor=\"#fff2cc\" colspan=\"1\" rowspan=\"1\" style=\"padding:6pt 6pt 6pt 6pt; background-color:#fff2cc; vertical-align:top; width:56.6pt; border-color:#000; border-width:0; border-style:solid; \" valign=\"top\" width=\"56.6pt\"><p align=\"center\" style='color:#000; font-family:\"Cambria\"; font-size:12pt; margin:0; line-height:1; padding-bottom:0; padding-top:0; text-align:center; '><span style='font-family:\"Montserrat\"; font-size:10pt; font-weight:700; '>and</span></p></td>",
"<td bgcolor=\"#fff2cc\" colspan=\"1\" rowspan=\"1\" style=\"padding:6pt 6pt 6pt 6pt; background-color:#fff2cc; vertical-align:top; width:114pt; border-color:#000; border-width:0; border-style:solid; \" valign=\"top\" width=\"114pt\"><p align=\"center\" style='color:#000; font-family:\"Cambria\"; font-size:12pt; margin:0; line-height:1; padding-bottom:0; padding-top:0; text-align:center; '><span style='font-family:\"Montserrat\"; font-size:10pt; font-weight:700; '>LESS THAN 80</span></p></td>",
"</tr>",
"<tr height=\"37pt\" style=\"height:37pt; \">",
"<td bgcolor=\"#f6b26b\" colspan=\"1\" rowspan=\"1\" style=\"padding:6pt 6pt 6pt 6pt; background-color:#f6b26b; vertical-align:top; width:187pt; border-color:#000; border-width:0; border-style:solid; \" valign=\"top\" width=\"187pt\">",
"<p align=\"center\" style='color:#000; font-family:\"Cambria\"; font-size:12pt; margin:0; line-height:1; padding-bottom:0; padding-top:0; text-align:center; '><span style='color:#000; font-style:normal; text-decoration:none; vertical-align:baseline; font-family:\"Montserrat\"; font-size:10pt; font-weight:700; ' valign=\"baseline\">HIGH BLOOD PRESSURE</span></p>",
"<p align=\"center\" style='color:#000; font-family:\"Cambria\"; font-size:12pt; margin:0; line-height:1; padding-bottom:0; padding-top:0; text-align:center; '><span style='font-family:\"Montserrat\"; font-size:10pt; font-weight:700; '>(HYPERTENSION) STAGE 1</span></p>",
"</td>",
"<td bgcolor=\"#f6b26b\" colspan=\"1\" rowspan=\"1\" style=\"padding:6pt 6pt 6pt 6pt; background-color:#f6b26b; vertical-align:top; width:110.4pt; border-color:#000; border-width:0; border-style:solid; \" valign=\"top\" width=\"110.4pt\"><p align=\"center\" style='color:#000; font-family:\"Cambria\"; font-size:12pt; margin:0; line-height:1; padding-bottom:0; padding-top:0; text-align:center; '><span style='font-family:\"Montserrat\"; font-size:10pt; font-weight:700; '>130 – 139</span></p></td>",
"<td bgcolor=\"#f6b26b\" colspan=\"1\" rowspan=\"1\" style=\"padding:6pt 6pt 6pt 6pt; background-color:#f6b26b; vertical-align:top; width:56.6pt; border-color:#000; border-width:0; border-style:solid; \" valign=\"top\" width=\"56.6pt\"><p align=\"center\" style='color:#000; font-family:\"Cambria\"; font-size:12pt; margin:0; line-height:1; padding-bottom:0; padding-top:0; text-align:center; '><span style='font-family:\"Montserrat\"; font-size:10pt; font-weight:700; '>or</span></p></td>",
"<td bgcolor=\"#f6b26b\" colspan=\"1\" rowspan=\"1\" style=\"padding:6pt 6pt 6pt 6pt; background-color:#f6b26b; vertical-align:top; width:114pt; border-color:#000; border-width:0; border-style:solid; \" valign=\"top\" width=\"114pt\"><p align=\"center\" style='color:#000; font-family:\"Cambria\"; font-size:12pt; margin:0; line-height:1; padding-bottom:0; padding-top:0; text-align:center; '><span style='font-family:\"Montserrat\"; font-size:10pt; font-weight:700; '>80 – 89</span></p></td>",
"</tr>",
"<tr height=\"37pt\" style=\"height:37pt; \">",
"<td bgcolor=\"#b45f06\" colspan=\"1\" rowspan=\"1\" style=\"padding:6pt 6pt 6pt 6pt; background-color:#b45f06; border-bottom-color:#fff; border-left-color:#fff; border-right-color:#fff; border-top-color:#000; vertical-align:top; width:187pt; border-width:0; border-style:solid; \" valign=\"top\" width=\"187pt\">",
"<p align=\"center\" style='color:#000; font-family:\"Cambria\"; font-size:12pt; margin:0; line-height:1; padding-bottom:0; padding-top:0; text-align:center; '><span style='color:#fff; font-style:normal; text-decoration:none; vertical-align:baseline; font-family:\"Montserrat\"; font-size:10pt; font-weight:700; ' valign=\"baseline\">HIGH BLOOD PRESSURE</span></p>",
"<p align=\"center\" style='color:#000; font-family:\"Cambria\"; font-size:12pt; margin:0; line-height:1; padding-bottom:0; padding-top:0; text-align:center; '><span style='font-family:\"Montserrat\"; font-size:10pt; font-weight:700; color:#fff; '>(HYPERTENSION) STAGE 2</span></p>",
"</td>",
"<td bgcolor=\"#b45f06\" colspan=\"1\" rowspan=\"1\" style=\"padding:6pt 6pt 6pt 6pt; background-color:#b45f06; border-bottom-color:#fff; border-left-color:#fff; border-right-color:#fff; border-top-color:#000; vertical-align:top; width:110.4pt; border-width:0; border-style:solid; \" valign=\"top\" width=\"110.4pt\"><p align=\"center\" style='color:#000; font-family:\"Cambria\"; font-size:12pt; margin:0; line-height:1; padding-bottom:0; padding-top:0; text-align:center; '><span style='font-family:\"Montserrat\"; font-size:10pt; font-weight:700; color:#fff; '>140 OR HIGHER</span></p></td>",
"<td bgcolor=\"#b45f06\" colspan=\"1\" rowspan=\"1\" style=\"padding:6pt 6pt 6pt 6pt; background-color:#b45f06; border-bottom-color:#fff; border-left-color:#fff; border-right-color:#fff; border-top-color:#000; vertical-align:top; width:56.6pt; border-width:0; border-style:solid; \" valign=\"top\" width=\"56.6pt\"><p align=\"center\" style='color:#000; font-family:\"Cambria\"; font-size:12pt; margin:0; line-height:1; padding-bottom:0; padding-top:0; text-align:center; '><span style='font-family:\"Montserrat\"; font-size:10pt; font-weight:700; color:#fff; '>or</span></p></td>",
"<td bgcolor=\"#b45f06\" colspan=\"1\" rowspan=\"1\" style=\"padding:6pt 6pt 6pt 6pt; background-color:#b45f06; border-bottom-color:#fff; border-left-color:#fff; border-right-color:#fff; border-top-color:#000; vertical-align:top; width:114pt; border-width:0; border-style:solid; \" valign=\"top\" width=\"114pt\"><p align=\"center\" style='color:#000; font-family:\"Cambria\"; font-size:12pt; margin:0; line-height:1; padding-bottom:0; padding-top:0; text-align:center; '><span style='font-family:\"Montserrat\"; font-size:10pt; font-weight:700; color:#fff; '>90 OR HIGHER</span></p></td>",
"</tr>",
"<tr height=\"37pt\" style=\"height:37pt; \">",
"<td bgcolor=\"#990000\" colspan=\"1\" rowspan=\"1\" style=\"padding:6pt 6pt 6pt 6pt; background-color:#900; vertical-align:top; width:187pt; border-color:#fff; border-width:0; border-style:solid; \" valign=\"top\" width=\"187pt\">",
"<p align=\"center\" style='color:#000; font-family:\"Cambria\"; font-size:12pt; margin:0; line-height:1; padding-bottom:0; padding-top:0; text-align:center; '><span style='font-family:\"Montserrat\"; font-size:10pt; font-weight:700; color:#fff; '>HYPERTENSIVE CRISIS</span><span style='color:#fff; font-style:normal; text-decoration:none; vertical-align:baseline; font-family:\"Montserrat\"; font-size:10pt; font-weight:700; ' valign=\"baseline\">&nbsp;</span></p>",
"<p align=\"center\" style='color:#000; font-family:\"Cambria\"; font-size:12pt; margin:0; line-height:1; padding-bottom:0; padding-top:0; text-align:center; '><span style='font-family:\"Montserrat\"; font-size:10pt; font-weight:700; color:#fff; '>(consult your doctor immediately)</span></p>",
"</td>",
"<td bgcolor=\"#990000\" colspan=\"1\" rowspan=\"1\" style=\"padding:6pt 6pt 6pt 6pt; background-color:#900; vertical-align:top; width:110.4pt; border-color:#fff; border-width:0; border-style:solid; \" valign=\"top\" width=\"110.4pt\"><p align=\"center\" style='color:#000; font-family:\"Cambria\"; font-size:12pt; margin:0; line-height:1; padding-bottom:0; padding-top:0; text-align:center; '><span style='font-family:\"Montserrat\"; font-size:10pt; font-weight:700; color:#fff; '>HIGHER THAN 180</span></p></td>",
"<td bgcolor=\"#990000\" colspan=\"1\" rowspan=\"1\" style=\"padding:6pt 6pt 6pt 6pt; background-color:#900; vertical-align:top; width:56.6pt; border-color:#fff; border-width:0; border-style:solid; \" valign=\"top\" width=\"56.6pt\"><p align=\"center\" style='color:#000; font-family:\"Cambria\"; font-size:12pt; margin:0; line-height:1; padding-bottom:0; padding-top:0; text-align:center; '><span style='font-family:\"Montserrat\"; font-size:10pt; font-weight:700; color:#fff; '>and/or</span></p></td>",
"<td bgcolor=\"#990000\" colspan=\"1\" rowspan=\"1\" style=\"padding:6pt 6pt 6pt 6pt; background-color:#900; vertical-align:top; width:114pt; border-color:#fff; border-width:0; border-style:solid; \" valign=\"top\" width=\"114pt\">",
"<p align=\"center\" style='color:#000; font-family:\"Cambria\"; font-size:12pt; margin:0; line-height:1; padding-bottom:0; padding-top:0; text-align:center; '><span style='color:#fff; font-style:normal; text-decoration:none; vertical-align:baseline; font-family:\"Montserrat\"; font-size:10pt; font-weight:700; ' valign=\"baseline\">HIGHER THAN 120</span></p>",
"<br/>",
"</td>",
"</tr>",
"</tbody></table>",
"<br/>",
"<p align=\"left\" style='color:#000; font-family:\"Cambria\"; font-size:12pt; margin:0; line-height:1; padding-bottom:0; padding-top:0; text-align:left; '><span style=\"font-size:9pt; \">http://www.heart.org</span></p>",
"<div>",
"<br/>",
"<p align=\"left\" style='color:#000; font-family:\"Cambria\"; font-size:12pt; margin:0; line-height:1; margin-right:18pt; padding-bottom:36pt; padding-top:0; text-align:left; '><span style='color:#999; font-family:\"Cambria\"; font-size:10pt; font-weight:400; '>Spelman College </span><span style=\"color:#999; font-size:10pt; \">&nbsp; </span><span style='color:#999; font-family:\"Cambria\"; font-size:10pt; font-weight:400; font-style:normal; text-decoration:none; vertical-align:baseline; ' valign=\"baseline\">– &nbsp; Computer and Information Sciences</span></p>",
"</div>",
"</body>",
"</html>",
"",
""
   ]
  },
  {
   "cell_type": "code",
   "execution_count": null,
   "metadata": {
    "deletable": false,
    "editable": true,
    "spelmanCs": {
     "type": "studentSolution"
    }
   },
   "outputs": [],
   "source": [
    "# Add your code here"
   ]
  }
 ],
 "metadata": {
  "kernelspec": {
   "display_name": "Python 3",
   "language": "python",
   "name": "python3"
  },
  "language_info": {
   "codemirror_mode": {
    "name": "ipython",
    "version": 3
   },
   "file_extension": ".py",
   "mimetype": "text/x-python",
   "name": "python",
   "nbconvert_exporter": "python",
   "pygments_lexer": "ipython3",
   "version": "3.6.2"
  },
   "spelmanCs": {
    "version": "1"
   }
 },
 "nbformat": 4,
 "nbformat_minor": 4
}
