
{
 "cells": [
  {
   "cell_type": "markdown",
   "metadata": {
    "deletable": false,
    "editable": false,
    "spelmanCs": {
     "problemDesc": "Team Colors",
     "problemId": "P0505",
     "type": "problemStatement",
     "data": ""
    }
   },
   "source": [
    "<html>",
"<head><meta content=\"text/html; charset=utf-8\" http-equiv=\"content-type\"/></head>",
"<body bgcolor=\"#ffffff\" style=\"background-color:#fff; max-width:468pt; padding:54pt 72pt 54pt 72pt; \">",
"<p align=\"left\" style='color:#000; font-family:\"Cambria\"; font-size:12pt; margin:0; line-height:1; padding-bottom:0; padding-top:0; text-align:right; '><span style=\"overflow:hidden; display:inline; margin:0.00px 0.00px; border:0.00px solid #000000; width:243.33px; \"><img align=\"right\" alt=\"CS Logo\" src=\"../images/cs_logo.png\" style=\"width:243.33px; margin:10px; \"/><br/><br/></span></p>",
"<p align=\"left\" style='color:#000; font-family:\"Cambria\"; font-size:16pt; margin:0; line-height:1; padding-bottom:0; padding-top:0; text-align:left; page-break-after:avoid; font-weight:700; '><span>P0505</span><span style='color:#000; font-family:\"Cambria\"; font-size:16pt; font-style:normal; font-weight:700; text-decoration:none; vertical-align:baseline; ' valign=\"baseline\">&nbsp;- Team Colors</span></p>",
"<p align=\"left\" style='color:#000; font-family:\"Cambria\"; font-size:12pt; margin:0; line-height:1; padding-bottom:0; padding-top:0; text-align:left; '><span style='color:#000; font-family:\"Cambria\"; font-size:9pt; font-style:normal; font-weight:700; text-decoration:none; vertical-align:baseline; ' valign=\"baseline\">JVolcy</span></p>",
"<br/>",
"<br/>",
"<br/>",
"<br/>",
"<p align=\"left\" style='color:#000; font-family:\"Cambria\"; font-size:12pt; margin:0; line-height:1; padding-bottom:0; padding-top:0; text-align:left; '><span style='color:#000; font-family:\"Cambria\"; font-size:12pt; font-style:normal; font-weight:400; text-decoration:none; vertical-align:baseline; ' valign=\"baseline\">Write a program that uses nested loops to duplicates each of the figures below using the colors of your favorite sport team.</span></p>",
"<br/>",
"<br/>",
"<br/>",
"<a id=\"t.f3ad5eab4d3303ac309edf3d1b37dc2c44120614\"></a><a id=\"t.0\"></a><table style=\"border-collapse:collapse; border-spacing:0; margin-right:auto; \"><tbody>",
"<tr height=\"0\" style=\"height:0; \">",
"<td colspan=\"1\" rowspan=\"1\" style=\"padding:5pt 5pt 5pt 5pt; vertical-align:top; width:234pt; border-color:#fff; border-width:1pt; border-style:solid; \" valign=\"top\" width=\"234pt\">",
"<h3 align=\"center\" style='color:#000; font-family:\"Cambria\"; font-size:14pt; font-weight:700; line-height:1; padding-bottom:4pt; padding-top:14pt; page-break-after:avoid; text-align:center; '><span style=\"overflow:hidden; display:inline-block; margin:0.00px 0.00px; border:0.00px solid #000000; width:308.00px; height:108.67px; \"><img align=\"right\" alt=\"Screen Shot 2017-10-13 at 9.35.13 AM.png\" src=\"images/image3.png\" style=\"width:298.00px; height:98.67px; margin:10px; \"/></span></h3>",
"<p align=\"center\" style='color:#000; font-family:\"Cambria\"; font-size:12pt; margin:0; line-height:1; padding-bottom:0; padding-top:0; text-align:center; '><span style=\"font-style:italic; \">P0413a</span></p>",
"</td>",
"<td colspan=\"1\" rowspan=\"1\" style=\"padding:5pt 5pt 5pt 5pt; vertical-align:top; width:234pt; border-color:#fff; border-width:1pt; border-style:solid; \" valign=\"top\" width=\"234pt\">",
"<p align=\"center\" style='color:#000; font-family:\"Cambria\"; font-size:12pt; margin:0; line-height:1; padding-bottom:0; padding-top:0; text-align:center; '><span style=\"overflow:hidden; display:inline; margin:0.00px 0.00px; border:0.00px solid #000000; width:178.00px; height:145.00px; \"><img align=\"right\" alt=\"Screen Shot 2017-10-13 at 9.36.12 AM.png\" src=\"images/image4.png\" style=\"width:168.00px; height:135.00px; margin:10px; \"/></span></p>",
"<br/>",
"<p align=\"center\" style='color:#000; font-family:\"Cambria\"; font-size:12pt; margin:0; line-height:1; padding-bottom:0; padding-top:0; text-align:center; '><span style='color:#000; font-family:\"Cambria\"; font-size:12pt; font-style:italic; font-weight:400; text-decoration:none; vertical-align:baseline; ' valign=\"baseline\">P0413b</span></p>",
"</td>",
"</tr>",
"<tr height=\"0\" style=\"height:0; \">",
"<td colspan=\"1\" rowspan=\"1\" style=\"padding:5pt 5pt 5pt 5pt; vertical-align:top; width:234pt; border-color:#fff; border-width:1pt; border-style:solid; \" valign=\"top\" width=\"234pt\">",
"<br/>",
"<br/>",
"<br/>",
"<p align=\"center\" style='color:#000; font-family:\"Cambria\"; font-size:12pt; margin:0; line-height:1; padding-bottom:0; padding-top:0; text-align:center; '><span style=\"overflow:hidden; display:inline; margin:0.00px 0.00px; border:0.00px solid #000000; width:163.00px; height:156.00px; \"><img align=\"right\" alt=\"Screen Shot 2017-10-13 at 9.36.49 AM.png\" src=\"images/image2.png\" style=\"width:153.00px; height:146.00px; margin:10px; \"/></span></p>",
"<p align=\"center\" style='color:#000; font-family:\"Cambria\"; font-size:12pt; margin:0; line-height:1; padding-bottom:0; padding-top:0; text-align:center; '><span style='color:#000; font-family:\"Cambria\"; font-size:12pt; font-style:italic; font-weight:400; text-decoration:none; vertical-align:baseline; ' valign=\"baseline\">P0413c</span></p>",
"</td>",
"<td colspan=\"1\" rowspan=\"1\" style=\"padding:5pt 5pt 5pt 5pt; vertical-align:top; width:234pt; border-color:#fff; border-width:1pt; border-style:solid; \" valign=\"top\" width=\"234pt\">",
"<br/>",
"<br/>",
"</td>",
"</tr>",
"</tbody></table>",
"<br/>",
"<div>",
"<br/>",
"<p align=\"left\" style='color:#000; font-family:\"Cambria\"; font-size:12pt; margin:0; line-height:1; margin-right:18pt; padding-bottom:36pt; padding-top:0; text-align:left; '><span style='color:#999; font-size:10pt; font-family:\"Cambria\"; font-weight:400; '>Spelman College </span><span style=\"color:#999; font-size:10pt; \">&nbsp; </span><span style='color:#999; font-family:\"Cambria\"; font-size:10pt; font-style:normal; font-weight:400; text-decoration:none; vertical-align:baseline; ' valign=\"baseline\">– &nbsp; Computer and Information Sciences</span></p>",
"</div>",
"</body>",
"</html>",
"",
""
   ]
  },
  {
   "cell_type": "code",
   "execution_count": null,
   "metadata": {
    "deletable": false,
    "editable": true,
    "spelmanCs": {
     "type": "studentSolution"
    }
   },
   "outputs": [],
   "source": [
    "# Add your code here"
   ]
  }
 ],
 "metadata": {
  "kernelspec": {
   "display_name": "Python 3",
   "language": "python",
   "name": "python3"
  },
  "language_info": {
   "codemirror_mode": {
    "name": "ipython",
    "version": 3
   },
   "file_extension": ".py",
   "mimetype": "text/x-python",
   "name": "python",
   "nbconvert_exporter": "python",
   "pygments_lexer": "ipython3",
   "version": "3.6.2"
  },
   "spelmanCs": {
    "version": "1"
   }
 },
 "nbformat": 4,
 "nbformat_minor": 4
}
