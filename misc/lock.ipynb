{
 "cells": [
  {
   "cell_type": "markdown",
   "metadata": {},
   "source": [
    "## Problem Lock/UnLock  \n",
    "\n",
    "The problem statement cell for probklems in the problems vault are write-only.\n",
    "This way, a student cannot accidentally delete the problem statement.\n",
    "This makes it difficult to edit the prblem when necessary.  This script allows\n",
    "for a problem to be \"locked\" or \"unlocked\".  \"unlock\" a problem to edit it.\n",
    "Once done, \"lock\" it again prior to distribution.\n",
    "\n",
    "Usage:  \n",
    "* Enter the relative path to the vault/ directory in the cell below.  This is the VAULT_PATH variable.\n",
    "* Run the cell.  This will populate the problem selection box.\n",
    "* Select the problem from the list below.\n",
    "* Select whether it should be locked or unlocked.\n",
    "* Run the lock/unlock code block."
   ]
  },
  {
   "cell_type": "code",
   "execution_count": 109,
   "metadata": {},
   "outputs": [
    {
     "data": {
      "application/vnd.jupyter.widget-view+json": {
       "model_id": "a2d38d64fb8041b095c52495b456b73c",
       "version_major": 2,
       "version_minor": 0
      },
      "text/plain": [
       "Dropdown(description='Select a Problem File:', layout=Layout(width='80%'), options=('../vault/C0708 - Sphere G…"
      ]
     },
     "metadata": {},
     "output_type": "display_data"
    },
    {
     "data": {
      "application/vnd.jupyter.widget-view+json": {
       "model_id": "73d99f7a958946fb891646a73569d8ff",
       "version_major": 2,
       "version_minor": 0
      },
      "text/plain": [
       "Dropdown(description='Action:', layout=Layout(width='200px'), options=('Lock File', 'Unlock File'), style=Desc…"
      ]
     },
     "metadata": {},
     "output_type": "display_data"
    }
   ],
   "source": [
    "VAULT_PATH = '../vault'\n",
    "\n",
    "#set the value of VAULT_PATH above before running this cell\n",
    "\n",
    "import ipywidgets as widgets\n",
    "import os\n",
    "\n",
    "#assume that we are starting in a sister directory to vault/.  That is vault/ is at ../vault/.\n",
    "\n",
    "#initialize the list of ipynb files\n",
    "problemFiles=[]\n",
    "\n",
    "#get a list of directories under vault/.  These should be the problem directories.\n",
    "problemDirs = os.listdir(VAULT_PATH)\n",
    "\n",
    "#go through every directory under vault/\n",
    "for problemDir in problemDirs: \n",
    "    tempDir = VAULT_PATH+\"/\"+problemDir\n",
    "    if os.path.isdir(tempDir):\n",
    "        #find every .ipynb file in the sub-directory of vault/\n",
    "        files = os.listdir(tempDir)\n",
    "        for file in files:\n",
    "            tempFile = tempDir+\"/\"+file\n",
    "            #if the file ends with .ipynb, add it to the files list\n",
    "            if os.path.isfile(tempFile) and tempFile.lower().endswith('.ipynb'):\n",
    "                problemFiles.append(tempFile)\n",
    "\n",
    "#initialize the file list with the .ipynb files found\n",
    "problemFiles.sort()\n",
    "\n",
    "if len(problemFiles) == 0:\n",
    "    print('No .ipynb files found.')\n",
    "else:\n",
    "    fileList = widgets.Dropdown(\n",
    "        options=problemFiles,\n",
    "        value=problemFiles[0],\n",
    "        description='Select a Problem File:',\n",
    "        layout={'width': '80%'},    #width of the content\n",
    "        style={'description_width': 'auto'},  #width of the description text\n",
    "        disabled=False,\n",
    "    )\n",
    "\n",
    "    display(fileList)\n",
    "\n",
    "    #print(fileList.value)\n",
    "    lockUnlock = widgets.Dropdown(\n",
    "        options=['Lock File', 'Unlock File'],\n",
    "        value='Lock File',\n",
    "        description='Action:',\n",
    "        layout={'width': '200px'},    #width of the content\n",
    "        style={'description_width': 'auto'},  #width of the description text\n",
    "        disabled=False,\n",
    "    )\n",
    "    \n",
    "    display(lockUnlock)"
   ]
  },
  {
   "cell_type": "code",
   "execution_count": 112,
   "metadata": {},
   "outputs": [
    {
     "name": "stdout",
     "output_type": "stream",
     "text": [
      "problemStatement\n",
      "Current: editable =  False\n",
      "New: editable =  False\n",
      "\n",
      "====================================\n",
      "\n",
      "studentSolution\n",
      "\n",
      "====================================\n",
      "\n"
     ]
    }
   ],
   "source": [
    "import json\n",
    "\n",
    "jsonFilename = fileList.value\n",
    "\n",
    "jsonFile= open(jsonFilename, 'r')\n",
    "\n",
    "jsonData = json.load(jsonFile)\n",
    "\n",
    "jsonFile.close()\n",
    "\n",
    "#print(jsonData)\n",
    "\n",
    "if lockUnlock.value == 'Lock File':\n",
    "    editable = False\n",
    "else:\n",
    "    editable = True\n",
    "    \n",
    "\n",
    "#look for the 'spelmanCs' metadata tag\n",
    "for i in jsonData['cells']:\n",
    "    try:\n",
    "        cellType = i['metadata']['spelmanCs']['type'] \n",
    "        #print(cellType)\n",
    "        \n",
    "        if (cellType == 'problemStatement'):\n",
    "            print('Current: editable = ', i['metadata']['editable'])\n",
    "            i['metadata']['editable'] = editable\n",
    "            print('New: editable = ', i['metadata']['editable'])\n",
    "\n",
    "            jsonFile = open('output.ipynb', 'w')\n",
    "            json.dump(jsonData, jsonFile)\n",
    "            jsonFile.close()\n",
    "    except:\n",
    "        #no spelmanCs metadata found in the cell\n",
    "        pass\n",
    "    \n",
    "\n",
    "    print('\\n====================================\\n')\n",
    "\n"
   ]
  },
  {
   "cell_type": "code",
   "execution_count": null,
   "metadata": {},
   "outputs": [],
   "source": []
  }
 ],
 "metadata": {
  "kernelspec": {
   "display_name": "Python 3",
   "language": "python",
   "name": "python3"
  },
  "language_info": {
   "codemirror_mode": {
    "name": "ipython",
    "version": 3
   },
   "file_extension": ".py",
   "mimetype": "text/x-python",
   "name": "python",
   "nbconvert_exporter": "python",
   "pygments_lexer": "ipython3",
   "version": "3.6.8"
  }
 },
 "nbformat": 4,
 "nbformat_minor": 4
}
